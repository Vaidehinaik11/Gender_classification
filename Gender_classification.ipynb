{
  "nbformat": 4,
  "nbformat_minor": 0,
  "metadata": {
    "colab": {
      "provenance": []
    },
    "kernelspec": {
      "name": "python3",
      "display_name": "Python 3"
    },
    "language_info": {
      "name": "python"
    }
  },
  "cells": [
    {
      "cell_type": "markdown",
      "source": [
        "# Problem Statement\n",
        "Classifying the person as male or female based on following parameter :\n",
        "1. long_hair - This columns contains 0's and 1's where 1 is \"long hair\" and 0 is \"not long hair\".\n",
        "2. forehead_width_cm - This column is in CM's. This is the width of the forehead.\n",
        "3. forehead_height_cm - This is the height of the forehead and it's in Cm's.\n",
        "4. nose_wide - This column contains 0's and 1's where 1 is \"wide nose\" and 0 is \"not wide nose\".\n",
        "5. nose_long - This column contains 0's and 1's where 1 is \"Long nose\" and 0 is \"not long nose\".\n",
        "6. lips_thin - This column contains 0's and 1's where 1 represents the \"thin lips\" while 0 is \"Not thin lips\".\n",
        "7. distance_nose_to_lip_long - This column contains 0's and 1's where 1 represents the \"long distance between nose and lips\" while 0 is \"short distance between nose and lips\".\n",
        "\n",
        "8. gender(Output variable) - This is either \"Male\" or \"Female\"."
      ],
      "metadata": {
        "id": "wbE2v6M6mEIA"
      }
    },
    {
      "cell_type": "code",
      "execution_count": 1,
      "metadata": {
        "id": "I96RyjjwE00R",
        "colab": {
          "base_uri": "https://localhost:8080/"
        },
        "outputId": "7a321a13-8bb8-466b-9af9-955c14609f30"
      },
      "outputs": [
        {
          "output_type": "stream",
          "name": "stdout",
          "text": [
            "Drive already mounted at /content/drive; to attempt to forcibly remount, call drive.mount(\"/content/drive\", force_remount=True).\n"
          ]
        }
      ],
      "source": [
        "from google.colab import drive\n",
        "drive.mount('/content/drive')"
      ]
    },
    {
      "cell_type": "markdown",
      "source": [
        "## Import all required Libraries"
      ],
      "metadata": {
        "id": "qJgw1RDenWHD"
      }
    },
    {
      "cell_type": "code",
      "source": [
        "import pandas as pd\n",
        "import numpy as np\n",
        "\n",
        "import matplotlib.pyplot as plt\n",
        "import seaborn as sns\n",
        "\n",
        "from sklearn.model_selection import train_test_split, GridSearchCV\n",
        "\n",
        "from sklearn.linear_model import LogisticRegression\n",
        "from sklearn.svm import SVC\n",
        "from sklearn.tree import DecisionTreeClassifier\n",
        "from sklearn.neighbors import KNeighborsClassifier\n",
        "from sklearn.ensemble import RandomForestClassifier, AdaBoostClassifier, GradientBoostingClassifier\n",
        "\n",
        "from sklearn.metrics import classification_report, confusion_matrix, accuracy_score, roc_curve"
      ],
      "metadata": {
        "id": "jQPPFKLMnKHD"
      },
      "execution_count": 2,
      "outputs": []
    },
    {
      "cell_type": "code",
      "source": [
        "import tensorflow as tf\n",
        "\n",
        "from tensorflow.keras.models import Sequential\n",
        "from tensorflow.keras.layers import Dense"
      ],
      "metadata": {
        "id": "YpbiztDU4pNT"
      },
      "execution_count": 3,
      "outputs": []
    },
    {
      "cell_type": "markdown",
      "source": [
        "## Import the Dataset"
      ],
      "metadata": {
        "id": "VOoSqzdBngjI"
      }
    },
    {
      "cell_type": "code",
      "source": [
        "gender = pd.read_csv('/content/drive/MyDrive/Colab Notebooks/gender classification/gender_classification_v7.csv')"
      ],
      "metadata": {
        "id": "kwBf__OOo5Z_"
      },
      "execution_count": 4,
      "outputs": []
    },
    {
      "cell_type": "code",
      "source": [
        "gender.shape"
      ],
      "metadata": {
        "colab": {
          "base_uri": "https://localhost:8080/"
        },
        "id": "uy-p3OfVpHCD",
        "outputId": "cf8782ea-a6ab-4d01-e47f-4de1fcdfb5e8"
      },
      "execution_count": 5,
      "outputs": [
        {
          "output_type": "execute_result",
          "data": {
            "text/plain": [
              "(5001, 8)"
            ]
          },
          "metadata": {},
          "execution_count": 5
        }
      ]
    },
    {
      "cell_type": "code",
      "source": [
        "gender.head()"
      ],
      "metadata": {
        "colab": {
          "base_uri": "https://localhost:8080/",
          "height": 206
        },
        "id": "vYPz1sFwpJmU",
        "outputId": "189a769e-31cc-418a-8887-2603889d4918"
      },
      "execution_count": 6,
      "outputs": [
        {
          "output_type": "execute_result",
          "data": {
            "text/plain": [
              "   long_hair  forehead_width_cm  forehead_height_cm  nose_wide  nose_long  \\\n",
              "0          1               11.8                 6.1          1          0   \n",
              "1          0               14.0                 5.4          0          0   \n",
              "2          0               11.8                 6.3          1          1   \n",
              "3          0               14.4                 6.1          0          1   \n",
              "4          1               13.5                 5.9          0          0   \n",
              "\n",
              "   lips_thin  distance_nose_to_lip_long  gender  \n",
              "0          1                          1    Male  \n",
              "1          1                          0  Female  \n",
              "2          1                          1    Male  \n",
              "3          1                          1    Male  \n",
              "4          0                          0  Female  "
            ],
            "text/html": [
              "\n",
              "  <div id=\"df-d1b533c0-4915-49c0-a53e-27ed4f1e1598\" class=\"colab-df-container\">\n",
              "    <div>\n",
              "<style scoped>\n",
              "    .dataframe tbody tr th:only-of-type {\n",
              "        vertical-align: middle;\n",
              "    }\n",
              "\n",
              "    .dataframe tbody tr th {\n",
              "        vertical-align: top;\n",
              "    }\n",
              "\n",
              "    .dataframe thead th {\n",
              "        text-align: right;\n",
              "    }\n",
              "</style>\n",
              "<table border=\"1\" class=\"dataframe\">\n",
              "  <thead>\n",
              "    <tr style=\"text-align: right;\">\n",
              "      <th></th>\n",
              "      <th>long_hair</th>\n",
              "      <th>forehead_width_cm</th>\n",
              "      <th>forehead_height_cm</th>\n",
              "      <th>nose_wide</th>\n",
              "      <th>nose_long</th>\n",
              "      <th>lips_thin</th>\n",
              "      <th>distance_nose_to_lip_long</th>\n",
              "      <th>gender</th>\n",
              "    </tr>\n",
              "  </thead>\n",
              "  <tbody>\n",
              "    <tr>\n",
              "      <th>0</th>\n",
              "      <td>1</td>\n",
              "      <td>11.8</td>\n",
              "      <td>6.1</td>\n",
              "      <td>1</td>\n",
              "      <td>0</td>\n",
              "      <td>1</td>\n",
              "      <td>1</td>\n",
              "      <td>Male</td>\n",
              "    </tr>\n",
              "    <tr>\n",
              "      <th>1</th>\n",
              "      <td>0</td>\n",
              "      <td>14.0</td>\n",
              "      <td>5.4</td>\n",
              "      <td>0</td>\n",
              "      <td>0</td>\n",
              "      <td>1</td>\n",
              "      <td>0</td>\n",
              "      <td>Female</td>\n",
              "    </tr>\n",
              "    <tr>\n",
              "      <th>2</th>\n",
              "      <td>0</td>\n",
              "      <td>11.8</td>\n",
              "      <td>6.3</td>\n",
              "      <td>1</td>\n",
              "      <td>1</td>\n",
              "      <td>1</td>\n",
              "      <td>1</td>\n",
              "      <td>Male</td>\n",
              "    </tr>\n",
              "    <tr>\n",
              "      <th>3</th>\n",
              "      <td>0</td>\n",
              "      <td>14.4</td>\n",
              "      <td>6.1</td>\n",
              "      <td>0</td>\n",
              "      <td>1</td>\n",
              "      <td>1</td>\n",
              "      <td>1</td>\n",
              "      <td>Male</td>\n",
              "    </tr>\n",
              "    <tr>\n",
              "      <th>4</th>\n",
              "      <td>1</td>\n",
              "      <td>13.5</td>\n",
              "      <td>5.9</td>\n",
              "      <td>0</td>\n",
              "      <td>0</td>\n",
              "      <td>0</td>\n",
              "      <td>0</td>\n",
              "      <td>Female</td>\n",
              "    </tr>\n",
              "  </tbody>\n",
              "</table>\n",
              "</div>\n",
              "    <div class=\"colab-df-buttons\">\n",
              "\n",
              "  <div class=\"colab-df-container\">\n",
              "    <button class=\"colab-df-convert\" onclick=\"convertToInteractive('df-d1b533c0-4915-49c0-a53e-27ed4f1e1598')\"\n",
              "            title=\"Convert this dataframe to an interactive table.\"\n",
              "            style=\"display:none;\">\n",
              "\n",
              "  <svg xmlns=\"http://www.w3.org/2000/svg\" height=\"24px\" viewBox=\"0 -960 960 960\">\n",
              "    <path d=\"M120-120v-720h720v720H120Zm60-500h600v-160H180v160Zm220 220h160v-160H400v160Zm0 220h160v-160H400v160ZM180-400h160v-160H180v160Zm440 0h160v-160H620v160ZM180-180h160v-160H180v160Zm440 0h160v-160H620v160Z\"/>\n",
              "  </svg>\n",
              "    </button>\n",
              "\n",
              "  <style>\n",
              "    .colab-df-container {\n",
              "      display:flex;\n",
              "      gap: 12px;\n",
              "    }\n",
              "\n",
              "    .colab-df-convert {\n",
              "      background-color: #E8F0FE;\n",
              "      border: none;\n",
              "      border-radius: 50%;\n",
              "      cursor: pointer;\n",
              "      display: none;\n",
              "      fill: #1967D2;\n",
              "      height: 32px;\n",
              "      padding: 0 0 0 0;\n",
              "      width: 32px;\n",
              "    }\n",
              "\n",
              "    .colab-df-convert:hover {\n",
              "      background-color: #E2EBFA;\n",
              "      box-shadow: 0px 1px 2px rgba(60, 64, 67, 0.3), 0px 1px 3px 1px rgba(60, 64, 67, 0.15);\n",
              "      fill: #174EA6;\n",
              "    }\n",
              "\n",
              "    .colab-df-buttons div {\n",
              "      margin-bottom: 4px;\n",
              "    }\n",
              "\n",
              "    [theme=dark] .colab-df-convert {\n",
              "      background-color: #3B4455;\n",
              "      fill: #D2E3FC;\n",
              "    }\n",
              "\n",
              "    [theme=dark] .colab-df-convert:hover {\n",
              "      background-color: #434B5C;\n",
              "      box-shadow: 0px 1px 3px 1px rgba(0, 0, 0, 0.15);\n",
              "      filter: drop-shadow(0px 1px 2px rgba(0, 0, 0, 0.3));\n",
              "      fill: #FFFFFF;\n",
              "    }\n",
              "  </style>\n",
              "\n",
              "    <script>\n",
              "      const buttonEl =\n",
              "        document.querySelector('#df-d1b533c0-4915-49c0-a53e-27ed4f1e1598 button.colab-df-convert');\n",
              "      buttonEl.style.display =\n",
              "        google.colab.kernel.accessAllowed ? 'block' : 'none';\n",
              "\n",
              "      async function convertToInteractive(key) {\n",
              "        const element = document.querySelector('#df-d1b533c0-4915-49c0-a53e-27ed4f1e1598');\n",
              "        const dataTable =\n",
              "          await google.colab.kernel.invokeFunction('convertToInteractive',\n",
              "                                                    [key], {});\n",
              "        if (!dataTable) return;\n",
              "\n",
              "        const docLinkHtml = 'Like what you see? Visit the ' +\n",
              "          '<a target=\"_blank\" href=https://colab.research.google.com/notebooks/data_table.ipynb>data table notebook</a>'\n",
              "          + ' to learn more about interactive tables.';\n",
              "        element.innerHTML = '';\n",
              "        dataTable['output_type'] = 'display_data';\n",
              "        await google.colab.output.renderOutput(dataTable, element);\n",
              "        const docLink = document.createElement('div');\n",
              "        docLink.innerHTML = docLinkHtml;\n",
              "        element.appendChild(docLink);\n",
              "      }\n",
              "    </script>\n",
              "  </div>\n",
              "\n",
              "\n",
              "<div id=\"df-193cab77-91de-4874-b8dd-d376a0216db0\">\n",
              "  <button class=\"colab-df-quickchart\" onclick=\"quickchart('df-193cab77-91de-4874-b8dd-d376a0216db0')\"\n",
              "            title=\"Suggest charts.\"\n",
              "            style=\"display:none;\">\n",
              "\n",
              "<svg xmlns=\"http://www.w3.org/2000/svg\" height=\"24px\"viewBox=\"0 0 24 24\"\n",
              "     width=\"24px\">\n",
              "    <g>\n",
              "        <path d=\"M19 3H5c-1.1 0-2 .9-2 2v14c0 1.1.9 2 2 2h14c1.1 0 2-.9 2-2V5c0-1.1-.9-2-2-2zM9 17H7v-7h2v7zm4 0h-2V7h2v10zm4 0h-2v-4h2v4z\"/>\n",
              "    </g>\n",
              "</svg>\n",
              "  </button>\n",
              "\n",
              "<style>\n",
              "  .colab-df-quickchart {\n",
              "      --bg-color: #E8F0FE;\n",
              "      --fill-color: #1967D2;\n",
              "      --hover-bg-color: #E2EBFA;\n",
              "      --hover-fill-color: #174EA6;\n",
              "      --disabled-fill-color: #AAA;\n",
              "      --disabled-bg-color: #DDD;\n",
              "  }\n",
              "\n",
              "  [theme=dark] .colab-df-quickchart {\n",
              "      --bg-color: #3B4455;\n",
              "      --fill-color: #D2E3FC;\n",
              "      --hover-bg-color: #434B5C;\n",
              "      --hover-fill-color: #FFFFFF;\n",
              "      --disabled-bg-color: #3B4455;\n",
              "      --disabled-fill-color: #666;\n",
              "  }\n",
              "\n",
              "  .colab-df-quickchart {\n",
              "    background-color: var(--bg-color);\n",
              "    border: none;\n",
              "    border-radius: 50%;\n",
              "    cursor: pointer;\n",
              "    display: none;\n",
              "    fill: var(--fill-color);\n",
              "    height: 32px;\n",
              "    padding: 0;\n",
              "    width: 32px;\n",
              "  }\n",
              "\n",
              "  .colab-df-quickchart:hover {\n",
              "    background-color: var(--hover-bg-color);\n",
              "    box-shadow: 0 1px 2px rgba(60, 64, 67, 0.3), 0 1px 3px 1px rgba(60, 64, 67, 0.15);\n",
              "    fill: var(--button-hover-fill-color);\n",
              "  }\n",
              "\n",
              "  .colab-df-quickchart-complete:disabled,\n",
              "  .colab-df-quickchart-complete:disabled:hover {\n",
              "    background-color: var(--disabled-bg-color);\n",
              "    fill: var(--disabled-fill-color);\n",
              "    box-shadow: none;\n",
              "  }\n",
              "\n",
              "  .colab-df-spinner {\n",
              "    border: 2px solid var(--fill-color);\n",
              "    border-color: transparent;\n",
              "    border-bottom-color: var(--fill-color);\n",
              "    animation:\n",
              "      spin 1s steps(1) infinite;\n",
              "  }\n",
              "\n",
              "  @keyframes spin {\n",
              "    0% {\n",
              "      border-color: transparent;\n",
              "      border-bottom-color: var(--fill-color);\n",
              "      border-left-color: var(--fill-color);\n",
              "    }\n",
              "    20% {\n",
              "      border-color: transparent;\n",
              "      border-left-color: var(--fill-color);\n",
              "      border-top-color: var(--fill-color);\n",
              "    }\n",
              "    30% {\n",
              "      border-color: transparent;\n",
              "      border-left-color: var(--fill-color);\n",
              "      border-top-color: var(--fill-color);\n",
              "      border-right-color: var(--fill-color);\n",
              "    }\n",
              "    40% {\n",
              "      border-color: transparent;\n",
              "      border-right-color: var(--fill-color);\n",
              "      border-top-color: var(--fill-color);\n",
              "    }\n",
              "    60% {\n",
              "      border-color: transparent;\n",
              "      border-right-color: var(--fill-color);\n",
              "    }\n",
              "    80% {\n",
              "      border-color: transparent;\n",
              "      border-right-color: var(--fill-color);\n",
              "      border-bottom-color: var(--fill-color);\n",
              "    }\n",
              "    90% {\n",
              "      border-color: transparent;\n",
              "      border-bottom-color: var(--fill-color);\n",
              "    }\n",
              "  }\n",
              "</style>\n",
              "\n",
              "  <script>\n",
              "    async function quickchart(key) {\n",
              "      const quickchartButtonEl =\n",
              "        document.querySelector('#' + key + ' button');\n",
              "      quickchartButtonEl.disabled = true;  // To prevent multiple clicks.\n",
              "      quickchartButtonEl.classList.add('colab-df-spinner');\n",
              "      try {\n",
              "        const charts = await google.colab.kernel.invokeFunction(\n",
              "            'suggestCharts', [key], {});\n",
              "      } catch (error) {\n",
              "        console.error('Error during call to suggestCharts:', error);\n",
              "      }\n",
              "      quickchartButtonEl.classList.remove('colab-df-spinner');\n",
              "      quickchartButtonEl.classList.add('colab-df-quickchart-complete');\n",
              "    }\n",
              "    (() => {\n",
              "      let quickchartButtonEl =\n",
              "        document.querySelector('#df-193cab77-91de-4874-b8dd-d376a0216db0 button');\n",
              "      quickchartButtonEl.style.display =\n",
              "        google.colab.kernel.accessAllowed ? 'block' : 'none';\n",
              "    })();\n",
              "  </script>\n",
              "</div>\n",
              "    </div>\n",
              "  </div>\n"
            ]
          },
          "metadata": {},
          "execution_count": 6
        }
      ]
    },
    {
      "cell_type": "code",
      "source": [
        "gender.tail()"
      ],
      "metadata": {
        "colab": {
          "base_uri": "https://localhost:8080/",
          "height": 206
        },
        "id": "0ntkwqGZpM_W",
        "outputId": "f5a9a809-304b-4563-f6d6-5e9230775cdf"
      },
      "execution_count": 7,
      "outputs": [
        {
          "output_type": "execute_result",
          "data": {
            "text/plain": [
              "      long_hair  forehead_width_cm  forehead_height_cm  nose_wide  nose_long  \\\n",
              "4996          1               13.6                 5.1          0          0   \n",
              "4997          1               11.9                 5.4          0          0   \n",
              "4998          1               12.9                 5.7          0          0   \n",
              "4999          1               13.2                 6.2          0          0   \n",
              "5000          1               15.4                 5.4          1          1   \n",
              "\n",
              "      lips_thin  distance_nose_to_lip_long  gender  \n",
              "4996          0                          0  Female  \n",
              "4997          0                          0  Female  \n",
              "4998          0                          0  Female  \n",
              "4999          0                          0  Female  \n",
              "5000          1                          1    Male  "
            ],
            "text/html": [
              "\n",
              "  <div id=\"df-3129137b-a489-449f-ba8e-59e7f0232b09\" class=\"colab-df-container\">\n",
              "    <div>\n",
              "<style scoped>\n",
              "    .dataframe tbody tr th:only-of-type {\n",
              "        vertical-align: middle;\n",
              "    }\n",
              "\n",
              "    .dataframe tbody tr th {\n",
              "        vertical-align: top;\n",
              "    }\n",
              "\n",
              "    .dataframe thead th {\n",
              "        text-align: right;\n",
              "    }\n",
              "</style>\n",
              "<table border=\"1\" class=\"dataframe\">\n",
              "  <thead>\n",
              "    <tr style=\"text-align: right;\">\n",
              "      <th></th>\n",
              "      <th>long_hair</th>\n",
              "      <th>forehead_width_cm</th>\n",
              "      <th>forehead_height_cm</th>\n",
              "      <th>nose_wide</th>\n",
              "      <th>nose_long</th>\n",
              "      <th>lips_thin</th>\n",
              "      <th>distance_nose_to_lip_long</th>\n",
              "      <th>gender</th>\n",
              "    </tr>\n",
              "  </thead>\n",
              "  <tbody>\n",
              "    <tr>\n",
              "      <th>4996</th>\n",
              "      <td>1</td>\n",
              "      <td>13.6</td>\n",
              "      <td>5.1</td>\n",
              "      <td>0</td>\n",
              "      <td>0</td>\n",
              "      <td>0</td>\n",
              "      <td>0</td>\n",
              "      <td>Female</td>\n",
              "    </tr>\n",
              "    <tr>\n",
              "      <th>4997</th>\n",
              "      <td>1</td>\n",
              "      <td>11.9</td>\n",
              "      <td>5.4</td>\n",
              "      <td>0</td>\n",
              "      <td>0</td>\n",
              "      <td>0</td>\n",
              "      <td>0</td>\n",
              "      <td>Female</td>\n",
              "    </tr>\n",
              "    <tr>\n",
              "      <th>4998</th>\n",
              "      <td>1</td>\n",
              "      <td>12.9</td>\n",
              "      <td>5.7</td>\n",
              "      <td>0</td>\n",
              "      <td>0</td>\n",
              "      <td>0</td>\n",
              "      <td>0</td>\n",
              "      <td>Female</td>\n",
              "    </tr>\n",
              "    <tr>\n",
              "      <th>4999</th>\n",
              "      <td>1</td>\n",
              "      <td>13.2</td>\n",
              "      <td>6.2</td>\n",
              "      <td>0</td>\n",
              "      <td>0</td>\n",
              "      <td>0</td>\n",
              "      <td>0</td>\n",
              "      <td>Female</td>\n",
              "    </tr>\n",
              "    <tr>\n",
              "      <th>5000</th>\n",
              "      <td>1</td>\n",
              "      <td>15.4</td>\n",
              "      <td>5.4</td>\n",
              "      <td>1</td>\n",
              "      <td>1</td>\n",
              "      <td>1</td>\n",
              "      <td>1</td>\n",
              "      <td>Male</td>\n",
              "    </tr>\n",
              "  </tbody>\n",
              "</table>\n",
              "</div>\n",
              "    <div class=\"colab-df-buttons\">\n",
              "\n",
              "  <div class=\"colab-df-container\">\n",
              "    <button class=\"colab-df-convert\" onclick=\"convertToInteractive('df-3129137b-a489-449f-ba8e-59e7f0232b09')\"\n",
              "            title=\"Convert this dataframe to an interactive table.\"\n",
              "            style=\"display:none;\">\n",
              "\n",
              "  <svg xmlns=\"http://www.w3.org/2000/svg\" height=\"24px\" viewBox=\"0 -960 960 960\">\n",
              "    <path d=\"M120-120v-720h720v720H120Zm60-500h600v-160H180v160Zm220 220h160v-160H400v160Zm0 220h160v-160H400v160ZM180-400h160v-160H180v160Zm440 0h160v-160H620v160ZM180-180h160v-160H180v160Zm440 0h160v-160H620v160Z\"/>\n",
              "  </svg>\n",
              "    </button>\n",
              "\n",
              "  <style>\n",
              "    .colab-df-container {\n",
              "      display:flex;\n",
              "      gap: 12px;\n",
              "    }\n",
              "\n",
              "    .colab-df-convert {\n",
              "      background-color: #E8F0FE;\n",
              "      border: none;\n",
              "      border-radius: 50%;\n",
              "      cursor: pointer;\n",
              "      display: none;\n",
              "      fill: #1967D2;\n",
              "      height: 32px;\n",
              "      padding: 0 0 0 0;\n",
              "      width: 32px;\n",
              "    }\n",
              "\n",
              "    .colab-df-convert:hover {\n",
              "      background-color: #E2EBFA;\n",
              "      box-shadow: 0px 1px 2px rgba(60, 64, 67, 0.3), 0px 1px 3px 1px rgba(60, 64, 67, 0.15);\n",
              "      fill: #174EA6;\n",
              "    }\n",
              "\n",
              "    .colab-df-buttons div {\n",
              "      margin-bottom: 4px;\n",
              "    }\n",
              "\n",
              "    [theme=dark] .colab-df-convert {\n",
              "      background-color: #3B4455;\n",
              "      fill: #D2E3FC;\n",
              "    }\n",
              "\n",
              "    [theme=dark] .colab-df-convert:hover {\n",
              "      background-color: #434B5C;\n",
              "      box-shadow: 0px 1px 3px 1px rgba(0, 0, 0, 0.15);\n",
              "      filter: drop-shadow(0px 1px 2px rgba(0, 0, 0, 0.3));\n",
              "      fill: #FFFFFF;\n",
              "    }\n",
              "  </style>\n",
              "\n",
              "    <script>\n",
              "      const buttonEl =\n",
              "        document.querySelector('#df-3129137b-a489-449f-ba8e-59e7f0232b09 button.colab-df-convert');\n",
              "      buttonEl.style.display =\n",
              "        google.colab.kernel.accessAllowed ? 'block' : 'none';\n",
              "\n",
              "      async function convertToInteractive(key) {\n",
              "        const element = document.querySelector('#df-3129137b-a489-449f-ba8e-59e7f0232b09');\n",
              "        const dataTable =\n",
              "          await google.colab.kernel.invokeFunction('convertToInteractive',\n",
              "                                                    [key], {});\n",
              "        if (!dataTable) return;\n",
              "\n",
              "        const docLinkHtml = 'Like what you see? Visit the ' +\n",
              "          '<a target=\"_blank\" href=https://colab.research.google.com/notebooks/data_table.ipynb>data table notebook</a>'\n",
              "          + ' to learn more about interactive tables.';\n",
              "        element.innerHTML = '';\n",
              "        dataTable['output_type'] = 'display_data';\n",
              "        await google.colab.output.renderOutput(dataTable, element);\n",
              "        const docLink = document.createElement('div');\n",
              "        docLink.innerHTML = docLinkHtml;\n",
              "        element.appendChild(docLink);\n",
              "      }\n",
              "    </script>\n",
              "  </div>\n",
              "\n",
              "\n",
              "<div id=\"df-37914b8d-635b-4c9f-a6dd-2393cb00023b\">\n",
              "  <button class=\"colab-df-quickchart\" onclick=\"quickchart('df-37914b8d-635b-4c9f-a6dd-2393cb00023b')\"\n",
              "            title=\"Suggest charts.\"\n",
              "            style=\"display:none;\">\n",
              "\n",
              "<svg xmlns=\"http://www.w3.org/2000/svg\" height=\"24px\"viewBox=\"0 0 24 24\"\n",
              "     width=\"24px\">\n",
              "    <g>\n",
              "        <path d=\"M19 3H5c-1.1 0-2 .9-2 2v14c0 1.1.9 2 2 2h14c1.1 0 2-.9 2-2V5c0-1.1-.9-2-2-2zM9 17H7v-7h2v7zm4 0h-2V7h2v10zm4 0h-2v-4h2v4z\"/>\n",
              "    </g>\n",
              "</svg>\n",
              "  </button>\n",
              "\n",
              "<style>\n",
              "  .colab-df-quickchart {\n",
              "      --bg-color: #E8F0FE;\n",
              "      --fill-color: #1967D2;\n",
              "      --hover-bg-color: #E2EBFA;\n",
              "      --hover-fill-color: #174EA6;\n",
              "      --disabled-fill-color: #AAA;\n",
              "      --disabled-bg-color: #DDD;\n",
              "  }\n",
              "\n",
              "  [theme=dark] .colab-df-quickchart {\n",
              "      --bg-color: #3B4455;\n",
              "      --fill-color: #D2E3FC;\n",
              "      --hover-bg-color: #434B5C;\n",
              "      --hover-fill-color: #FFFFFF;\n",
              "      --disabled-bg-color: #3B4455;\n",
              "      --disabled-fill-color: #666;\n",
              "  }\n",
              "\n",
              "  .colab-df-quickchart {\n",
              "    background-color: var(--bg-color);\n",
              "    border: none;\n",
              "    border-radius: 50%;\n",
              "    cursor: pointer;\n",
              "    display: none;\n",
              "    fill: var(--fill-color);\n",
              "    height: 32px;\n",
              "    padding: 0;\n",
              "    width: 32px;\n",
              "  }\n",
              "\n",
              "  .colab-df-quickchart:hover {\n",
              "    background-color: var(--hover-bg-color);\n",
              "    box-shadow: 0 1px 2px rgba(60, 64, 67, 0.3), 0 1px 3px 1px rgba(60, 64, 67, 0.15);\n",
              "    fill: var(--button-hover-fill-color);\n",
              "  }\n",
              "\n",
              "  .colab-df-quickchart-complete:disabled,\n",
              "  .colab-df-quickchart-complete:disabled:hover {\n",
              "    background-color: var(--disabled-bg-color);\n",
              "    fill: var(--disabled-fill-color);\n",
              "    box-shadow: none;\n",
              "  }\n",
              "\n",
              "  .colab-df-spinner {\n",
              "    border: 2px solid var(--fill-color);\n",
              "    border-color: transparent;\n",
              "    border-bottom-color: var(--fill-color);\n",
              "    animation:\n",
              "      spin 1s steps(1) infinite;\n",
              "  }\n",
              "\n",
              "  @keyframes spin {\n",
              "    0% {\n",
              "      border-color: transparent;\n",
              "      border-bottom-color: var(--fill-color);\n",
              "      border-left-color: var(--fill-color);\n",
              "    }\n",
              "    20% {\n",
              "      border-color: transparent;\n",
              "      border-left-color: var(--fill-color);\n",
              "      border-top-color: var(--fill-color);\n",
              "    }\n",
              "    30% {\n",
              "      border-color: transparent;\n",
              "      border-left-color: var(--fill-color);\n",
              "      border-top-color: var(--fill-color);\n",
              "      border-right-color: var(--fill-color);\n",
              "    }\n",
              "    40% {\n",
              "      border-color: transparent;\n",
              "      border-right-color: var(--fill-color);\n",
              "      border-top-color: var(--fill-color);\n",
              "    }\n",
              "    60% {\n",
              "      border-color: transparent;\n",
              "      border-right-color: var(--fill-color);\n",
              "    }\n",
              "    80% {\n",
              "      border-color: transparent;\n",
              "      border-right-color: var(--fill-color);\n",
              "      border-bottom-color: var(--fill-color);\n",
              "    }\n",
              "    90% {\n",
              "      border-color: transparent;\n",
              "      border-bottom-color: var(--fill-color);\n",
              "    }\n",
              "  }\n",
              "</style>\n",
              "\n",
              "  <script>\n",
              "    async function quickchart(key) {\n",
              "      const quickchartButtonEl =\n",
              "        document.querySelector('#' + key + ' button');\n",
              "      quickchartButtonEl.disabled = true;  // To prevent multiple clicks.\n",
              "      quickchartButtonEl.classList.add('colab-df-spinner');\n",
              "      try {\n",
              "        const charts = await google.colab.kernel.invokeFunction(\n",
              "            'suggestCharts', [key], {});\n",
              "      } catch (error) {\n",
              "        console.error('Error during call to suggestCharts:', error);\n",
              "      }\n",
              "      quickchartButtonEl.classList.remove('colab-df-spinner');\n",
              "      quickchartButtonEl.classList.add('colab-df-quickchart-complete');\n",
              "    }\n",
              "    (() => {\n",
              "      let quickchartButtonEl =\n",
              "        document.querySelector('#df-37914b8d-635b-4c9f-a6dd-2393cb00023b button');\n",
              "      quickchartButtonEl.style.display =\n",
              "        google.colab.kernel.accessAllowed ? 'block' : 'none';\n",
              "    })();\n",
              "  </script>\n",
              "</div>\n",
              "    </div>\n",
              "  </div>\n"
            ]
          },
          "metadata": {},
          "execution_count": 7
        }
      ]
    },
    {
      "cell_type": "code",
      "source": [
        "gender.sample(6)"
      ],
      "metadata": {
        "colab": {
          "base_uri": "https://localhost:8080/",
          "height": 237
        },
        "id": "RiDHE0h5pOsN",
        "outputId": "509b573b-a4d1-4830-bc66-ccb6a2f18f5a"
      },
      "execution_count": 8,
      "outputs": [
        {
          "output_type": "execute_result",
          "data": {
            "text/plain": [
              "      long_hair  forehead_width_cm  forehead_height_cm  nose_wide  nose_long  \\\n",
              "197           1               11.9                 5.9          0          0   \n",
              "1426          0               12.0                 5.2          0          1   \n",
              "4602          0               11.8                 6.6          1          1   \n",
              "707           1               13.1                 5.3          1          1   \n",
              "3527          1               11.9                 6.7          1          1   \n",
              "356           0               11.6                 6.2          0          0   \n",
              "\n",
              "      lips_thin  distance_nose_to_lip_long  gender  \n",
              "197           1                          0  Female  \n",
              "1426          0                          0  Female  \n",
              "4602          1                          0    Male  \n",
              "707           1                          1    Male  \n",
              "3527          1                          1    Male  \n",
              "356           0                          0  Female  "
            ],
            "text/html": [
              "\n",
              "  <div id=\"df-db9d5999-28c2-4a95-8e46-d27055fb06bd\" class=\"colab-df-container\">\n",
              "    <div>\n",
              "<style scoped>\n",
              "    .dataframe tbody tr th:only-of-type {\n",
              "        vertical-align: middle;\n",
              "    }\n",
              "\n",
              "    .dataframe tbody tr th {\n",
              "        vertical-align: top;\n",
              "    }\n",
              "\n",
              "    .dataframe thead th {\n",
              "        text-align: right;\n",
              "    }\n",
              "</style>\n",
              "<table border=\"1\" class=\"dataframe\">\n",
              "  <thead>\n",
              "    <tr style=\"text-align: right;\">\n",
              "      <th></th>\n",
              "      <th>long_hair</th>\n",
              "      <th>forehead_width_cm</th>\n",
              "      <th>forehead_height_cm</th>\n",
              "      <th>nose_wide</th>\n",
              "      <th>nose_long</th>\n",
              "      <th>lips_thin</th>\n",
              "      <th>distance_nose_to_lip_long</th>\n",
              "      <th>gender</th>\n",
              "    </tr>\n",
              "  </thead>\n",
              "  <tbody>\n",
              "    <tr>\n",
              "      <th>197</th>\n",
              "      <td>1</td>\n",
              "      <td>11.9</td>\n",
              "      <td>5.9</td>\n",
              "      <td>0</td>\n",
              "      <td>0</td>\n",
              "      <td>1</td>\n",
              "      <td>0</td>\n",
              "      <td>Female</td>\n",
              "    </tr>\n",
              "    <tr>\n",
              "      <th>1426</th>\n",
              "      <td>0</td>\n",
              "      <td>12.0</td>\n",
              "      <td>5.2</td>\n",
              "      <td>0</td>\n",
              "      <td>1</td>\n",
              "      <td>0</td>\n",
              "      <td>0</td>\n",
              "      <td>Female</td>\n",
              "    </tr>\n",
              "    <tr>\n",
              "      <th>4602</th>\n",
              "      <td>0</td>\n",
              "      <td>11.8</td>\n",
              "      <td>6.6</td>\n",
              "      <td>1</td>\n",
              "      <td>1</td>\n",
              "      <td>1</td>\n",
              "      <td>0</td>\n",
              "      <td>Male</td>\n",
              "    </tr>\n",
              "    <tr>\n",
              "      <th>707</th>\n",
              "      <td>1</td>\n",
              "      <td>13.1</td>\n",
              "      <td>5.3</td>\n",
              "      <td>1</td>\n",
              "      <td>1</td>\n",
              "      <td>1</td>\n",
              "      <td>1</td>\n",
              "      <td>Male</td>\n",
              "    </tr>\n",
              "    <tr>\n",
              "      <th>3527</th>\n",
              "      <td>1</td>\n",
              "      <td>11.9</td>\n",
              "      <td>6.7</td>\n",
              "      <td>1</td>\n",
              "      <td>1</td>\n",
              "      <td>1</td>\n",
              "      <td>1</td>\n",
              "      <td>Male</td>\n",
              "    </tr>\n",
              "    <tr>\n",
              "      <th>356</th>\n",
              "      <td>0</td>\n",
              "      <td>11.6</td>\n",
              "      <td>6.2</td>\n",
              "      <td>0</td>\n",
              "      <td>0</td>\n",
              "      <td>0</td>\n",
              "      <td>0</td>\n",
              "      <td>Female</td>\n",
              "    </tr>\n",
              "  </tbody>\n",
              "</table>\n",
              "</div>\n",
              "    <div class=\"colab-df-buttons\">\n",
              "\n",
              "  <div class=\"colab-df-container\">\n",
              "    <button class=\"colab-df-convert\" onclick=\"convertToInteractive('df-db9d5999-28c2-4a95-8e46-d27055fb06bd')\"\n",
              "            title=\"Convert this dataframe to an interactive table.\"\n",
              "            style=\"display:none;\">\n",
              "\n",
              "  <svg xmlns=\"http://www.w3.org/2000/svg\" height=\"24px\" viewBox=\"0 -960 960 960\">\n",
              "    <path d=\"M120-120v-720h720v720H120Zm60-500h600v-160H180v160Zm220 220h160v-160H400v160Zm0 220h160v-160H400v160ZM180-400h160v-160H180v160Zm440 0h160v-160H620v160ZM180-180h160v-160H180v160Zm440 0h160v-160H620v160Z\"/>\n",
              "  </svg>\n",
              "    </button>\n",
              "\n",
              "  <style>\n",
              "    .colab-df-container {\n",
              "      display:flex;\n",
              "      gap: 12px;\n",
              "    }\n",
              "\n",
              "    .colab-df-convert {\n",
              "      background-color: #E8F0FE;\n",
              "      border: none;\n",
              "      border-radius: 50%;\n",
              "      cursor: pointer;\n",
              "      display: none;\n",
              "      fill: #1967D2;\n",
              "      height: 32px;\n",
              "      padding: 0 0 0 0;\n",
              "      width: 32px;\n",
              "    }\n",
              "\n",
              "    .colab-df-convert:hover {\n",
              "      background-color: #E2EBFA;\n",
              "      box-shadow: 0px 1px 2px rgba(60, 64, 67, 0.3), 0px 1px 3px 1px rgba(60, 64, 67, 0.15);\n",
              "      fill: #174EA6;\n",
              "    }\n",
              "\n",
              "    .colab-df-buttons div {\n",
              "      margin-bottom: 4px;\n",
              "    }\n",
              "\n",
              "    [theme=dark] .colab-df-convert {\n",
              "      background-color: #3B4455;\n",
              "      fill: #D2E3FC;\n",
              "    }\n",
              "\n",
              "    [theme=dark] .colab-df-convert:hover {\n",
              "      background-color: #434B5C;\n",
              "      box-shadow: 0px 1px 3px 1px rgba(0, 0, 0, 0.15);\n",
              "      filter: drop-shadow(0px 1px 2px rgba(0, 0, 0, 0.3));\n",
              "      fill: #FFFFFF;\n",
              "    }\n",
              "  </style>\n",
              "\n",
              "    <script>\n",
              "      const buttonEl =\n",
              "        document.querySelector('#df-db9d5999-28c2-4a95-8e46-d27055fb06bd button.colab-df-convert');\n",
              "      buttonEl.style.display =\n",
              "        google.colab.kernel.accessAllowed ? 'block' : 'none';\n",
              "\n",
              "      async function convertToInteractive(key) {\n",
              "        const element = document.querySelector('#df-db9d5999-28c2-4a95-8e46-d27055fb06bd');\n",
              "        const dataTable =\n",
              "          await google.colab.kernel.invokeFunction('convertToInteractive',\n",
              "                                                    [key], {});\n",
              "        if (!dataTable) return;\n",
              "\n",
              "        const docLinkHtml = 'Like what you see? Visit the ' +\n",
              "          '<a target=\"_blank\" href=https://colab.research.google.com/notebooks/data_table.ipynb>data table notebook</a>'\n",
              "          + ' to learn more about interactive tables.';\n",
              "        element.innerHTML = '';\n",
              "        dataTable['output_type'] = 'display_data';\n",
              "        await google.colab.output.renderOutput(dataTable, element);\n",
              "        const docLink = document.createElement('div');\n",
              "        docLink.innerHTML = docLinkHtml;\n",
              "        element.appendChild(docLink);\n",
              "      }\n",
              "    </script>\n",
              "  </div>\n",
              "\n",
              "\n",
              "<div id=\"df-074bf8fc-a060-4a89-a79d-f8b4ed5caaa2\">\n",
              "  <button class=\"colab-df-quickchart\" onclick=\"quickchart('df-074bf8fc-a060-4a89-a79d-f8b4ed5caaa2')\"\n",
              "            title=\"Suggest charts.\"\n",
              "            style=\"display:none;\">\n",
              "\n",
              "<svg xmlns=\"http://www.w3.org/2000/svg\" height=\"24px\"viewBox=\"0 0 24 24\"\n",
              "     width=\"24px\">\n",
              "    <g>\n",
              "        <path d=\"M19 3H5c-1.1 0-2 .9-2 2v14c0 1.1.9 2 2 2h14c1.1 0 2-.9 2-2V5c0-1.1-.9-2-2-2zM9 17H7v-7h2v7zm4 0h-2V7h2v10zm4 0h-2v-4h2v4z\"/>\n",
              "    </g>\n",
              "</svg>\n",
              "  </button>\n",
              "\n",
              "<style>\n",
              "  .colab-df-quickchart {\n",
              "      --bg-color: #E8F0FE;\n",
              "      --fill-color: #1967D2;\n",
              "      --hover-bg-color: #E2EBFA;\n",
              "      --hover-fill-color: #174EA6;\n",
              "      --disabled-fill-color: #AAA;\n",
              "      --disabled-bg-color: #DDD;\n",
              "  }\n",
              "\n",
              "  [theme=dark] .colab-df-quickchart {\n",
              "      --bg-color: #3B4455;\n",
              "      --fill-color: #D2E3FC;\n",
              "      --hover-bg-color: #434B5C;\n",
              "      --hover-fill-color: #FFFFFF;\n",
              "      --disabled-bg-color: #3B4455;\n",
              "      --disabled-fill-color: #666;\n",
              "  }\n",
              "\n",
              "  .colab-df-quickchart {\n",
              "    background-color: var(--bg-color);\n",
              "    border: none;\n",
              "    border-radius: 50%;\n",
              "    cursor: pointer;\n",
              "    display: none;\n",
              "    fill: var(--fill-color);\n",
              "    height: 32px;\n",
              "    padding: 0;\n",
              "    width: 32px;\n",
              "  }\n",
              "\n",
              "  .colab-df-quickchart:hover {\n",
              "    background-color: var(--hover-bg-color);\n",
              "    box-shadow: 0 1px 2px rgba(60, 64, 67, 0.3), 0 1px 3px 1px rgba(60, 64, 67, 0.15);\n",
              "    fill: var(--button-hover-fill-color);\n",
              "  }\n",
              "\n",
              "  .colab-df-quickchart-complete:disabled,\n",
              "  .colab-df-quickchart-complete:disabled:hover {\n",
              "    background-color: var(--disabled-bg-color);\n",
              "    fill: var(--disabled-fill-color);\n",
              "    box-shadow: none;\n",
              "  }\n",
              "\n",
              "  .colab-df-spinner {\n",
              "    border: 2px solid var(--fill-color);\n",
              "    border-color: transparent;\n",
              "    border-bottom-color: var(--fill-color);\n",
              "    animation:\n",
              "      spin 1s steps(1) infinite;\n",
              "  }\n",
              "\n",
              "  @keyframes spin {\n",
              "    0% {\n",
              "      border-color: transparent;\n",
              "      border-bottom-color: var(--fill-color);\n",
              "      border-left-color: var(--fill-color);\n",
              "    }\n",
              "    20% {\n",
              "      border-color: transparent;\n",
              "      border-left-color: var(--fill-color);\n",
              "      border-top-color: var(--fill-color);\n",
              "    }\n",
              "    30% {\n",
              "      border-color: transparent;\n",
              "      border-left-color: var(--fill-color);\n",
              "      border-top-color: var(--fill-color);\n",
              "      border-right-color: var(--fill-color);\n",
              "    }\n",
              "    40% {\n",
              "      border-color: transparent;\n",
              "      border-right-color: var(--fill-color);\n",
              "      border-top-color: var(--fill-color);\n",
              "    }\n",
              "    60% {\n",
              "      border-color: transparent;\n",
              "      border-right-color: var(--fill-color);\n",
              "    }\n",
              "    80% {\n",
              "      border-color: transparent;\n",
              "      border-right-color: var(--fill-color);\n",
              "      border-bottom-color: var(--fill-color);\n",
              "    }\n",
              "    90% {\n",
              "      border-color: transparent;\n",
              "      border-bottom-color: var(--fill-color);\n",
              "    }\n",
              "  }\n",
              "</style>\n",
              "\n",
              "  <script>\n",
              "    async function quickchart(key) {\n",
              "      const quickchartButtonEl =\n",
              "        document.querySelector('#' + key + ' button');\n",
              "      quickchartButtonEl.disabled = true;  // To prevent multiple clicks.\n",
              "      quickchartButtonEl.classList.add('colab-df-spinner');\n",
              "      try {\n",
              "        const charts = await google.colab.kernel.invokeFunction(\n",
              "            'suggestCharts', [key], {});\n",
              "      } catch (error) {\n",
              "        console.error('Error during call to suggestCharts:', error);\n",
              "      }\n",
              "      quickchartButtonEl.classList.remove('colab-df-spinner');\n",
              "      quickchartButtonEl.classList.add('colab-df-quickchart-complete');\n",
              "    }\n",
              "    (() => {\n",
              "      let quickchartButtonEl =\n",
              "        document.querySelector('#df-074bf8fc-a060-4a89-a79d-f8b4ed5caaa2 button');\n",
              "      quickchartButtonEl.style.display =\n",
              "        google.colab.kernel.accessAllowed ? 'block' : 'none';\n",
              "    })();\n",
              "  </script>\n",
              "</div>\n",
              "    </div>\n",
              "  </div>\n"
            ]
          },
          "metadata": {},
          "execution_count": 8
        }
      ]
    },
    {
      "cell_type": "code",
      "source": [
        "gender.describe(include = 'all')"
      ],
      "metadata": {
        "colab": {
          "base_uri": "https://localhost:8080/",
          "height": 394
        },
        "id": "mXtdcgN9pjQA",
        "outputId": "32f8a327-9e0f-4ace-fe26-56370da8fcc4"
      },
      "execution_count": 9,
      "outputs": [
        {
          "output_type": "execute_result",
          "data": {
            "text/plain": [
              "          long_hair  forehead_width_cm  forehead_height_cm    nose_wide  \\\n",
              "count   5001.000000        5001.000000         5001.000000  5001.000000   \n",
              "unique          NaN                NaN                 NaN          NaN   \n",
              "top             NaN                NaN                 NaN          NaN   \n",
              "freq            NaN                NaN                 NaN          NaN   \n",
              "mean       0.869626          13.181484            5.946311     0.493901   \n",
              "std        0.336748           1.107128            0.541268     0.500013   \n",
              "min        0.000000          11.400000            5.100000     0.000000   \n",
              "25%        1.000000          12.200000            5.500000     0.000000   \n",
              "50%        1.000000          13.100000            5.900000     0.000000   \n",
              "75%        1.000000          14.000000            6.400000     1.000000   \n",
              "max        1.000000          15.500000            7.100000     1.000000   \n",
              "\n",
              "          nose_long    lips_thin  distance_nose_to_lip_long  gender  \n",
              "count   5001.000000  5001.000000                5001.000000    5001  \n",
              "unique          NaN          NaN                        NaN       2  \n",
              "top             NaN          NaN                        NaN  Female  \n",
              "freq            NaN          NaN                        NaN    2501  \n",
              "mean       0.507898     0.493101                   0.498900     NaN  \n",
              "std        0.499988     0.500002                   0.500049     NaN  \n",
              "min        0.000000     0.000000                   0.000000     NaN  \n",
              "25%        0.000000     0.000000                   0.000000     NaN  \n",
              "50%        1.000000     0.000000                   0.000000     NaN  \n",
              "75%        1.000000     1.000000                   1.000000     NaN  \n",
              "max        1.000000     1.000000                   1.000000     NaN  "
            ],
            "text/html": [
              "\n",
              "  <div id=\"df-8496de37-eafe-4e43-95f9-7cd0da4caa4f\" class=\"colab-df-container\">\n",
              "    <div>\n",
              "<style scoped>\n",
              "    .dataframe tbody tr th:only-of-type {\n",
              "        vertical-align: middle;\n",
              "    }\n",
              "\n",
              "    .dataframe tbody tr th {\n",
              "        vertical-align: top;\n",
              "    }\n",
              "\n",
              "    .dataframe thead th {\n",
              "        text-align: right;\n",
              "    }\n",
              "</style>\n",
              "<table border=\"1\" class=\"dataframe\">\n",
              "  <thead>\n",
              "    <tr style=\"text-align: right;\">\n",
              "      <th></th>\n",
              "      <th>long_hair</th>\n",
              "      <th>forehead_width_cm</th>\n",
              "      <th>forehead_height_cm</th>\n",
              "      <th>nose_wide</th>\n",
              "      <th>nose_long</th>\n",
              "      <th>lips_thin</th>\n",
              "      <th>distance_nose_to_lip_long</th>\n",
              "      <th>gender</th>\n",
              "    </tr>\n",
              "  </thead>\n",
              "  <tbody>\n",
              "    <tr>\n",
              "      <th>count</th>\n",
              "      <td>5001.000000</td>\n",
              "      <td>5001.000000</td>\n",
              "      <td>5001.000000</td>\n",
              "      <td>5001.000000</td>\n",
              "      <td>5001.000000</td>\n",
              "      <td>5001.000000</td>\n",
              "      <td>5001.000000</td>\n",
              "      <td>5001</td>\n",
              "    </tr>\n",
              "    <tr>\n",
              "      <th>unique</th>\n",
              "      <td>NaN</td>\n",
              "      <td>NaN</td>\n",
              "      <td>NaN</td>\n",
              "      <td>NaN</td>\n",
              "      <td>NaN</td>\n",
              "      <td>NaN</td>\n",
              "      <td>NaN</td>\n",
              "      <td>2</td>\n",
              "    </tr>\n",
              "    <tr>\n",
              "      <th>top</th>\n",
              "      <td>NaN</td>\n",
              "      <td>NaN</td>\n",
              "      <td>NaN</td>\n",
              "      <td>NaN</td>\n",
              "      <td>NaN</td>\n",
              "      <td>NaN</td>\n",
              "      <td>NaN</td>\n",
              "      <td>Female</td>\n",
              "    </tr>\n",
              "    <tr>\n",
              "      <th>freq</th>\n",
              "      <td>NaN</td>\n",
              "      <td>NaN</td>\n",
              "      <td>NaN</td>\n",
              "      <td>NaN</td>\n",
              "      <td>NaN</td>\n",
              "      <td>NaN</td>\n",
              "      <td>NaN</td>\n",
              "      <td>2501</td>\n",
              "    </tr>\n",
              "    <tr>\n",
              "      <th>mean</th>\n",
              "      <td>0.869626</td>\n",
              "      <td>13.181484</td>\n",
              "      <td>5.946311</td>\n",
              "      <td>0.493901</td>\n",
              "      <td>0.507898</td>\n",
              "      <td>0.493101</td>\n",
              "      <td>0.498900</td>\n",
              "      <td>NaN</td>\n",
              "    </tr>\n",
              "    <tr>\n",
              "      <th>std</th>\n",
              "      <td>0.336748</td>\n",
              "      <td>1.107128</td>\n",
              "      <td>0.541268</td>\n",
              "      <td>0.500013</td>\n",
              "      <td>0.499988</td>\n",
              "      <td>0.500002</td>\n",
              "      <td>0.500049</td>\n",
              "      <td>NaN</td>\n",
              "    </tr>\n",
              "    <tr>\n",
              "      <th>min</th>\n",
              "      <td>0.000000</td>\n",
              "      <td>11.400000</td>\n",
              "      <td>5.100000</td>\n",
              "      <td>0.000000</td>\n",
              "      <td>0.000000</td>\n",
              "      <td>0.000000</td>\n",
              "      <td>0.000000</td>\n",
              "      <td>NaN</td>\n",
              "    </tr>\n",
              "    <tr>\n",
              "      <th>25%</th>\n",
              "      <td>1.000000</td>\n",
              "      <td>12.200000</td>\n",
              "      <td>5.500000</td>\n",
              "      <td>0.000000</td>\n",
              "      <td>0.000000</td>\n",
              "      <td>0.000000</td>\n",
              "      <td>0.000000</td>\n",
              "      <td>NaN</td>\n",
              "    </tr>\n",
              "    <tr>\n",
              "      <th>50%</th>\n",
              "      <td>1.000000</td>\n",
              "      <td>13.100000</td>\n",
              "      <td>5.900000</td>\n",
              "      <td>0.000000</td>\n",
              "      <td>1.000000</td>\n",
              "      <td>0.000000</td>\n",
              "      <td>0.000000</td>\n",
              "      <td>NaN</td>\n",
              "    </tr>\n",
              "    <tr>\n",
              "      <th>75%</th>\n",
              "      <td>1.000000</td>\n",
              "      <td>14.000000</td>\n",
              "      <td>6.400000</td>\n",
              "      <td>1.000000</td>\n",
              "      <td>1.000000</td>\n",
              "      <td>1.000000</td>\n",
              "      <td>1.000000</td>\n",
              "      <td>NaN</td>\n",
              "    </tr>\n",
              "    <tr>\n",
              "      <th>max</th>\n",
              "      <td>1.000000</td>\n",
              "      <td>15.500000</td>\n",
              "      <td>7.100000</td>\n",
              "      <td>1.000000</td>\n",
              "      <td>1.000000</td>\n",
              "      <td>1.000000</td>\n",
              "      <td>1.000000</td>\n",
              "      <td>NaN</td>\n",
              "    </tr>\n",
              "  </tbody>\n",
              "</table>\n",
              "</div>\n",
              "    <div class=\"colab-df-buttons\">\n",
              "\n",
              "  <div class=\"colab-df-container\">\n",
              "    <button class=\"colab-df-convert\" onclick=\"convertToInteractive('df-8496de37-eafe-4e43-95f9-7cd0da4caa4f')\"\n",
              "            title=\"Convert this dataframe to an interactive table.\"\n",
              "            style=\"display:none;\">\n",
              "\n",
              "  <svg xmlns=\"http://www.w3.org/2000/svg\" height=\"24px\" viewBox=\"0 -960 960 960\">\n",
              "    <path d=\"M120-120v-720h720v720H120Zm60-500h600v-160H180v160Zm220 220h160v-160H400v160Zm0 220h160v-160H400v160ZM180-400h160v-160H180v160Zm440 0h160v-160H620v160ZM180-180h160v-160H180v160Zm440 0h160v-160H620v160Z\"/>\n",
              "  </svg>\n",
              "    </button>\n",
              "\n",
              "  <style>\n",
              "    .colab-df-container {\n",
              "      display:flex;\n",
              "      gap: 12px;\n",
              "    }\n",
              "\n",
              "    .colab-df-convert {\n",
              "      background-color: #E8F0FE;\n",
              "      border: none;\n",
              "      border-radius: 50%;\n",
              "      cursor: pointer;\n",
              "      display: none;\n",
              "      fill: #1967D2;\n",
              "      height: 32px;\n",
              "      padding: 0 0 0 0;\n",
              "      width: 32px;\n",
              "    }\n",
              "\n",
              "    .colab-df-convert:hover {\n",
              "      background-color: #E2EBFA;\n",
              "      box-shadow: 0px 1px 2px rgba(60, 64, 67, 0.3), 0px 1px 3px 1px rgba(60, 64, 67, 0.15);\n",
              "      fill: #174EA6;\n",
              "    }\n",
              "\n",
              "    .colab-df-buttons div {\n",
              "      margin-bottom: 4px;\n",
              "    }\n",
              "\n",
              "    [theme=dark] .colab-df-convert {\n",
              "      background-color: #3B4455;\n",
              "      fill: #D2E3FC;\n",
              "    }\n",
              "\n",
              "    [theme=dark] .colab-df-convert:hover {\n",
              "      background-color: #434B5C;\n",
              "      box-shadow: 0px 1px 3px 1px rgba(0, 0, 0, 0.15);\n",
              "      filter: drop-shadow(0px 1px 2px rgba(0, 0, 0, 0.3));\n",
              "      fill: #FFFFFF;\n",
              "    }\n",
              "  </style>\n",
              "\n",
              "    <script>\n",
              "      const buttonEl =\n",
              "        document.querySelector('#df-8496de37-eafe-4e43-95f9-7cd0da4caa4f button.colab-df-convert');\n",
              "      buttonEl.style.display =\n",
              "        google.colab.kernel.accessAllowed ? 'block' : 'none';\n",
              "\n",
              "      async function convertToInteractive(key) {\n",
              "        const element = document.querySelector('#df-8496de37-eafe-4e43-95f9-7cd0da4caa4f');\n",
              "        const dataTable =\n",
              "          await google.colab.kernel.invokeFunction('convertToInteractive',\n",
              "                                                    [key], {});\n",
              "        if (!dataTable) return;\n",
              "\n",
              "        const docLinkHtml = 'Like what you see? Visit the ' +\n",
              "          '<a target=\"_blank\" href=https://colab.research.google.com/notebooks/data_table.ipynb>data table notebook</a>'\n",
              "          + ' to learn more about interactive tables.';\n",
              "        element.innerHTML = '';\n",
              "        dataTable['output_type'] = 'display_data';\n",
              "        await google.colab.output.renderOutput(dataTable, element);\n",
              "        const docLink = document.createElement('div');\n",
              "        docLink.innerHTML = docLinkHtml;\n",
              "        element.appendChild(docLink);\n",
              "      }\n",
              "    </script>\n",
              "  </div>\n",
              "\n",
              "\n",
              "<div id=\"df-be509136-30c0-4590-9e53-b7677de3ab98\">\n",
              "  <button class=\"colab-df-quickchart\" onclick=\"quickchart('df-be509136-30c0-4590-9e53-b7677de3ab98')\"\n",
              "            title=\"Suggest charts.\"\n",
              "            style=\"display:none;\">\n",
              "\n",
              "<svg xmlns=\"http://www.w3.org/2000/svg\" height=\"24px\"viewBox=\"0 0 24 24\"\n",
              "     width=\"24px\">\n",
              "    <g>\n",
              "        <path d=\"M19 3H5c-1.1 0-2 .9-2 2v14c0 1.1.9 2 2 2h14c1.1 0 2-.9 2-2V5c0-1.1-.9-2-2-2zM9 17H7v-7h2v7zm4 0h-2V7h2v10zm4 0h-2v-4h2v4z\"/>\n",
              "    </g>\n",
              "</svg>\n",
              "  </button>\n",
              "\n",
              "<style>\n",
              "  .colab-df-quickchart {\n",
              "      --bg-color: #E8F0FE;\n",
              "      --fill-color: #1967D2;\n",
              "      --hover-bg-color: #E2EBFA;\n",
              "      --hover-fill-color: #174EA6;\n",
              "      --disabled-fill-color: #AAA;\n",
              "      --disabled-bg-color: #DDD;\n",
              "  }\n",
              "\n",
              "  [theme=dark] .colab-df-quickchart {\n",
              "      --bg-color: #3B4455;\n",
              "      --fill-color: #D2E3FC;\n",
              "      --hover-bg-color: #434B5C;\n",
              "      --hover-fill-color: #FFFFFF;\n",
              "      --disabled-bg-color: #3B4455;\n",
              "      --disabled-fill-color: #666;\n",
              "  }\n",
              "\n",
              "  .colab-df-quickchart {\n",
              "    background-color: var(--bg-color);\n",
              "    border: none;\n",
              "    border-radius: 50%;\n",
              "    cursor: pointer;\n",
              "    display: none;\n",
              "    fill: var(--fill-color);\n",
              "    height: 32px;\n",
              "    padding: 0;\n",
              "    width: 32px;\n",
              "  }\n",
              "\n",
              "  .colab-df-quickchart:hover {\n",
              "    background-color: var(--hover-bg-color);\n",
              "    box-shadow: 0 1px 2px rgba(60, 64, 67, 0.3), 0 1px 3px 1px rgba(60, 64, 67, 0.15);\n",
              "    fill: var(--button-hover-fill-color);\n",
              "  }\n",
              "\n",
              "  .colab-df-quickchart-complete:disabled,\n",
              "  .colab-df-quickchart-complete:disabled:hover {\n",
              "    background-color: var(--disabled-bg-color);\n",
              "    fill: var(--disabled-fill-color);\n",
              "    box-shadow: none;\n",
              "  }\n",
              "\n",
              "  .colab-df-spinner {\n",
              "    border: 2px solid var(--fill-color);\n",
              "    border-color: transparent;\n",
              "    border-bottom-color: var(--fill-color);\n",
              "    animation:\n",
              "      spin 1s steps(1) infinite;\n",
              "  }\n",
              "\n",
              "  @keyframes spin {\n",
              "    0% {\n",
              "      border-color: transparent;\n",
              "      border-bottom-color: var(--fill-color);\n",
              "      border-left-color: var(--fill-color);\n",
              "    }\n",
              "    20% {\n",
              "      border-color: transparent;\n",
              "      border-left-color: var(--fill-color);\n",
              "      border-top-color: var(--fill-color);\n",
              "    }\n",
              "    30% {\n",
              "      border-color: transparent;\n",
              "      border-left-color: var(--fill-color);\n",
              "      border-top-color: var(--fill-color);\n",
              "      border-right-color: var(--fill-color);\n",
              "    }\n",
              "    40% {\n",
              "      border-color: transparent;\n",
              "      border-right-color: var(--fill-color);\n",
              "      border-top-color: var(--fill-color);\n",
              "    }\n",
              "    60% {\n",
              "      border-color: transparent;\n",
              "      border-right-color: var(--fill-color);\n",
              "    }\n",
              "    80% {\n",
              "      border-color: transparent;\n",
              "      border-right-color: var(--fill-color);\n",
              "      border-bottom-color: var(--fill-color);\n",
              "    }\n",
              "    90% {\n",
              "      border-color: transparent;\n",
              "      border-bottom-color: var(--fill-color);\n",
              "    }\n",
              "  }\n",
              "</style>\n",
              "\n",
              "  <script>\n",
              "    async function quickchart(key) {\n",
              "      const quickchartButtonEl =\n",
              "        document.querySelector('#' + key + ' button');\n",
              "      quickchartButtonEl.disabled = true;  // To prevent multiple clicks.\n",
              "      quickchartButtonEl.classList.add('colab-df-spinner');\n",
              "      try {\n",
              "        const charts = await google.colab.kernel.invokeFunction(\n",
              "            'suggestCharts', [key], {});\n",
              "      } catch (error) {\n",
              "        console.error('Error during call to suggestCharts:', error);\n",
              "      }\n",
              "      quickchartButtonEl.classList.remove('colab-df-spinner');\n",
              "      quickchartButtonEl.classList.add('colab-df-quickchart-complete');\n",
              "    }\n",
              "    (() => {\n",
              "      let quickchartButtonEl =\n",
              "        document.querySelector('#df-be509136-30c0-4590-9e53-b7677de3ab98 button');\n",
              "      quickchartButtonEl.style.display =\n",
              "        google.colab.kernel.accessAllowed ? 'block' : 'none';\n",
              "    })();\n",
              "  </script>\n",
              "</div>\n",
              "    </div>\n",
              "  </div>\n"
            ]
          },
          "metadata": {},
          "execution_count": 9
        }
      ]
    },
    {
      "cell_type": "code",
      "source": [
        "gender.info()"
      ],
      "metadata": {
        "colab": {
          "base_uri": "https://localhost:8080/"
        },
        "id": "1uCWsZj6p3r3",
        "outputId": "aa3e0fd4-d71b-4fd0-ec2a-dbce1748eb33"
      },
      "execution_count": 10,
      "outputs": [
        {
          "output_type": "stream",
          "name": "stdout",
          "text": [
            "<class 'pandas.core.frame.DataFrame'>\n",
            "RangeIndex: 5001 entries, 0 to 5000\n",
            "Data columns (total 8 columns):\n",
            " #   Column                     Non-Null Count  Dtype  \n",
            "---  ------                     --------------  -----  \n",
            " 0   long_hair                  5001 non-null   int64  \n",
            " 1   forehead_width_cm          5001 non-null   float64\n",
            " 2   forehead_height_cm         5001 non-null   float64\n",
            " 3   nose_wide                  5001 non-null   int64  \n",
            " 4   nose_long                  5001 non-null   int64  \n",
            " 5   lips_thin                  5001 non-null   int64  \n",
            " 6   distance_nose_to_lip_long  5001 non-null   int64  \n",
            " 7   gender                     5001 non-null   object \n",
            "dtypes: float64(2), int64(5), object(1)\n",
            "memory usage: 312.7+ KB\n"
          ]
        }
      ]
    },
    {
      "cell_type": "markdown",
      "source": [
        "## EDA"
      ],
      "metadata": {
        "id": "MZxdABcSsEo8"
      }
    },
    {
      "cell_type": "code",
      "source": [
        "g = gender.copy()     #made a copy because I don't want to make the following changes in original dataset"
      ],
      "metadata": {
        "id": "XnMhVt4EntkP"
      },
      "execution_count": 11,
      "outputs": []
    },
    {
      "cell_type": "code",
      "source": [
        "cat_var = ['long_hair', 'nose_wide', 'nose_long',\t'lips_thin',\t'distance_nose_to_lip_long']\n",
        "num_var = ['forehead_width_cm', 'forehead_height_cm']"
      ],
      "metadata": {
        "id": "ZRAW3uqMp_q6"
      },
      "execution_count": 12,
      "outputs": []
    },
    {
      "cell_type": "code",
      "source": [
        "g[cat_var] = g[cat_var].astype('category')"
      ],
      "metadata": {
        "id": "FGAEQKv4refa"
      },
      "execution_count": 13,
      "outputs": []
    },
    {
      "cell_type": "code",
      "source": [
        "g.dtypes"
      ],
      "metadata": {
        "colab": {
          "base_uri": "https://localhost:8080/"
        },
        "id": "VIh7AJiesOX_",
        "outputId": "7a896af0-03b4-47c6-c4af-6bd4fcc13105"
      },
      "execution_count": 14,
      "outputs": [
        {
          "output_type": "execute_result",
          "data": {
            "text/plain": [
              "long_hair                    category\n",
              "forehead_width_cm             float64\n",
              "forehead_height_cm            float64\n",
              "nose_wide                    category\n",
              "nose_long                    category\n",
              "lips_thin                    category\n",
              "distance_nose_to_lip_long    category\n",
              "gender                         object\n",
              "dtype: object"
            ]
          },
          "metadata": {},
          "execution_count": 14
        }
      ]
    },
    {
      "cell_type": "code",
      "source": [
        "for i in cat_var:\n",
        "  plt.title(i)\n",
        "  sns.countplot(x=i, data = g)\n",
        "  plt.show()"
      ],
      "metadata": {
        "colab": {
          "base_uri": "https://localhost:8080/",
          "height": 1000
        },
        "id": "EZQLaOaOq08N",
        "outputId": "52ddfc62-7807-4e58-91e4-a7980807632a"
      },
      "execution_count": 15,
      "outputs": [
        {
          "output_type": "display_data",
          "data": {
            "text/plain": [
              "<Figure size 640x480 with 1 Axes>"
            ],
            "image/png": "[encoded data removed]"
          },
          "metadata": {}
        },
        {
          "output_type": "display_data",
          "data": {
            "text/plain": [
              "<Figure size 640x480 with 1 Axes>"
            ],
            "image/png": "[encoded data removed]"
          },
          "metadata": {}
        },
        {
          "output_type": "display_data",
          "data": {
            "text/plain": [
              "<Figure size 640x480 with 1 Axes>"
            ],
            "image/png": "[encoded data removed]"
          },
          "metadata": {}
        },
        {
          "output_type": "display_data",
          "data": {
            "text/plain": [
              "<Figure size 640x480 with 1 Axes>"
            ],
            "image/png": "[encoded data removed]"
          },
          "metadata": {}
        },
        {
          "output_type": "display_data",
          "data": {
            "text/plain": [
              "<Figure size 640x480 with 1 Axes>"
            ],
            "image/png": "[encoded data removed]"
          },
          "metadata": {}
        }
      ]
    },
    {
      "cell_type": "code",
      "source": [
        "for i in cat_var:\n",
        "  plt.title(i)\n",
        "  sns.countplot(x=i, data = g, hue = g.gender)\n",
        "  plt.show()"
      ],
      "metadata": {
        "colab": {
          "base_uri": "https://localhost:8080/",
          "height": 1000
        },
        "id": "XHAFy-GQtK9x",
        "outputId": "6bb30e52-f867-44a4-d8c6-bea6f1a6ef31"
      },
      "execution_count": 16,
      "outputs": [
        {
          "output_type": "display_data",
          "data": {
            "text/plain": [
              "<Figure size 640x480 with 1 Axes>"
            ],
            "image/png": "[encoded data removed]"
          },
          "metadata": {}
        },
        {
          "output_type": "display_data",
          "data": {
            "text/plain": [
              "<Figure size 640x480 with 1 Axes>"
            ],
            "image/png": "[encoded data removed]"
          },
          "metadata": {}
        },
        {
          "output_type": "display_data",
          "data": {
            "text/plain": [
              "<Figure size 640x480 with 1 Axes>"
            ],
            "image/png": "[encoded data removed]"
          },
          "metadata": {}
        },
        {
          "output_type": "display_data",
          "data": {
            "text/plain": [
              "<Figure size 640x480 with 1 Axes>"
            ],
            "image/png": "[encoded data removed]"
          },
          "metadata": {}
        },
        {
          "output_type": "display_data",
          "data": {
            "text/plain": [
              "<Figure size 640x480 with 1 Axes>"
            ],
            "image/png": "[encoded data removed]"
          },
          "metadata": {}
        }
      ]
    },
    {
      "cell_type": "code",
      "source": [
        "for j in num_var:\n",
        "  plt.title(j)\n",
        "  sns.boxplot(g[j])\n",
        "  plt.show()"
      ],
      "metadata": {
        "colab": {
          "base_uri": "https://localhost:8080/",
          "height": 887
        },
        "id": "lHK_hek64fWG",
        "outputId": "be211ca4-2f6f-4d60-dc1c-ea665b0336a0"
      },
      "execution_count": 17,
      "outputs": [
        {
          "output_type": "display_data",
          "data": {
            "text/plain": [
              "<Figure size 640x480 with 1 Axes>"
            ],
            "image/png": "[encoded data removed]"
          },
          "metadata": {}
        },
        {
          "output_type": "display_data",
          "data": {
            "text/plain": [
              "<Figure size 640x480 with 1 Axes>"
            ],
            "image/png": "[encoded data removed]"
          },
          "metadata": {}
        }
      ]
    },
    {
      "cell_type": "code",
      "source": [
        "for j in num_var:\n",
        "  plt.title(j)\n",
        "  sns.boxplot(x = g[j], y = g.gender)\n",
        "  plt.show()"
      ],
      "metadata": {
        "colab": {
          "base_uri": "https://localhost:8080/",
          "height": 927
        },
        "id": "OfX28nqQ4fdg",
        "outputId": "c5b94bba-724a-4b50-f578-b2368fea9057"
      },
      "execution_count": 18,
      "outputs": [
        {
          "output_type": "display_data",
          "data": {
            "text/plain": [
              "<Figure size 640x480 with 1 Axes>"
            ],
            "image/png": "[encoded data removed]"
          },
          "metadata": {}
        },
        {
          "output_type": "display_data",
          "data": {
            "text/plain": [
              "<Figure size 640x480 with 1 Axes>"
            ],
            "image/png": "[encoded data removed]"
          },
          "metadata": {}
        }
      ]
    },
    {
      "cell_type": "markdown",
      "source": [
        "### Output variable"
      ],
      "metadata": {
        "id": "ddsHYGVltc79"
      }
    },
    {
      "cell_type": "code",
      "source": [
        "sns.countplot(x= 'gender', data = g)"
      ],
      "metadata": {
        "colab": {
          "base_uri": "https://localhost:8080/",
          "height": 466
        },
        "id": "n3iI5aRo6Cg4",
        "outputId": "3dafca64-2055-4504-b1d7-a4b8d385282a"
      },
      "execution_count": 19,
      "outputs": [
        {
          "output_type": "execute_result",
          "data": {
            "text/plain": [
              "<Axes: xlabel='gender', ylabel='count'>"
            ]
          },
          "metadata": {},
          "execution_count": 19
        },
        {
          "output_type": "display_data",
          "data": {
            "text/plain": [
              "<Figure size 640x480 with 1 Axes>"
            ],
            "image/png": "[encoded data removed]"
          },
          "metadata": {}
        }
      ]
    },
    {
      "cell_type": "code",
      "source": [
        "g['gender'].value_counts()"
      ],
      "metadata": {
        "colab": {
          "base_uri": "https://localhost:8080/"
        },
        "id": "SYUitHo865BO",
        "outputId": "041dc807-4dce-4b67-a2e6-c0c9cf97d7f8"
      },
      "execution_count": 20,
      "outputs": [
        {
          "output_type": "execute_result",
          "data": {
            "text/plain": [
              "Female    2501\n",
              "Male      2500\n",
              "Name: gender, dtype: int64"
            ]
          },
          "metadata": {},
          "execution_count": 20
        }
      ]
    },
    {
      "cell_type": "markdown",
      "source": [
        "## Preprocessing"
      ],
      "metadata": {
        "id": "xxrcERKF7kRD"
      }
    },
    {
      "cell_type": "code",
      "source": [
        "gender.isna().sum()"
      ],
      "metadata": {
        "colab": {
          "base_uri": "https://localhost:8080/"
        },
        "id": "aMGAWWDo7uOt",
        "outputId": "7849324d-6247-489a-fcf9-2b5d629a29cd"
      },
      "execution_count": 21,
      "outputs": [
        {
          "output_type": "execute_result",
          "data": {
            "text/plain": [
              "long_hair                    0\n",
              "forehead_width_cm            0\n",
              "forehead_height_cm           0\n",
              "nose_wide                    0\n",
              "nose_long                    0\n",
              "lips_thin                    0\n",
              "distance_nose_to_lip_long    0\n",
              "gender                       0\n",
              "dtype: int64"
            ]
          },
          "metadata": {},
          "execution_count": 21
        }
      ]
    },
    {
      "cell_type": "code",
      "source": [
        "gender.info()"
      ],
      "metadata": {
        "colab": {
          "base_uri": "https://localhost:8080/"
        },
        "id": "F6fWo_4E7uRM",
        "outputId": "dd3a1c02-566c-4c59-e457-3493e6905549"
      },
      "execution_count": 22,
      "outputs": [
        {
          "output_type": "stream",
          "name": "stdout",
          "text": [
            "<class 'pandas.core.frame.DataFrame'>\n",
            "RangeIndex: 5001 entries, 0 to 5000\n",
            "Data columns (total 8 columns):\n",
            " #   Column                     Non-Null Count  Dtype  \n",
            "---  ------                     --------------  -----  \n",
            " 0   long_hair                  5001 non-null   int64  \n",
            " 1   forehead_width_cm          5001 non-null   float64\n",
            " 2   forehead_height_cm         5001 non-null   float64\n",
            " 3   nose_wide                  5001 non-null   int64  \n",
            " 4   nose_long                  5001 non-null   int64  \n",
            " 5   lips_thin                  5001 non-null   int64  \n",
            " 6   distance_nose_to_lip_long  5001 non-null   int64  \n",
            " 7   gender                     5001 non-null   object \n",
            "dtypes: float64(2), int64(5), object(1)\n",
            "memory usage: 312.7+ KB\n"
          ]
        }
      ]
    },
    {
      "cell_type": "code",
      "source": [
        "gender['gender']=gender['gender'].map({'Female':0, 'Male':1})"
      ],
      "metadata": {
        "id": "0VyDv50K-yxE"
      },
      "execution_count": 23,
      "outputs": []
    },
    {
      "cell_type": "code",
      "source": [
        "gender.info()"
      ],
      "metadata": {
        "colab": {
          "base_uri": "https://localhost:8080/"
        },
        "id": "2gC6eG5c_Ky2",
        "outputId": "19fd7dbe-8fc1-450b-e98e-0a4fc2859005"
      },
      "execution_count": 24,
      "outputs": [
        {
          "output_type": "stream",
          "name": "stdout",
          "text": [
            "<class 'pandas.core.frame.DataFrame'>\n",
            "RangeIndex: 5001 entries, 0 to 5000\n",
            "Data columns (total 8 columns):\n",
            " #   Column                     Non-Null Count  Dtype  \n",
            "---  ------                     --------------  -----  \n",
            " 0   long_hair                  5001 non-null   int64  \n",
            " 1   forehead_width_cm          5001 non-null   float64\n",
            " 2   forehead_height_cm         5001 non-null   float64\n",
            " 3   nose_wide                  5001 non-null   int64  \n",
            " 4   nose_long                  5001 non-null   int64  \n",
            " 5   lips_thin                  5001 non-null   int64  \n",
            " 6   distance_nose_to_lip_long  5001 non-null   int64  \n",
            " 7   gender                     5001 non-null   int64  \n",
            "dtypes: float64(2), int64(6)\n",
            "memory usage: 312.7 KB\n"
          ]
        }
      ]
    },
    {
      "cell_type": "code",
      "source": [
        "gender.head()"
      ],
      "metadata": {
        "colab": {
          "base_uri": "https://localhost:8080/",
          "height": 206
        },
        "id": "-xxL89sYDIqx",
        "outputId": "a1cdf33d-c52c-43e9-b22f-a10eb54d28b8"
      },
      "execution_count": 25,
      "outputs": [
        {
          "output_type": "execute_result",
          "data": {
            "text/plain": [
              "   long_hair  forehead_width_cm  forehead_height_cm  nose_wide  nose_long  \\\n",
              "0          1               11.8                 6.1          1          0   \n",
              "1          0               14.0                 5.4          0          0   \n",
              "2          0               11.8                 6.3          1          1   \n",
              "3          0               14.4                 6.1          0          1   \n",
              "4          1               13.5                 5.9          0          0   \n",
              "\n",
              "   lips_thin  distance_nose_to_lip_long  gender  \n",
              "0          1                          1       1  \n",
              "1          1                          0       0  \n",
              "2          1                          1       1  \n",
              "3          1                          1       1  \n",
              "4          0                          0       0  "
            ],
            "text/html": [
              "\n",
              "  <div id=\"df-da12757a-f485-489f-ba03-82f5bc9720dc\" class=\"colab-df-container\">\n",
              "    <div>\n",
              "<style scoped>\n",
              "    .dataframe tbody tr th:only-of-type {\n",
              "        vertical-align: middle;\n",
              "    }\n",
              "\n",
              "    .dataframe tbody tr th {\n",
              "        vertical-align: top;\n",
              "    }\n",
              "\n",
              "    .dataframe thead th {\n",
              "        text-align: right;\n",
              "    }\n",
              "</style>\n",
              "<table border=\"1\" class=\"dataframe\">\n",
              "  <thead>\n",
              "    <tr style=\"text-align: right;\">\n",
              "      <th></th>\n",
              "      <th>long_hair</th>\n",
              "      <th>forehead_width_cm</th>\n",
              "      <th>forehead_height_cm</th>\n",
              "      <th>nose_wide</th>\n",
              "      <th>nose_long</th>\n",
              "      <th>lips_thin</th>\n",
              "      <th>distance_nose_to_lip_long</th>\n",
              "      <th>gender</th>\n",
              "    </tr>\n",
              "  </thead>\n",
              "  <tbody>\n",
              "    <tr>\n",
              "      <th>0</th>\n",
              "      <td>1</td>\n",
              "      <td>11.8</td>\n",
              "      <td>6.1</td>\n",
              "      <td>1</td>\n",
              "      <td>0</td>\n",
              "      <td>1</td>\n",
              "      <td>1</td>\n",
              "      <td>1</td>\n",
              "    </tr>\n",
              "    <tr>\n",
              "      <th>1</th>\n",
              "      <td>0</td>\n",
              "      <td>14.0</td>\n",
              "      <td>5.4</td>\n",
              "      <td>0</td>\n",
              "      <td>0</td>\n",
              "      <td>1</td>\n",
              "      <td>0</td>\n",
              "      <td>0</td>\n",
              "    </tr>\n",
              "    <tr>\n",
              "      <th>2</th>\n",
              "      <td>0</td>\n",
              "      <td>11.8</td>\n",
              "      <td>6.3</td>\n",
              "      <td>1</td>\n",
              "      <td>1</td>\n",
              "      <td>1</td>\n",
              "      <td>1</td>\n",
              "      <td>1</td>\n",
              "    </tr>\n",
              "    <tr>\n",
              "      <th>3</th>\n",
              "      <td>0</td>\n",
              "      <td>14.4</td>\n",
              "      <td>6.1</td>\n",
              "      <td>0</td>\n",
              "      <td>1</td>\n",
              "      <td>1</td>\n",
              "      <td>1</td>\n",
              "      <td>1</td>\n",
              "    </tr>\n",
              "    <tr>\n",
              "      <th>4</th>\n",
              "      <td>1</td>\n",
              "      <td>13.5</td>\n",
              "      <td>5.9</td>\n",
              "      <td>0</td>\n",
              "      <td>0</td>\n",
              "      <td>0</td>\n",
              "      <td>0</td>\n",
              "      <td>0</td>\n",
              "    </tr>\n",
              "  </tbody>\n",
              "</table>\n",
              "</div>\n",
              "    <div class=\"colab-df-buttons\">\n",
              "\n",
              "  <div class=\"colab-df-container\">\n",
              "    <button class=\"colab-df-convert\" onclick=\"convertToInteractive('df-da12757a-f485-489f-ba03-82f5bc9720dc')\"\n",
              "            title=\"Convert this dataframe to an interactive table.\"\n",
              "            style=\"display:none;\">\n",
              "\n",
              "  <svg xmlns=\"http://www.w3.org/2000/svg\" height=\"24px\" viewBox=\"0 -960 960 960\">\n",
              "    <path d=\"M120-120v-720h720v720H120Zm60-500h600v-160H180v160Zm220 220h160v-160H400v160Zm0 220h160v-160H400v160ZM180-400h160v-160H180v160Zm440 0h160v-160H620v160ZM180-180h160v-160H180v160Zm440 0h160v-160H620v160Z\"/>\n",
              "  </svg>\n",
              "    </button>\n",
              "\n",
              "  <style>\n",
              "    .colab-df-container {\n",
              "      display:flex;\n",
              "      gap: 12px;\n",
              "    }\n",
              "\n",
              "    .colab-df-convert {\n",
              "      background-color: #E8F0FE;\n",
              "      border: none;\n",
              "      border-radius: 50%;\n",
              "      cursor: pointer;\n",
              "      display: none;\n",
              "      fill: #1967D2;\n",
              "      height: 32px;\n",
              "      padding: 0 0 0 0;\n",
              "      width: 32px;\n",
              "    }\n",
              "\n",
              "    .colab-df-convert:hover {\n",
              "      background-color: #E2EBFA;\n",
              "      box-shadow: 0px 1px 2px rgba(60, 64, 67, 0.3), 0px 1px 3px 1px rgba(60, 64, 67, 0.15);\n",
              "      fill: #174EA6;\n",
              "    }\n",
              "\n",
              "    .colab-df-buttons div {\n",
              "      margin-bottom: 4px;\n",
              "    }\n",
              "\n",
              "    [theme=dark] .colab-df-convert {\n",
              "      background-color: #3B4455;\n",
              "      fill: #D2E3FC;\n",
              "    }\n",
              "\n",
              "    [theme=dark] .colab-df-convert:hover {\n",
              "      background-color: #434B5C;\n",
              "      box-shadow: 0px 1px 3px 1px rgba(0, 0, 0, 0.15);\n",
              "      filter: drop-shadow(0px 1px 2px rgba(0, 0, 0, 0.3));\n",
              "      fill: #FFFFFF;\n",
              "    }\n",
              "  </style>\n",
              "\n",
              "    <script>\n",
              "      const buttonEl =\n",
              "        document.querySelector('#df-da12757a-f485-489f-ba03-82f5bc9720dc button.colab-df-convert');\n",
              "      buttonEl.style.display =\n",
              "        google.colab.kernel.accessAllowed ? 'block' : 'none';\n",
              "\n",
              "      async function convertToInteractive(key) {\n",
              "        const element = document.querySelector('#df-da12757a-f485-489f-ba03-82f5bc9720dc');\n",
              "        const dataTable =\n",
              "          await google.colab.kernel.invokeFunction('convertToInteractive',\n",
              "                                                    [key], {});\n",
              "        if (!dataTable) return;\n",
              "\n",
              "        const docLinkHtml = 'Like what you see? Visit the ' +\n",
              "          '<a target=\"_blank\" href=https://colab.research.google.com/notebooks/data_table.ipynb>data table notebook</a>'\n",
              "          + ' to learn more about interactive tables.';\n",
              "        element.innerHTML = '';\n",
              "        dataTable['output_type'] = 'display_data';\n",
              "        await google.colab.output.renderOutput(dataTable, element);\n",
              "        const docLink = document.createElement('div');\n",
              "        docLink.innerHTML = docLinkHtml;\n",
              "        element.appendChild(docLink);\n",
              "      }\n",
              "    </script>\n",
              "  </div>\n",
              "\n",
              "\n",
              "<div id=\"df-cb593538-8f50-467a-8507-b64f4e1f2022\">\n",
              "  <button class=\"colab-df-quickchart\" onclick=\"quickchart('df-cb593538-8f50-467a-8507-b64f4e1f2022')\"\n",
              "            title=\"Suggest charts.\"\n",
              "            style=\"display:none;\">\n",
              "\n",
              "<svg xmlns=\"http://www.w3.org/2000/svg\" height=\"24px\"viewBox=\"0 0 24 24\"\n",
              "     width=\"24px\">\n",
              "    <g>\n",
              "        <path d=\"M19 3H5c-1.1 0-2 .9-2 2v14c0 1.1.9 2 2 2h14c1.1 0 2-.9 2-2V5c0-1.1-.9-2-2-2zM9 17H7v-7h2v7zm4 0h-2V7h2v10zm4 0h-2v-4h2v4z\"/>\n",
              "    </g>\n",
              "</svg>\n",
              "  </button>\n",
              "\n",
              "<style>\n",
              "  .colab-df-quickchart {\n",
              "      --bg-color: #E8F0FE;\n",
              "      --fill-color: #1967D2;\n",
              "      --hover-bg-color: #E2EBFA;\n",
              "      --hover-fill-color: #174EA6;\n",
              "      --disabled-fill-color: #AAA;\n",
              "      --disabled-bg-color: #DDD;\n",
              "  }\n",
              "\n",
              "  [theme=dark] .colab-df-quickchart {\n",
              "      --bg-color: #3B4455;\n",
              "      --fill-color: #D2E3FC;\n",
              "      --hover-bg-color: #434B5C;\n",
              "      --hover-fill-color: #FFFFFF;\n",
              "      --disabled-bg-color: #3B4455;\n",
              "      --disabled-fill-color: #666;\n",
              "  }\n",
              "\n",
              "  .colab-df-quickchart {\n",
              "    background-color: var(--bg-color);\n",
              "    border: none;\n",
              "    border-radius: 50%;\n",
              "    cursor: pointer;\n",
              "    display: none;\n",
              "    fill: var(--fill-color);\n",
              "    height: 32px;\n",
              "    padding: 0;\n",
              "    width: 32px;\n",
              "  }\n",
              "\n",
              "  .colab-df-quickchart:hover {\n",
              "    background-color: var(--hover-bg-color);\n",
              "    box-shadow: 0 1px 2px rgba(60, 64, 67, 0.3), 0 1px 3px 1px rgba(60, 64, 67, 0.15);\n",
              "    fill: var(--button-hover-fill-color);\n",
              "  }\n",
              "\n",
              "  .colab-df-quickchart-complete:disabled,\n",
              "  .colab-df-quickchart-complete:disabled:hover {\n",
              "    background-color: var(--disabled-bg-color);\n",
              "    fill: var(--disabled-fill-color);\n",
              "    box-shadow: none;\n",
              "  }\n",
              "\n",
              "  .colab-df-spinner {\n",
              "    border: 2px solid var(--fill-color);\n",
              "    border-color: transparent;\n",
              "    border-bottom-color: var(--fill-color);\n",
              "    animation:\n",
              "      spin 1s steps(1) infinite;\n",
              "  }\n",
              "\n",
              "  @keyframes spin {\n",
              "    0% {\n",
              "      border-color: transparent;\n",
              "      border-bottom-color: var(--fill-color);\n",
              "      border-left-color: var(--fill-color);\n",
              "    }\n",
              "    20% {\n",
              "      border-color: transparent;\n",
              "      border-left-color: var(--fill-color);\n",
              "      border-top-color: var(--fill-color);\n",
              "    }\n",
              "    30% {\n",
              "      border-color: transparent;\n",
              "      border-left-color: var(--fill-color);\n",
              "      border-top-color: var(--fill-color);\n",
              "      border-right-color: var(--fill-color);\n",
              "    }\n",
              "    40% {\n",
              "      border-color: transparent;\n",
              "      border-right-color: var(--fill-color);\n",
              "      border-top-color: var(--fill-color);\n",
              "    }\n",
              "    60% {\n",
              "      border-color: transparent;\n",
              "      border-right-color: var(--fill-color);\n",
              "    }\n",
              "    80% {\n",
              "      border-color: transparent;\n",
              "      border-right-color: var(--fill-color);\n",
              "      border-bottom-color: var(--fill-color);\n",
              "    }\n",
              "    90% {\n",
              "      border-color: transparent;\n",
              "      border-bottom-color: var(--fill-color);\n",
              "    }\n",
              "  }\n",
              "</style>\n",
              "\n",
              "  <script>\n",
              "    async function quickchart(key) {\n",
              "      const quickchartButtonEl =\n",
              "        document.querySelector('#' + key + ' button');\n",
              "      quickchartButtonEl.disabled = true;  // To prevent multiple clicks.\n",
              "      quickchartButtonEl.classList.add('colab-df-spinner');\n",
              "      try {\n",
              "        const charts = await google.colab.kernel.invokeFunction(\n",
              "            'suggestCharts', [key], {});\n",
              "      } catch (error) {\n",
              "        console.error('Error during call to suggestCharts:', error);\n",
              "      }\n",
              "      quickchartButtonEl.classList.remove('colab-df-spinner');\n",
              "      quickchartButtonEl.classList.add('colab-df-quickchart-complete');\n",
              "    }\n",
              "    (() => {\n",
              "      let quickchartButtonEl =\n",
              "        document.querySelector('#df-cb593538-8f50-467a-8507-b64f4e1f2022 button');\n",
              "      quickchartButtonEl.style.display =\n",
              "        google.colab.kernel.accessAllowed ? 'block' : 'none';\n",
              "    })();\n",
              "  </script>\n",
              "</div>\n",
              "    </div>\n",
              "  </div>\n"
            ]
          },
          "metadata": {},
          "execution_count": 25
        }
      ]
    },
    {
      "cell_type": "markdown",
      "source": [
        "## train-test split"
      ],
      "metadata": {
        "id": "DzmXJBZk_-d-"
      }
    },
    {
      "cell_type": "code",
      "source": [
        "X = gender.drop(['gender'], axis=1)\n",
        "y =gender['gender']"
      ],
      "metadata": {
        "id": "l-Y4ElBdE8s1"
      },
      "execution_count": 26,
      "outputs": []
    },
    {
      "cell_type": "code",
      "source": [
        "X_train, X_test, y_train, y_test = train_test_split(X, y, test_size=0.3, random_state = 78, stratify= y)"
      ],
      "metadata": {
        "id": "dEB9LofAAELW"
      },
      "execution_count": 27,
      "outputs": []
    },
    {
      "cell_type": "code",
      "source": [
        "print(X_train.shape)\n",
        "print(X_test.shape)\n",
        "print(y_train.shape)\n",
        "print(y_test.shape)"
      ],
      "metadata": {
        "colab": {
          "base_uri": "https://localhost:8080/"
        },
        "id": "AX6EZiLPAEO5",
        "outputId": "ea18ce8e-d5e8-479f-e024-1c32edb5ed5f"
      },
      "execution_count": 28,
      "outputs": [
        {
          "output_type": "stream",
          "name": "stdout",
          "text": [
            "(3500, 7)\n",
            "(1501, 7)\n",
            "(3500,)\n",
            "(1501,)\n"
          ]
        }
      ]
    },
    {
      "cell_type": "code",
      "source": [
        "print(X_train.head())\n",
        "print(X_test.head())\n",
        "print(y_train.head())\n",
        "print(y_test.head())"
      ],
      "metadata": {
        "colab": {
          "base_uri": "https://localhost:8080/"
        },
        "id": "wDW13lPADwPI",
        "outputId": "7bf19c4f-98ee-4365-8a87-80b1a0c6cd4d"
      },
      "execution_count": 29,
      "outputs": [
        {
          "output_type": "stream",
          "name": "stdout",
          "text": [
            "      long_hair  forehead_width_cm  forehead_height_cm  nose_wide  nose_long  \\\n",
            "1332          1               12.1                 6.3          1          1   \n",
            "3636          1               13.9                 6.5          0          0   \n",
            "1295          1               14.9                 6.1          1          1   \n",
            "361           1               13.8                 5.5          0          0   \n",
            "2381          0               14.9                 5.3          1          1   \n",
            "\n",
            "      lips_thin  distance_nose_to_lip_long  \n",
            "1332          0                          0  \n",
            "3636          0                          0  \n",
            "1295          1                          1  \n",
            "361           1                          1  \n",
            "2381          1                          0  \n",
            "      long_hair  forehead_width_cm  forehead_height_cm  nose_wide  nose_long  \\\n",
            "1383          1               14.1                 6.1          0          0   \n",
            "875           1               13.1                 6.1          0          0   \n",
            "4157          1               13.2                 6.3          0          0   \n",
            "870           1               12.5                 5.8          0          0   \n",
            "114           1               13.8                 5.4          0          0   \n",
            "\n",
            "      lips_thin  distance_nose_to_lip_long  \n",
            "1383          0                          0  \n",
            "875           0                          0  \n",
            "4157          0                          1  \n",
            "870           0                          0  \n",
            "114           0                          0  \n",
            "1332    0\n",
            "3636    0\n",
            "1295    1\n",
            "361     1\n",
            "2381    1\n",
            "Name: gender, dtype: int64\n",
            "1383    0\n",
            "875     0\n",
            "4157    0\n",
            "870     0\n",
            "114     0\n",
            "Name: gender, dtype: int64\n"
          ]
        }
      ]
    },
    {
      "cell_type": "markdown",
      "source": [
        "## model Training"
      ],
      "metadata": {
        "id": "xFrjbOxv7uTy"
      }
    },
    {
      "cell_type": "markdown",
      "source": [
        "### evaluation matrix"
      ],
      "metadata": {
        "id": "BasxA8_pFTcF"
      }
    },
    {
      "cell_type": "code",
      "source": [
        "def eval_metric(y_train, y_train_pred, y_test, y_test_pred):\n",
        "  print(\"The train accuracy score is\",accuracy_score(y_train,y_train_pred))\n",
        "  print(\"The test accuracy score is\",accuracy_score(y_test,y_test_pred))\n",
        "  print(''' --------------------------------------------\n",
        "                Train Report\n",
        "-------------------------------------------- ''')\n",
        "  print(\"The confusion matrix  is\\n\",confusion_matrix(y_train,y_train_pred))\n",
        "  print(\"The classification report is\\n\",classification_report(y_train,y_train_pred))\n",
        "  print(''' --------------------------------------------\n",
        "                Test Report\n",
        "-------------------------------------------- ''')\n",
        "  print(\"The confusion matrix  is\\n\",confusion_matrix(y_test,y_test_pred))\n",
        "  print(\"The classification report  is\\n\",classification_report(y_test,y_test_pred))"
      ],
      "metadata": {
        "id": "KqnOebOIFaFv"
      },
      "execution_count": 30,
      "outputs": []
    },
    {
      "cell_type": "markdown",
      "source": [
        "### Logistic regression"
      ],
      "metadata": {
        "id": "PeDdUC8T_IdO"
      }
    },
    {
      "cell_type": "code",
      "source": [
        "lr = LogisticRegression()"
      ],
      "metadata": {
        "id": "4FwwpU457uWV"
      },
      "execution_count": 31,
      "outputs": []
    },
    {
      "cell_type": "code",
      "source": [
        "lr.fit(X_train, y_train)\n",
        "\n",
        "lr_train_pred = lr.predict(X_train)\n",
        "lr_test_pred = lr.predict(X_test)\n",
        "\n",
        "eval_metric(y_train, lr_train_pred, y_test, lr_test_pred)"
      ],
      "metadata": {
        "colab": {
          "base_uri": "https://localhost:8080/"
        },
        "id": "8UHyPSKqL7wT",
        "outputId": "7094a82e-aee0-4bbe-ffee-e55ec2c8bc43"
      },
      "execution_count": 32,
      "outputs": [
        {
          "output_type": "stream",
          "name": "stdout",
          "text": [
            "The train accuracy score is 0.9697142857142858\n",
            "The test accuracy score is 0.9686875416389074\n",
            " --------------------------------------------\n",
            "                Train Report\n",
            "-------------------------------------------- \n",
            "The confusion matrix  is\n",
            " [[1698   52]\n",
            " [  54 1696]]\n",
            "The classification report is\n",
            "               precision    recall  f1-score   support\n",
            "\n",
            "           0       0.97      0.97      0.97      1750\n",
            "           1       0.97      0.97      0.97      1750\n",
            "\n",
            "    accuracy                           0.97      3500\n",
            "   macro avg       0.97      0.97      0.97      3500\n",
            "weighted avg       0.97      0.97      0.97      3500\n",
            "\n",
            " --------------------------------------------\n",
            "                Test Report\n",
            "-------------------------------------------- \n",
            "The confusion matrix  is\n",
            " [[731  20]\n",
            " [ 27 723]]\n",
            "The classification report  is\n",
            "               precision    recall  f1-score   support\n",
            "\n",
            "           0       0.96      0.97      0.97       751\n",
            "           1       0.97      0.96      0.97       750\n",
            "\n",
            "    accuracy                           0.97      1501\n",
            "   macro avg       0.97      0.97      0.97      1501\n",
            "weighted avg       0.97      0.97      0.97      1501\n",
            "\n"
          ]
        }
      ]
    },
    {
      "cell_type": "markdown",
      "source": [
        "### SVM"
      ],
      "metadata": {
        "id": "UCz5AHp37uYr"
      }
    },
    {
      "cell_type": "code",
      "source": [
        "svc = SVC()\n",
        "\n",
        "svc_param_grid = {'C':[5,10], 'kernel':['linear', 'rbf'], 'gamma':[0.001, 0.005]}"
      ],
      "metadata": {
        "id": "9AQm6VVuh6j5"
      },
      "execution_count": 33,
      "outputs": []
    },
    {
      "cell_type": "code",
      "source": [
        "svc_grid = GridSearchCV(estimator = svc, param_grid = svc_param_grid, cv = 5)\n",
        "svc_grid.fit(X_train,y_train)"
      ],
      "metadata": {
        "colab": {
          "base_uri": "https://localhost:8080/",
          "height": 117
        },
        "id": "1VKQAzZZh6mt",
        "outputId": "1102fe62-c358-48f6-dc65-de6825cc9db8"
      },
      "execution_count": 34,
      "outputs": [
        {
          "output_type": "execute_result",
          "data": {
            "text/plain": [
              "GridSearchCV(cv=5, estimator=SVC(),\n",
              "             param_grid={'C': [5, 10], 'gamma': [0.001, 0.005],\n",
              "                         'kernel': ['linear', 'rbf']})"
            ],
            "text/html": [
              "<style>#sk-container-id-1 {color: black;background-color: white;}#sk-container-id-1 pre{padding: 0;}#sk-container-id-1 div.sk-toggleable {background-color: white;}#sk-container-id-1 label.sk-toggleable__label {cursor: pointer;display: block;width: 100%;margin-bottom: 0;padding: 0.3em;box-sizing: border-box;text-align: center;}#sk-container-id-1 label.sk-toggleable__label-arrow:before {content: \"▸\";float: left;margin-right: 0.25em;color: #696969;}#sk-container-id-1 label.sk-toggleable__label-arrow:hover:before {color: black;}#sk-container-id-1 div.sk-estimator:hover label.sk-toggleable__label-arrow:before {color: black;}#sk-container-id-1 div.sk-toggleable__content {max-height: 0;max-width: 0;overflow: hidden;text-align: left;background-color: #f0f8ff;}#sk-container-id-1 div.sk-toggleable__content pre {margin: 0.2em;color: black;border-radius: 0.25em;background-color: #f0f8ff;}#sk-container-id-1 input.sk-toggleable__control:checked~div.sk-toggleable__content {max-height: 200px;max-width: 100%;overflow: auto;}#sk-container-id-1 input.sk-toggleable__control:checked~label.sk-toggleable__label-arrow:before {content: \"▾\";}#sk-container-id-1 div.sk-estimator input.sk-toggleable__control:checked~label.sk-toggleable__label {background-color: #d4ebff;}#sk-container-id-1 div.sk-label input.sk-toggleable__control:checked~label.sk-toggleable__label {background-color: #d4ebff;}#sk-container-id-1 input.sk-hidden--visually {border: 0;clip: rect(1px 1px 1px 1px);clip: rect(1px, 1px, 1px, 1px);height: 1px;margin: -1px;overflow: hidden;padding: 0;position: absolute;width: 1px;}#sk-container-id-1 div.sk-estimator {font-family: monospace;background-color: #f0f8ff;border: 1px dotted black;border-radius: 0.25em;box-sizing: border-box;margin-bottom: 0.5em;}#sk-container-id-1 div.sk-estimator:hover {background-color: #d4ebff;}#sk-container-id-1 div.sk-parallel-item::after {content: \"\";width: 100%;border-bottom: 1px solid gray;flex-grow: 1;}#sk-container-id-1 div.sk-label:hover label.sk-toggleable__label {background-color: #d4ebff;}#sk-container-id-1 div.sk-serial::before {content: \"\";position: absolute;border-left: 1px solid gray;box-sizing: border-box;top: 0;bottom: 0;left: 50%;z-index: 0;}#sk-container-id-1 div.sk-serial {display: flex;flex-direction: column;align-items: center;background-color: white;padding-right: 0.2em;padding-left: 0.2em;position: relative;}#sk-container-id-1 div.sk-item {position: relative;z-index: 1;}#sk-container-id-1 div.sk-parallel {display: flex;align-items: stretch;justify-content: center;background-color: white;position: relative;}#sk-container-id-1 div.sk-item::before, #sk-container-id-1 div.sk-parallel-item::before {content: \"\";position: absolute;border-left: 1px solid gray;box-sizing: border-box;top: 0;bottom: 0;left: 50%;z-index: -1;}#sk-container-id-1 div.sk-parallel-item {display: flex;flex-direction: column;z-index: 1;position: relative;background-color: white;}#sk-container-id-1 div.sk-parallel-item:first-child::after {align-self: flex-end;width: 50%;}#sk-container-id-1 div.sk-parallel-item:last-child::after {align-self: flex-start;width: 50%;}#sk-container-id-1 div.sk-parallel-item:only-child::after {width: 0;}#sk-container-id-1 div.sk-dashed-wrapped {border: 1px dashed gray;margin: 0 0.4em 0.5em 0.4em;box-sizing: border-box;padding-bottom: 0.4em;background-color: white;}#sk-container-id-1 div.sk-label label {font-family: monospace;font-weight: bold;display: inline-block;line-height: 1.2em;}#sk-container-id-1 div.sk-label-container {text-align: center;}#sk-container-id-1 div.sk-container {/* jupyter's `normalize.less` sets `[hidden] { display: none; }` but bootstrap.min.css set `[hidden] { display: none !important; }` so we also need the `!important` here to be able to override the default hidden behavior on the sphinx rendered scikit-learn.org. See: https://github.com/scikit-learn/scikit-learn/issues/21755 */display: inline-block !important;position: relative;}#sk-container-id-1 div.sk-text-repr-fallback {display: none;}</style><div id=\"sk-container-id-1\" class=\"sk-top-container\"><div class=\"sk-text-repr-fallback\"><pre>GridSearchCV(cv=5, estimator=SVC(),\n",
              "             param_grid={&#x27;C&#x27;: [5, 10], &#x27;gamma&#x27;: [0.001, 0.005],\n",
              "                         &#x27;kernel&#x27;: [&#x27;linear&#x27;, &#x27;rbf&#x27;]})</pre><b>In a Jupyter environment, please rerun this cell to show the HTML representation or trust the notebook. <br />On GitHub, the HTML representation is unable to render, please try loading this page with nbviewer.org.</b></div><div class=\"sk-container\" hidden><div class=\"sk-item sk-dashed-wrapped\"><div class=\"sk-label-container\"><div class=\"sk-label sk-toggleable\"><input class=\"sk-toggleable__control sk-hidden--visually\" id=\"sk-estimator-id-1\" type=\"checkbox\" ><label for=\"sk-estimator-id-1\" class=\"sk-toggleable__label sk-toggleable__label-arrow\">GridSearchCV</label><div class=\"sk-toggleable__content\"><pre>GridSearchCV(cv=5, estimator=SVC(),\n",
              "             param_grid={&#x27;C&#x27;: [5, 10], &#x27;gamma&#x27;: [0.001, 0.005],\n",
              "                         &#x27;kernel&#x27;: [&#x27;linear&#x27;, &#x27;rbf&#x27;]})</pre></div></div></div><div class=\"sk-parallel\"><div class=\"sk-parallel-item\"><div class=\"sk-item\"><div class=\"sk-label-container\"><div class=\"sk-label sk-toggleable\"><input class=\"sk-toggleable__control sk-hidden--visually\" id=\"sk-estimator-id-2\" type=\"checkbox\" ><label for=\"sk-estimator-id-2\" class=\"sk-toggleable__label sk-toggleable__label-arrow\">estimator: SVC</label><div class=\"sk-toggleable__content\"><pre>SVC()</pre></div></div></div><div class=\"sk-serial\"><div class=\"sk-item\"><div class=\"sk-estimator sk-toggleable\"><input class=\"sk-toggleable__control sk-hidden--visually\" id=\"sk-estimator-id-3\" type=\"checkbox\" ><label for=\"sk-estimator-id-3\" class=\"sk-toggleable__label sk-toggleable__label-arrow\">SVC</label><div class=\"sk-toggleable__content\"><pre>SVC()</pre></div></div></div></div></div></div></div></div></div></div>"
            ]
          },
          "metadata": {},
          "execution_count": 34
        }
      ]
    },
    {
      "cell_type": "code",
      "source": [
        "svc_train_pred = svc_grid.predict(X_train)\n",
        "svc_test_pred =svc_grid.predict(X_test)\n",
        "\n",
        "eval_metric(y_train, svc_train_pred, y_test, svc_test_pred)"
      ],
      "metadata": {
        "colab": {
          "base_uri": "https://localhost:8080/"
        },
        "id": "o43dCVeoVOUp",
        "outputId": "bdd11b3d-5d76-4a5c-aeaa-36d240c5898e"
      },
      "execution_count": 35,
      "outputs": [
        {
          "output_type": "stream",
          "name": "stdout",
          "text": [
            "The train accuracy score is 0.9702857142857143\n",
            "The test accuracy score is 0.9686875416389074\n",
            " --------------------------------------------\n",
            "                Train Report\n",
            "-------------------------------------------- \n",
            "The confusion matrix  is\n",
            " [[1702   48]\n",
            " [  56 1694]]\n",
            "The classification report is\n",
            "               precision    recall  f1-score   support\n",
            "\n",
            "           0       0.97      0.97      0.97      1750\n",
            "           1       0.97      0.97      0.97      1750\n",
            "\n",
            "    accuracy                           0.97      3500\n",
            "   macro avg       0.97      0.97      0.97      3500\n",
            "weighted avg       0.97      0.97      0.97      3500\n",
            "\n",
            " --------------------------------------------\n",
            "                Test Report\n",
            "-------------------------------------------- \n",
            "The confusion matrix  is\n",
            " [[731  20]\n",
            " [ 27 723]]\n",
            "The classification report  is\n",
            "               precision    recall  f1-score   support\n",
            "\n",
            "           0       0.96      0.97      0.97       751\n",
            "           1       0.97      0.96      0.97       750\n",
            "\n",
            "    accuracy                           0.97      1501\n",
            "   macro avg       0.97      0.97      0.97      1501\n",
            "weighted avg       0.97      0.97      0.97      1501\n",
            "\n"
          ]
        }
      ]
    },
    {
      "cell_type": "code",
      "source": [
        "svc_grid.best_params_"
      ],
      "metadata": {
        "colab": {
          "base_uri": "https://localhost:8080/"
        },
        "id": "iRG7rRfHVdPe",
        "outputId": "fab53e0b-1d6d-4410-dcff-f242b8a9b9a0"
      },
      "execution_count": 36,
      "outputs": [
        {
          "output_type": "execute_result",
          "data": {
            "text/plain": [
              "{'C': 10, 'gamma': 0.001, 'kernel': 'rbf'}"
            ]
          },
          "metadata": {},
          "execution_count": 36
        }
      ]
    },
    {
      "cell_type": "markdown",
      "source": [
        "### Desicion Tree"
      ],
      "metadata": {
        "id": "47HCtYD37ub1"
      }
    },
    {
      "cell_type": "code",
      "source": [
        "dt = DecisionTreeClassifier()\n",
        "\n",
        "dt_param_grid = {'criterion':['gini', 'entropy'], 'max_depth':[5,6,8]}"
      ],
      "metadata": {
        "id": "MvEYRsK-it0F"
      },
      "execution_count": 37,
      "outputs": []
    },
    {
      "cell_type": "code",
      "source": [
        "dt_grid = GridSearchCV(estimator = dt, param_grid =dt_param_grid , cv =5 )\n",
        "dt_grid.fit(X_train, y_train)"
      ],
      "metadata": {
        "colab": {
          "base_uri": "https://localhost:8080/",
          "height": 117
        },
        "id": "PY4BEgolit79",
        "outputId": "d0bbfeb1-80ca-48ed-cc14-1477a4930f75"
      },
      "execution_count": 38,
      "outputs": [
        {
          "output_type": "execute_result",
          "data": {
            "text/plain": [
              "GridSearchCV(cv=5, estimator=DecisionTreeClassifier(),\n",
              "             param_grid={'criterion': ['gini', 'entropy'],\n",
              "                         'max_depth': [5, 6, 8]})"
            ],
            "text/html": [
              "<style>#sk-container-id-2 {color: black;background-color: white;}#sk-container-id-2 pre{padding: 0;}#sk-container-id-2 div.sk-toggleable {background-color: white;}#sk-container-id-2 label.sk-toggleable__label {cursor: pointer;display: block;width: 100%;margin-bottom: 0;padding: 0.3em;box-sizing: border-box;text-align: center;}#sk-container-id-2 label.sk-toggleable__label-arrow:before {content: \"▸\";float: left;margin-right: 0.25em;color: #696969;}#sk-container-id-2 label.sk-toggleable__label-arrow:hover:before {color: black;}#sk-container-id-2 div.sk-estimator:hover label.sk-toggleable__label-arrow:before {color: black;}#sk-container-id-2 div.sk-toggleable__content {max-height: 0;max-width: 0;overflow: hidden;text-align: left;background-color: #f0f8ff;}#sk-container-id-2 div.sk-toggleable__content pre {margin: 0.2em;color: black;border-radius: 0.25em;background-color: #f0f8ff;}#sk-container-id-2 input.sk-toggleable__control:checked~div.sk-toggleable__content {max-height: 200px;max-width: 100%;overflow: auto;}#sk-container-id-2 input.sk-toggleable__control:checked~label.sk-toggleable__label-arrow:before {content: \"▾\";}#sk-container-id-2 div.sk-estimator input.sk-toggleable__control:checked~label.sk-toggleable__label {background-color: #d4ebff;}#sk-container-id-2 div.sk-label input.sk-toggleable__control:checked~label.sk-toggleable__label {background-color: #d4ebff;}#sk-container-id-2 input.sk-hidden--visually {border: 0;clip: rect(1px 1px 1px 1px);clip: rect(1px, 1px, 1px, 1px);height: 1px;margin: -1px;overflow: hidden;padding: 0;position: absolute;width: 1px;}#sk-container-id-2 div.sk-estimator {font-family: monospace;background-color: #f0f8ff;border: 1px dotted black;border-radius: 0.25em;box-sizing: border-box;margin-bottom: 0.5em;}#sk-container-id-2 div.sk-estimator:hover {background-color: #d4ebff;}#sk-container-id-2 div.sk-parallel-item::after {content: \"\";width: 100%;border-bottom: 1px solid gray;flex-grow: 1;}#sk-container-id-2 div.sk-label:hover label.sk-toggleable__label {background-color: #d4ebff;}#sk-container-id-2 div.sk-serial::before {content: \"\";position: absolute;border-left: 1px solid gray;box-sizing: border-box;top: 0;bottom: 0;left: 50%;z-index: 0;}#sk-container-id-2 div.sk-serial {display: flex;flex-direction: column;align-items: center;background-color: white;padding-right: 0.2em;padding-left: 0.2em;position: relative;}#sk-container-id-2 div.sk-item {position: relative;z-index: 1;}#sk-container-id-2 div.sk-parallel {display: flex;align-items: stretch;justify-content: center;background-color: white;position: relative;}#sk-container-id-2 div.sk-item::before, #sk-container-id-2 div.sk-parallel-item::before {content: \"\";position: absolute;border-left: 1px solid gray;box-sizing: border-box;top: 0;bottom: 0;left: 50%;z-index: -1;}#sk-container-id-2 div.sk-parallel-item {display: flex;flex-direction: column;z-index: 1;position: relative;background-color: white;}#sk-container-id-2 div.sk-parallel-item:first-child::after {align-self: flex-end;width: 50%;}#sk-container-id-2 div.sk-parallel-item:last-child::after {align-self: flex-start;width: 50%;}#sk-container-id-2 div.sk-parallel-item:only-child::after {width: 0;}#sk-container-id-2 div.sk-dashed-wrapped {border: 1px dashed gray;margin: 0 0.4em 0.5em 0.4em;box-sizing: border-box;padding-bottom: 0.4em;background-color: white;}#sk-container-id-2 div.sk-label label {font-family: monospace;font-weight: bold;display: inline-block;line-height: 1.2em;}#sk-container-id-2 div.sk-label-container {text-align: center;}#sk-container-id-2 div.sk-container {/* jupyter's `normalize.less` sets `[hidden] { display: none; }` but bootstrap.min.css set `[hidden] { display: none !important; }` so we also need the `!important` here to be able to override the default hidden behavior on the sphinx rendered scikit-learn.org. See: https://github.com/scikit-learn/scikit-learn/issues/21755 */display: inline-block !important;position: relative;}#sk-container-id-2 div.sk-text-repr-fallback {display: none;}</style><div id=\"sk-container-id-2\" class=\"sk-top-container\"><div class=\"sk-text-repr-fallback\"><pre>GridSearchCV(cv=5, estimator=DecisionTreeClassifier(),\n",
              "             param_grid={&#x27;criterion&#x27;: [&#x27;gini&#x27;, &#x27;entropy&#x27;],\n",
              "                         &#x27;max_depth&#x27;: [5, 6, 8]})</pre><b>In a Jupyter environment, please rerun this cell to show the HTML representation or trust the notebook. <br />On GitHub, the HTML representation is unable to render, please try loading this page with nbviewer.org.</b></div><div class=\"sk-container\" hidden><div class=\"sk-item sk-dashed-wrapped\"><div class=\"sk-label-container\"><div class=\"sk-label sk-toggleable\"><input class=\"sk-toggleable__control sk-hidden--visually\" id=\"sk-estimator-id-4\" type=\"checkbox\" ><label for=\"sk-estimator-id-4\" class=\"sk-toggleable__label sk-toggleable__label-arrow\">GridSearchCV</label><div class=\"sk-toggleable__content\"><pre>GridSearchCV(cv=5, estimator=DecisionTreeClassifier(),\n",
              "             param_grid={&#x27;criterion&#x27;: [&#x27;gini&#x27;, &#x27;entropy&#x27;],\n",
              "                         &#x27;max_depth&#x27;: [5, 6, 8]})</pre></div></div></div><div class=\"sk-parallel\"><div class=\"sk-parallel-item\"><div class=\"sk-item\"><div class=\"sk-label-container\"><div class=\"sk-label sk-toggleable\"><input class=\"sk-toggleable__control sk-hidden--visually\" id=\"sk-estimator-id-5\" type=\"checkbox\" ><label for=\"sk-estimator-id-5\" class=\"sk-toggleable__label sk-toggleable__label-arrow\">estimator: DecisionTreeClassifier</label><div class=\"sk-toggleable__content\"><pre>DecisionTreeClassifier()</pre></div></div></div><div class=\"sk-serial\"><div class=\"sk-item\"><div class=\"sk-estimator sk-toggleable\"><input class=\"sk-toggleable__control sk-hidden--visually\" id=\"sk-estimator-id-6\" type=\"checkbox\" ><label for=\"sk-estimator-id-6\" class=\"sk-toggleable__label sk-toggleable__label-arrow\">DecisionTreeClassifier</label><div class=\"sk-toggleable__content\"><pre>DecisionTreeClassifier()</pre></div></div></div></div></div></div></div></div></div></div>"
            ]
          },
          "metadata": {},
          "execution_count": 38
        }
      ]
    },
    {
      "cell_type": "code",
      "source": [
        "dt_train_pred = dt_grid.predict(X_train)\n",
        "dt_test_pred = dt_grid.predict(X_test)\n",
        "\n",
        "eval_metric(y_train, dt_train_pred, y_test, dt_test_pred)"
      ],
      "metadata": {
        "colab": {
          "base_uri": "https://localhost:8080/"
        },
        "id": "8xaZBPF6dnPF",
        "outputId": "8a32fa6c-93cc-46f0-c3d5-0cab5ef9c774"
      },
      "execution_count": 39,
      "outputs": [
        {
          "output_type": "stream",
          "name": "stdout",
          "text": [
            "The train accuracy score is 0.9788571428571429\n",
            "The test accuracy score is 0.966688874083944\n",
            " --------------------------------------------\n",
            "                Train Report\n",
            "-------------------------------------------- \n",
            "The confusion matrix  is\n",
            " [[1722   28]\n",
            " [  46 1704]]\n",
            "The classification report is\n",
            "               precision    recall  f1-score   support\n",
            "\n",
            "           0       0.97      0.98      0.98      1750\n",
            "           1       0.98      0.97      0.98      1750\n",
            "\n",
            "    accuracy                           0.98      3500\n",
            "   macro avg       0.98      0.98      0.98      3500\n",
            "weighted avg       0.98      0.98      0.98      3500\n",
            "\n",
            " --------------------------------------------\n",
            "                Test Report\n",
            "-------------------------------------------- \n",
            "The confusion matrix  is\n",
            " [[736  15]\n",
            " [ 35 715]]\n",
            "The classification report  is\n",
            "               precision    recall  f1-score   support\n",
            "\n",
            "           0       0.95      0.98      0.97       751\n",
            "           1       0.98      0.95      0.97       750\n",
            "\n",
            "    accuracy                           0.97      1501\n",
            "   macro avg       0.97      0.97      0.97      1501\n",
            "weighted avg       0.97      0.97      0.97      1501\n",
            "\n"
          ]
        }
      ]
    },
    {
      "cell_type": "code",
      "source": [
        "dt_grid.best_params_"
      ],
      "metadata": {
        "colab": {
          "base_uri": "https://localhost:8080/"
        },
        "id": "iuDh2OIOeKde",
        "outputId": "77d3b77d-050c-47a1-c013-2d3abcabdc55"
      },
      "execution_count": 40,
      "outputs": [
        {
          "output_type": "execute_result",
          "data": {
            "text/plain": [
              "{'criterion': 'gini', 'max_depth': 6}"
            ]
          },
          "metadata": {},
          "execution_count": 40
        }
      ]
    },
    {
      "cell_type": "markdown",
      "source": [
        "### K Nearest Neigbour"
      ],
      "metadata": {
        "id": "al23eNGv7uej"
      }
    },
    {
      "cell_type": "code",
      "source": [
        "kn = KNeighborsClassifier()"
      ],
      "metadata": {
        "id": "wV93BXj7kQzJ"
      },
      "execution_count": 41,
      "outputs": []
    },
    {
      "cell_type": "code",
      "source": [
        "kn.fit(X_train, y_train)\n",
        "\n",
        "kn_train_pred = kn.predict(X_train)\n",
        "kn_test_pred = kn.predict(X_test)\n",
        "\n",
        "eval_metric(y_train, kn_train_pred, y_test, kn_test_pred)"
      ],
      "metadata": {
        "colab": {
          "base_uri": "https://localhost:8080/"
        },
        "id": "jtIFXZWQkQ-y",
        "outputId": "d7e44f5e-8184-4c72-92c5-e543aacfe435"
      },
      "execution_count": 42,
      "outputs": [
        {
          "output_type": "stream",
          "name": "stdout",
          "text": [
            "The train accuracy score is 0.9748571428571429\n",
            "The test accuracy score is 0.9686875416389074\n",
            " --------------------------------------------\n",
            "                Train Report\n",
            "-------------------------------------------- \n",
            "The confusion matrix  is\n",
            " [[1717   33]\n",
            " [  55 1695]]\n",
            "The classification report is\n",
            "               precision    recall  f1-score   support\n",
            "\n",
            "           0       0.97      0.98      0.98      1750\n",
            "           1       0.98      0.97      0.97      1750\n",
            "\n",
            "    accuracy                           0.97      3500\n",
            "   macro avg       0.97      0.97      0.97      3500\n",
            "weighted avg       0.97      0.97      0.97      3500\n",
            "\n",
            " --------------------------------------------\n",
            "                Test Report\n",
            "-------------------------------------------- \n",
            "The confusion matrix  is\n",
            " [[737  14]\n",
            " [ 33 717]]\n",
            "The classification report  is\n",
            "               precision    recall  f1-score   support\n",
            "\n",
            "           0       0.96      0.98      0.97       751\n",
            "           1       0.98      0.96      0.97       750\n",
            "\n",
            "    accuracy                           0.97      1501\n",
            "   macro avg       0.97      0.97      0.97      1501\n",
            "weighted avg       0.97      0.97      0.97      1501\n",
            "\n"
          ]
        }
      ]
    },
    {
      "cell_type": "markdown",
      "source": [
        "### Random Forest"
      ],
      "metadata": {
        "id": "jRsl7K2KJH60"
      }
    },
    {
      "cell_type": "code",
      "source": [
        "rf = RandomForestClassifier()\n",
        "\n",
        "rf_param_grid = {\"n_estimators\" : [50,100,150],\"max_depth\" : [5,8,10], \"max_features\" : [3, 5, 7], \"min_samples_leaf\" : [2 ,4, 6]}\n"
      ],
      "metadata": {
        "id": "c6GVNIaKkxOb"
      },
      "execution_count": 43,
      "outputs": []
    },
    {
      "cell_type": "code",
      "source": [
        "rf_grid = GridSearchCV(estimator = rf, param_grid = rf_param_grid, cv =5 )\n",
        "rf_grid.fit(X_train, y_train)"
      ],
      "metadata": {
        "colab": {
          "base_uri": "https://localhost:8080/",
          "height": 117
        },
        "id": "ES6Z0PM7kxXI",
        "outputId": "72318a8d-59d3-4ca7-ea49-9e446aec91ed"
      },
      "execution_count": 75,
      "outputs": [
        {
          "output_type": "execute_result",
          "data": {
            "text/plain": [
              "GridSearchCV(cv=5, estimator=RandomForestClassifier(),\n",
              "             param_grid={'max_depth': [5, 8, 10], 'max_features': [3, 5, 7],\n",
              "                         'min_samples_leaf': [2, 4, 6],\n",
              "                         'n_estimators': [50, 100, 150]})"
            ],
            "text/html": [
              "<style>#sk-container-id-5 {color: black;background-color: white;}#sk-container-id-5 pre{padding: 0;}#sk-container-id-5 div.sk-toggleable {background-color: white;}#sk-container-id-5 label.sk-toggleable__label {cursor: pointer;display: block;width: 100%;margin-bottom: 0;padding: 0.3em;box-sizing: border-box;text-align: center;}#sk-container-id-5 label.sk-toggleable__label-arrow:before {content: \"▸\";float: left;margin-right: 0.25em;color: #696969;}#sk-container-id-5 label.sk-toggleable__label-arrow:hover:before {color: black;}#sk-container-id-5 div.sk-estimator:hover label.sk-toggleable__label-arrow:before {color: black;}#sk-container-id-5 div.sk-toggleable__content {max-height: 0;max-width: 0;overflow: hidden;text-align: left;background-color: #f0f8ff;}#sk-container-id-5 div.sk-toggleable__content pre {margin: 0.2em;color: black;border-radius: 0.25em;background-color: #f0f8ff;}#sk-container-id-5 input.sk-toggleable__control:checked~div.sk-toggleable__content {max-height: 200px;max-width: 100%;overflow: auto;}#sk-container-id-5 input.sk-toggleable__control:checked~label.sk-toggleable__label-arrow:before {content: \"▾\";}#sk-container-id-5 div.sk-estimator input.sk-toggleable__control:checked~label.sk-toggleable__label {background-color: #d4ebff;}#sk-container-id-5 div.sk-label input.sk-toggleable__control:checked~label.sk-toggleable__label {background-color: #d4ebff;}#sk-container-id-5 input.sk-hidden--visually {border: 0;clip: rect(1px 1px 1px 1px);clip: rect(1px, 1px, 1px, 1px);height: 1px;margin: -1px;overflow: hidden;padding: 0;position: absolute;width: 1px;}#sk-container-id-5 div.sk-estimator {font-family: monospace;background-color: #f0f8ff;border: 1px dotted black;border-radius: 0.25em;box-sizing: border-box;margin-bottom: 0.5em;}#sk-container-id-5 div.sk-estimator:hover {background-color: #d4ebff;}#sk-container-id-5 div.sk-parallel-item::after {content: \"\";width: 100%;border-bottom: 1px solid gray;flex-grow: 1;}#sk-container-id-5 div.sk-label:hover label.sk-toggleable__label {background-color: #d4ebff;}#sk-container-id-5 div.sk-serial::before {content: \"\";position: absolute;border-left: 1px solid gray;box-sizing: border-box;top: 0;bottom: 0;left: 50%;z-index: 0;}#sk-container-id-5 div.sk-serial {display: flex;flex-direction: column;align-items: center;background-color: white;padding-right: 0.2em;padding-left: 0.2em;position: relative;}#sk-container-id-5 div.sk-item {position: relative;z-index: 1;}#sk-container-id-5 div.sk-parallel {display: flex;align-items: stretch;justify-content: center;background-color: white;position: relative;}#sk-container-id-5 div.sk-item::before, #sk-container-id-5 div.sk-parallel-item::before {content: \"\";position: absolute;border-left: 1px solid gray;box-sizing: border-box;top: 0;bottom: 0;left: 50%;z-index: -1;}#sk-container-id-5 div.sk-parallel-item {display: flex;flex-direction: column;z-index: 1;position: relative;background-color: white;}#sk-container-id-5 div.sk-parallel-item:first-child::after {align-self: flex-end;width: 50%;}#sk-container-id-5 div.sk-parallel-item:last-child::after {align-self: flex-start;width: 50%;}#sk-container-id-5 div.sk-parallel-item:only-child::after {width: 0;}#sk-container-id-5 div.sk-dashed-wrapped {border: 1px dashed gray;margin: 0 0.4em 0.5em 0.4em;box-sizing: border-box;padding-bottom: 0.4em;background-color: white;}#sk-container-id-5 div.sk-label label {font-family: monospace;font-weight: bold;display: inline-block;line-height: 1.2em;}#sk-container-id-5 div.sk-label-container {text-align: center;}#sk-container-id-5 div.sk-container {/* jupyter's `normalize.less` sets `[hidden] { display: none; }` but bootstrap.min.css set `[hidden] { display: none !important; }` so we also need the `!important` here to be able to override the default hidden behavior on the sphinx rendered scikit-learn.org. See: https://github.com/scikit-learn/scikit-learn/issues/21755 */display: inline-block !important;position: relative;}#sk-container-id-5 div.sk-text-repr-fallback {display: none;}</style><div id=\"sk-container-id-5\" class=\"sk-top-container\"><div class=\"sk-text-repr-fallback\"><pre>GridSearchCV(cv=5, estimator=RandomForestClassifier(),\n",
              "             param_grid={&#x27;max_depth&#x27;: [5, 8, 10], &#x27;max_features&#x27;: [3, 5, 7],\n",
              "                         &#x27;min_samples_leaf&#x27;: [2, 4, 6],\n",
              "                         &#x27;n_estimators&#x27;: [50, 100, 150]})</pre><b>In a Jupyter environment, please rerun this cell to show the HTML representation or trust the notebook. <br />On GitHub, the HTML representation is unable to render, please try loading this page with nbviewer.org.</b></div><div class=\"sk-container\" hidden><div class=\"sk-item sk-dashed-wrapped\"><div class=\"sk-label-container\"><div class=\"sk-label sk-toggleable\"><input class=\"sk-toggleable__control sk-hidden--visually\" id=\"sk-estimator-id-13\" type=\"checkbox\" ><label for=\"sk-estimator-id-13\" class=\"sk-toggleable__label sk-toggleable__label-arrow\">GridSearchCV</label><div class=\"sk-toggleable__content\"><pre>GridSearchCV(cv=5, estimator=RandomForestClassifier(),\n",
              "             param_grid={&#x27;max_depth&#x27;: [5, 8, 10], &#x27;max_features&#x27;: [3, 5, 7],\n",
              "                         &#x27;min_samples_leaf&#x27;: [2, 4, 6],\n",
              "                         &#x27;n_estimators&#x27;: [50, 100, 150]})</pre></div></div></div><div class=\"sk-parallel\"><div class=\"sk-parallel-item\"><div class=\"sk-item\"><div class=\"sk-label-container\"><div class=\"sk-label sk-toggleable\"><input class=\"sk-toggleable__control sk-hidden--visually\" id=\"sk-estimator-id-14\" type=\"checkbox\" ><label for=\"sk-estimator-id-14\" class=\"sk-toggleable__label sk-toggleable__label-arrow\">estimator: RandomForestClassifier</label><div class=\"sk-toggleable__content\"><pre>RandomForestClassifier()</pre></div></div></div><div class=\"sk-serial\"><div class=\"sk-item\"><div class=\"sk-estimator sk-toggleable\"><input class=\"sk-toggleable__control sk-hidden--visually\" id=\"sk-estimator-id-15\" type=\"checkbox\" ><label for=\"sk-estimator-id-15\" class=\"sk-toggleable__label sk-toggleable__label-arrow\">RandomForestClassifier</label><div class=\"sk-toggleable__content\"><pre>RandomForestClassifier()</pre></div></div></div></div></div></div></div></div></div></div>"
            ]
          },
          "metadata": {},
          "execution_count": 75
        }
      ]
    },
    {
      "cell_type": "code",
      "source": [
        "rf_train_pred = rf_grid.predict(X_train)\n",
        "rf_test_pred = rf_grid.predict(X_test)\n",
        "\n",
        "eval_metric(y_train, rf_train_pred, y_test, rf_test_pred)"
      ],
      "metadata": {
        "colab": {
          "base_uri": "https://localhost:8080/"
        },
        "id": "BHW-9-hqkOee",
        "outputId": "a8ab3a22-d5fe-4ea5-8f7f-6783a054e08a"
      },
      "execution_count": 76,
      "outputs": [
        {
          "output_type": "stream",
          "name": "stdout",
          "text": [
            "The train accuracy score is 0.9777142857142858\n",
            "The test accuracy score is 0.9706862091938707\n",
            " --------------------------------------------\n",
            "                Train Report\n",
            "-------------------------------------------- \n",
            "The confusion matrix  is\n",
            " [[1724   26]\n",
            " [  52 1698]]\n",
            "The classification report is\n",
            "               precision    recall  f1-score   support\n",
            "\n",
            "           0       0.97      0.99      0.98      1750\n",
            "           1       0.98      0.97      0.98      1750\n",
            "\n",
            "    accuracy                           0.98      3500\n",
            "   macro avg       0.98      0.98      0.98      3500\n",
            "weighted avg       0.98      0.98      0.98      3500\n",
            "\n",
            " --------------------------------------------\n",
            "                Test Report\n",
            "-------------------------------------------- \n",
            "The confusion matrix  is\n",
            " [[739  12]\n",
            " [ 32 718]]\n",
            "The classification report  is\n",
            "               precision    recall  f1-score   support\n",
            "\n",
            "           0       0.96      0.98      0.97       751\n",
            "           1       0.98      0.96      0.97       750\n",
            "\n",
            "    accuracy                           0.97      1501\n",
            "   macro avg       0.97      0.97      0.97      1501\n",
            "weighted avg       0.97      0.97      0.97      1501\n",
            "\n"
          ]
        }
      ]
    },
    {
      "cell_type": "code",
      "source": [
        "rf_grid.best_params_"
      ],
      "metadata": {
        "colab": {
          "base_uri": "https://localhost:8080/"
        },
        "id": "Y8kmEMTBkTc8",
        "outputId": "ac2b56ba-4d94-4a41-95a4-82d74b4f9f2c"
      },
      "execution_count": 77,
      "outputs": [
        {
          "output_type": "execute_result",
          "data": {
            "text/plain": [
              "{'max_depth': 5, 'max_features': 3, 'min_samples_leaf': 2, 'n_estimators': 150}"
            ]
          },
          "metadata": {},
          "execution_count": 77
        }
      ]
    },
    {
      "cell_type": "markdown",
      "source": [
        "### Gradient Boost"
      ],
      "metadata": {
        "id": "-KP-uPWNJNE3"
      }
    },
    {
      "cell_type": "code",
      "source": [
        "gb = GradientBoostingClassifier()\n",
        "gb_param_grid = {'max_depth': [8,10,12,14], 'subsample': [0.8, 0.6], 'max_features':[0.2, 0.3],\n",
        "              'n_estimators': [10, 20, 30]}"
      ],
      "metadata": {
        "id": "yidAplV3lJyi"
      },
      "execution_count": 78,
      "outputs": []
    },
    {
      "cell_type": "code",
      "source": [
        "gb_grid = GridSearchCV(estimator = gb, param_grid = gb_param_grid, cv = 5)\n",
        "gb_grid.fit(X_train, y_train)"
      ],
      "metadata": {
        "colab": {
          "base_uri": "https://localhost:8080/",
          "height": 117
        },
        "id": "IwgpoYexlKc4",
        "outputId": "dd1d362b-96da-40d9-fd05-0286b31b9495"
      },
      "execution_count": 79,
      "outputs": [
        {
          "output_type": "execute_result",
          "data": {
            "text/plain": [
              "GridSearchCV(cv=5, estimator=GradientBoostingClassifier(),\n",
              "             param_grid={'max_depth': [8, 10, 12, 14],\n",
              "                         'max_features': [0.2, 0.3],\n",
              "                         'n_estimators': [10, 20, 30],\n",
              "                         'subsample': [0.8, 0.6]})"
            ],
            "text/html": [
              "<style>#sk-container-id-6 {color: black;background-color: white;}#sk-container-id-6 pre{padding: 0;}#sk-container-id-6 div.sk-toggleable {background-color: white;}#sk-container-id-6 label.sk-toggleable__label {cursor: pointer;display: block;width: 100%;margin-bottom: 0;padding: 0.3em;box-sizing: border-box;text-align: center;}#sk-container-id-6 label.sk-toggleable__label-arrow:before {content: \"▸\";float: left;margin-right: 0.25em;color: #696969;}#sk-container-id-6 label.sk-toggleable__label-arrow:hover:before {color: black;}#sk-container-id-6 div.sk-estimator:hover label.sk-toggleable__label-arrow:before {color: black;}#sk-container-id-6 div.sk-toggleable__content {max-height: 0;max-width: 0;overflow: hidden;text-align: left;background-color: #f0f8ff;}#sk-container-id-6 div.sk-toggleable__content pre {margin: 0.2em;color: black;border-radius: 0.25em;background-color: #f0f8ff;}#sk-container-id-6 input.sk-toggleable__control:checked~div.sk-toggleable__content {max-height: 200px;max-width: 100%;overflow: auto;}#sk-container-id-6 input.sk-toggleable__control:checked~label.sk-toggleable__label-arrow:before {content: \"▾\";}#sk-container-id-6 div.sk-estimator input.sk-toggleable__control:checked~label.sk-toggleable__label {background-color: #d4ebff;}#sk-container-id-6 div.sk-label input.sk-toggleable__control:checked~label.sk-toggleable__label {background-color: #d4ebff;}#sk-container-id-6 input.sk-hidden--visually {border: 0;clip: rect(1px 1px 1px 1px);clip: rect(1px, 1px, 1px, 1px);height: 1px;margin: -1px;overflow: hidden;padding: 0;position: absolute;width: 1px;}#sk-container-id-6 div.sk-estimator {font-family: monospace;background-color: #f0f8ff;border: 1px dotted black;border-radius: 0.25em;box-sizing: border-box;margin-bottom: 0.5em;}#sk-container-id-6 div.sk-estimator:hover {background-color: #d4ebff;}#sk-container-id-6 div.sk-parallel-item::after {content: \"\";width: 100%;border-bottom: 1px solid gray;flex-grow: 1;}#sk-container-id-6 div.sk-label:hover label.sk-toggleable__label {background-color: #d4ebff;}#sk-container-id-6 div.sk-serial::before {content: \"\";position: absolute;border-left: 1px solid gray;box-sizing: border-box;top: 0;bottom: 0;left: 50%;z-index: 0;}#sk-container-id-6 div.sk-serial {display: flex;flex-direction: column;align-items: center;background-color: white;padding-right: 0.2em;padding-left: 0.2em;position: relative;}#sk-container-id-6 div.sk-item {position: relative;z-index: 1;}#sk-container-id-6 div.sk-parallel {display: flex;align-items: stretch;justify-content: center;background-color: white;position: relative;}#sk-container-id-6 div.sk-item::before, #sk-container-id-6 div.sk-parallel-item::before {content: \"\";position: absolute;border-left: 1px solid gray;box-sizing: border-box;top: 0;bottom: 0;left: 50%;z-index: -1;}#sk-container-id-6 div.sk-parallel-item {display: flex;flex-direction: column;z-index: 1;position: relative;background-color: white;}#sk-container-id-6 div.sk-parallel-item:first-child::after {align-self: flex-end;width: 50%;}#sk-container-id-6 div.sk-parallel-item:last-child::after {align-self: flex-start;width: 50%;}#sk-container-id-6 div.sk-parallel-item:only-child::after {width: 0;}#sk-container-id-6 div.sk-dashed-wrapped {border: 1px dashed gray;margin: 0 0.4em 0.5em 0.4em;box-sizing: border-box;padding-bottom: 0.4em;background-color: white;}#sk-container-id-6 div.sk-label label {font-family: monospace;font-weight: bold;display: inline-block;line-height: 1.2em;}#sk-container-id-6 div.sk-label-container {text-align: center;}#sk-container-id-6 div.sk-container {/* jupyter's `normalize.less` sets `[hidden] { display: none; }` but bootstrap.min.css set `[hidden] { display: none !important; }` so we also need the `!important` here to be able to override the default hidden behavior on the sphinx rendered scikit-learn.org. See: https://github.com/scikit-learn/scikit-learn/issues/21755 */display: inline-block !important;position: relative;}#sk-container-id-6 div.sk-text-repr-fallback {display: none;}</style><div id=\"sk-container-id-6\" class=\"sk-top-container\"><div class=\"sk-text-repr-fallback\"><pre>GridSearchCV(cv=5, estimator=GradientBoostingClassifier(),\n",
              "             param_grid={&#x27;max_depth&#x27;: [8, 10, 12, 14],\n",
              "                         &#x27;max_features&#x27;: [0.2, 0.3],\n",
              "                         &#x27;n_estimators&#x27;: [10, 20, 30],\n",
              "                         &#x27;subsample&#x27;: [0.8, 0.6]})</pre><b>In a Jupyter environment, please rerun this cell to show the HTML representation or trust the notebook. <br />On GitHub, the HTML representation is unable to render, please try loading this page with nbviewer.org.</b></div><div class=\"sk-container\" hidden><div class=\"sk-item sk-dashed-wrapped\"><div class=\"sk-label-container\"><div class=\"sk-label sk-toggleable\"><input class=\"sk-toggleable__control sk-hidden--visually\" id=\"sk-estimator-id-16\" type=\"checkbox\" ><label for=\"sk-estimator-id-16\" class=\"sk-toggleable__label sk-toggleable__label-arrow\">GridSearchCV</label><div class=\"sk-toggleable__content\"><pre>GridSearchCV(cv=5, estimator=GradientBoostingClassifier(),\n",
              "             param_grid={&#x27;max_depth&#x27;: [8, 10, 12, 14],\n",
              "                         &#x27;max_features&#x27;: [0.2, 0.3],\n",
              "                         &#x27;n_estimators&#x27;: [10, 20, 30],\n",
              "                         &#x27;subsample&#x27;: [0.8, 0.6]})</pre></div></div></div><div class=\"sk-parallel\"><div class=\"sk-parallel-item\"><div class=\"sk-item\"><div class=\"sk-label-container\"><div class=\"sk-label sk-toggleable\"><input class=\"sk-toggleable__control sk-hidden--visually\" id=\"sk-estimator-id-17\" type=\"checkbox\" ><label for=\"sk-estimator-id-17\" class=\"sk-toggleable__label sk-toggleable__label-arrow\">estimator: GradientBoostingClassifier</label><div class=\"sk-toggleable__content\"><pre>GradientBoostingClassifier()</pre></div></div></div><div class=\"sk-serial\"><div class=\"sk-item\"><div class=\"sk-estimator sk-toggleable\"><input class=\"sk-toggleable__control sk-hidden--visually\" id=\"sk-estimator-id-18\" type=\"checkbox\" ><label for=\"sk-estimator-id-18\" class=\"sk-toggleable__label sk-toggleable__label-arrow\">GradientBoostingClassifier</label><div class=\"sk-toggleable__content\"><pre>GradientBoostingClassifier()</pre></div></div></div></div></div></div></div></div></div></div>"
            ]
          },
          "metadata": {},
          "execution_count": 79
        }
      ]
    },
    {
      "cell_type": "code",
      "source": [
        "gb_train_pred = gb_grid.predict(X_train)\n",
        "gb_test_pred = gb_grid.predict(X_test)\n",
        "\n",
        "eval_metric(y_train, gb_train_pred, y_test, gb_test_pred)"
      ],
      "metadata": {
        "colab": {
          "base_uri": "https://localhost:8080/"
        },
        "id": "KXuAmLPCmr9x",
        "outputId": "b38e1149-208a-4f16-f83c-89f5f18b6e38"
      },
      "execution_count": 80,
      "outputs": [
        {
          "output_type": "stream",
          "name": "stdout",
          "text": [
            "The train accuracy score is 0.9868571428571429\n",
            "The test accuracy score is 0.9700199866755497\n",
            " --------------------------------------------\n",
            "                Train Report\n",
            "-------------------------------------------- \n",
            "The confusion matrix  is\n",
            " [[1738   12]\n",
            " [  34 1716]]\n",
            "The classification report is\n",
            "               precision    recall  f1-score   support\n",
            "\n",
            "           0       0.98      0.99      0.99      1750\n",
            "           1       0.99      0.98      0.99      1750\n",
            "\n",
            "    accuracy                           0.99      3500\n",
            "   macro avg       0.99      0.99      0.99      3500\n",
            "weighted avg       0.99      0.99      0.99      3500\n",
            "\n",
            " --------------------------------------------\n",
            "                Test Report\n",
            "-------------------------------------------- \n",
            "The confusion matrix  is\n",
            " [[736  15]\n",
            " [ 30 720]]\n",
            "The classification report  is\n",
            "               precision    recall  f1-score   support\n",
            "\n",
            "           0       0.96      0.98      0.97       751\n",
            "           1       0.98      0.96      0.97       750\n",
            "\n",
            "    accuracy                           0.97      1501\n",
            "   macro avg       0.97      0.97      0.97      1501\n",
            "weighted avg       0.97      0.97      0.97      1501\n",
            "\n"
          ]
        }
      ]
    },
    {
      "cell_type": "code",
      "source": [
        "gb_grid.best_params_"
      ],
      "metadata": {
        "colab": {
          "base_uri": "https://localhost:8080/"
        },
        "id": "mPzdP9znoCwF",
        "outputId": "0e6756fb-9221-4315-a48f-7639d4648b30"
      },
      "execution_count": 81,
      "outputs": [
        {
          "output_type": "execute_result",
          "data": {
            "text/plain": [
              "{'max_depth': 8, 'max_features': 0.2, 'n_estimators': 10, 'subsample': 0.8}"
            ]
          },
          "metadata": {},
          "execution_count": 81
        }
      ]
    },
    {
      "cell_type": "markdown",
      "source": [
        "## ANN"
      ],
      "metadata": {
        "id": "CwJiqwSD5e8K"
      }
    },
    {
      "cell_type": "code",
      "source": [
        "X_train_arr = X_train.values\n",
        "X_test_arr = X_test.values"
      ],
      "metadata": {
        "id": "troSCBSB5mM1"
      },
      "execution_count": 83,
      "outputs": []
    },
    {
      "cell_type": "code",
      "source": [
        "print(X_train_arr.shape)\n",
        "print(X_test_arr.shape)"
      ],
      "metadata": {
        "colab": {
          "base_uri": "https://localhost:8080/"
        },
        "id": "6oPcpr1f5-R3",
        "outputId": "34d8f0c7-0ea3-4c6d-8ed5-525da2d222b0"
      },
      "execution_count": 84,
      "outputs": [
        {
          "output_type": "stream",
          "name": "stdout",
          "text": [
            "(3500, 7)\n",
            "(1501, 7)\n"
          ]
        }
      ]
    },
    {
      "cell_type": "code",
      "source": [
        "model = Sequential()\n",
        "model.add(Dense(1, activation='sigmoid', input_shape=(7,)))"
      ],
      "metadata": {
        "id": "Ji7v0o0O5zTa"
      },
      "execution_count": 85,
      "outputs": []
    },
    {
      "cell_type": "code",
      "source": [
        "model.compile(loss='binary_crossentropy', optimizer='sgd', metrics=['accuracy'])"
      ],
      "metadata": {
        "id": "ibVljv_C6IrA"
      },
      "execution_count": 86,
      "outputs": []
    },
    {
      "cell_type": "code",
      "source": [
        "model.summary()"
      ],
      "metadata": {
        "colab": {
          "base_uri": "https://localhost:8080/"
        },
        "id": "LSGua8Mq6UHg",
        "outputId": "0e1de205-0477-4ce5-8f16-b85a0f3e36dc"
      },
      "execution_count": 87,
      "outputs": [
        {
          "output_type": "stream",
          "name": "stdout",
          "text": [
            "Model: \"sequential_3\"\n",
            "_________________________________________________________________\n",
            " Layer (type)                Output Shape              Param #   \n",
            "=================================================================\n",
            " dense_6 (Dense)             (None, 1)                 8         \n",
            "                                                                 \n",
            "=================================================================\n",
            "Total params: 8 (32.00 Byte)\n",
            "Trainable params: 8 (32.00 Byte)\n",
            "Non-trainable params: 0 (0.00 Byte)\n",
            "_________________________________________________________________\n"
          ]
        }
      ]
    },
    {
      "cell_type": "code",
      "source": [
        "model_history = model.fit(X_train_arr, y_train, epochs=100, validation_split=0.2)"
      ],
      "metadata": {
        "colab": {
          "base_uri": "https://localhost:8080/"
        },
        "id": "AscRxi0q6YYr",
        "outputId": "5168eef2-3475-4dab-c0af-ba5a19d9127e"
      },
      "execution_count": 88,
      "outputs": [
        {
          "output_type": "stream",
          "name": "stdout",
          "text": [
            "Epoch 1/100\n",
            "88/88 [==============================] - 1s 4ms/step - loss: 0.8830 - accuracy: 0.4675 - val_loss: 0.7068 - val_accuracy: 0.5200\n",
            "Epoch 2/100\n",
            "88/88 [==============================] - 0s 2ms/step - loss: 0.6541 - accuracy: 0.6254 - val_loss: 0.6067 - val_accuracy: 0.7057\n",
            "Epoch 3/100\n",
            "88/88 [==============================] - 0s 2ms/step - loss: 0.5637 - accuracy: 0.7743 - val_loss: 0.5627 - val_accuracy: 0.7129\n",
            "Epoch 4/100\n",
            "88/88 [==============================] - 0s 3ms/step - loss: 0.4937 - accuracy: 0.8539 - val_loss: 0.4756 - val_accuracy: 0.8614\n",
            "Epoch 5/100\n",
            "88/88 [==============================] - 0s 3ms/step - loss: 0.4420 - accuracy: 0.8907 - val_loss: 0.4235 - val_accuracy: 0.8929\n",
            "Epoch 6/100\n",
            "88/88 [==============================] - 0s 3ms/step - loss: 0.3981 - accuracy: 0.9046 - val_loss: 0.3992 - val_accuracy: 0.9000\n",
            "Epoch 7/100\n",
            "88/88 [==============================] - 0s 2ms/step - loss: 0.3644 - accuracy: 0.9186 - val_loss: 0.3586 - val_accuracy: 0.9071\n",
            "Epoch 8/100\n",
            "88/88 [==============================] - 0s 2ms/step - loss: 0.3376 - accuracy: 0.9250 - val_loss: 0.3326 - val_accuracy: 0.9171\n",
            "Epoch 9/100\n",
            "88/88 [==============================] - 0s 2ms/step - loss: 0.3139 - accuracy: 0.9361 - val_loss: 0.3107 - val_accuracy: 0.9257\n",
            "Epoch 10/100\n",
            "88/88 [==============================] - 0s 3ms/step - loss: 0.2949 - accuracy: 0.9429 - val_loss: 0.3008 - val_accuracy: 0.9257\n",
            "Epoch 11/100\n",
            "88/88 [==============================] - 0s 3ms/step - loss: 0.2783 - accuracy: 0.9521 - val_loss: 0.2812 - val_accuracy: 0.9343\n",
            "Epoch 12/100\n",
            "88/88 [==============================] - 0s 3ms/step - loss: 0.2644 - accuracy: 0.9504 - val_loss: 0.2752 - val_accuracy: 0.9171\n",
            "Epoch 13/100\n",
            "88/88 [==============================] - 0s 2ms/step - loss: 0.2522 - accuracy: 0.9550 - val_loss: 0.2560 - val_accuracy: 0.9414\n",
            "Epoch 14/100\n",
            "88/88 [==============================] - 0s 3ms/step - loss: 0.2407 - accuracy: 0.9554 - val_loss: 0.2452 - val_accuracy: 0.9429\n",
            "Epoch 15/100\n",
            "88/88 [==============================] - 0s 2ms/step - loss: 0.2313 - accuracy: 0.9568 - val_loss: 0.2377 - val_accuracy: 0.9400\n",
            "Epoch 16/100\n",
            "88/88 [==============================] - 0s 2ms/step - loss: 0.2231 - accuracy: 0.9582 - val_loss: 0.2313 - val_accuracy: 0.9443\n",
            "Epoch 17/100\n",
            "88/88 [==============================] - 0s 3ms/step - loss: 0.2151 - accuracy: 0.9561 - val_loss: 0.2234 - val_accuracy: 0.9386\n",
            "Epoch 18/100\n",
            "88/88 [==============================] - 0s 3ms/step - loss: 0.2089 - accuracy: 0.9579 - val_loss: 0.2163 - val_accuracy: 0.9386\n",
            "Epoch 19/100\n",
            "88/88 [==============================] - 0s 2ms/step - loss: 0.2027 - accuracy: 0.9564 - val_loss: 0.2115 - val_accuracy: 0.9414\n",
            "Epoch 20/100\n",
            "88/88 [==============================] - 0s 3ms/step - loss: 0.1971 - accuracy: 0.9575 - val_loss: 0.2064 - val_accuracy: 0.9414\n",
            "Epoch 21/100\n",
            "88/88 [==============================] - 0s 3ms/step - loss: 0.1918 - accuracy: 0.9561 - val_loss: 0.2050 - val_accuracy: 0.9429\n",
            "Epoch 22/100\n",
            "88/88 [==============================] - 0s 3ms/step - loss: 0.1872 - accuracy: 0.9579 - val_loss: 0.1980 - val_accuracy: 0.9443\n",
            "Epoch 23/100\n",
            "88/88 [==============================] - 0s 3ms/step - loss: 0.1830 - accuracy: 0.9575 - val_loss: 0.1944 - val_accuracy: 0.9429\n",
            "Epoch 24/100\n",
            "88/88 [==============================] - 0s 3ms/step - loss: 0.1791 - accuracy: 0.9564 - val_loss: 0.1897 - val_accuracy: 0.9386\n",
            "Epoch 25/100\n",
            "88/88 [==============================] - 0s 3ms/step - loss: 0.1753 - accuracy: 0.9561 - val_loss: 0.1870 - val_accuracy: 0.9357\n",
            "Epoch 26/100\n",
            "88/88 [==============================] - 0s 5ms/step - loss: 0.1721 - accuracy: 0.9571 - val_loss: 0.1843 - val_accuracy: 0.9357\n",
            "Epoch 27/100\n",
            "88/88 [==============================] - 0s 5ms/step - loss: 0.1689 - accuracy: 0.9550 - val_loss: 0.1806 - val_accuracy: 0.9386\n",
            "Epoch 28/100\n",
            "88/88 [==============================] - 0s 5ms/step - loss: 0.1665 - accuracy: 0.9571 - val_loss: 0.1786 - val_accuracy: 0.9429\n",
            "Epoch 29/100\n",
            "88/88 [==============================] - 0s 5ms/step - loss: 0.1636 - accuracy: 0.9554 - val_loss: 0.1775 - val_accuracy: 0.9371\n",
            "Epoch 30/100\n",
            "88/88 [==============================] - 0s 4ms/step - loss: 0.1608 - accuracy: 0.9557 - val_loss: 0.1738 - val_accuracy: 0.9357\n",
            "Epoch 31/100\n",
            "88/88 [==============================] - 0s 5ms/step - loss: 0.1584 - accuracy: 0.9571 - val_loss: 0.1714 - val_accuracy: 0.9371\n",
            "Epoch 32/100\n",
            "88/88 [==============================] - 0s 5ms/step - loss: 0.1558 - accuracy: 0.9557 - val_loss: 0.1694 - val_accuracy: 0.9357\n",
            "Epoch 33/100\n",
            "88/88 [==============================] - 0s 5ms/step - loss: 0.1542 - accuracy: 0.9571 - val_loss: 0.1682 - val_accuracy: 0.9414\n",
            "Epoch 34/100\n",
            "88/88 [==============================] - 0s 6ms/step - loss: 0.1520 - accuracy: 0.9557 - val_loss: 0.1658 - val_accuracy: 0.9357\n",
            "Epoch 35/100\n",
            "88/88 [==============================] - 0s 5ms/step - loss: 0.1490 - accuracy: 0.9586 - val_loss: 0.1657 - val_accuracy: 0.9371\n",
            "Epoch 36/100\n",
            "88/88 [==============================] - 0s 5ms/step - loss: 0.1479 - accuracy: 0.9550 - val_loss: 0.1623 - val_accuracy: 0.9386\n",
            "Epoch 37/100\n",
            "88/88 [==============================] - 0s 4ms/step - loss: 0.1459 - accuracy: 0.9561 - val_loss: 0.1608 - val_accuracy: 0.9386\n",
            "Epoch 38/100\n",
            "88/88 [==============================] - 0s 4ms/step - loss: 0.1449 - accuracy: 0.9557 - val_loss: 0.1596 - val_accuracy: 0.9357\n",
            "Epoch 39/100\n",
            "88/88 [==============================] - 0s 3ms/step - loss: 0.1432 - accuracy: 0.9575 - val_loss: 0.1607 - val_accuracy: 0.9386\n",
            "Epoch 40/100\n",
            "88/88 [==============================] - 0s 3ms/step - loss: 0.1416 - accuracy: 0.9554 - val_loss: 0.1581 - val_accuracy: 0.9400\n",
            "Epoch 41/100\n",
            "88/88 [==============================] - 0s 3ms/step - loss: 0.1400 - accuracy: 0.9554 - val_loss: 0.1555 - val_accuracy: 0.9400\n",
            "Epoch 42/100\n",
            "88/88 [==============================] - 0s 3ms/step - loss: 0.1390 - accuracy: 0.9564 - val_loss: 0.1544 - val_accuracy: 0.9386\n",
            "Epoch 43/100\n",
            "88/88 [==============================] - 0s 3ms/step - loss: 0.1375 - accuracy: 0.9546 - val_loss: 0.1564 - val_accuracy: 0.9400\n",
            "Epoch 44/100\n",
            "88/88 [==============================] - 0s 3ms/step - loss: 0.1357 - accuracy: 0.9571 - val_loss: 0.1522 - val_accuracy: 0.9386\n",
            "Epoch 45/100\n",
            "88/88 [==============================] - 0s 3ms/step - loss: 0.1353 - accuracy: 0.9561 - val_loss: 0.1527 - val_accuracy: 0.9357\n",
            "Epoch 46/100\n",
            "88/88 [==============================] - 0s 3ms/step - loss: 0.1336 - accuracy: 0.9568 - val_loss: 0.1510 - val_accuracy: 0.9386\n",
            "Epoch 47/100\n",
            "88/88 [==============================] - 0s 2ms/step - loss: 0.1327 - accuracy: 0.9536 - val_loss: 0.1497 - val_accuracy: 0.9371\n",
            "Epoch 48/100\n",
            "88/88 [==============================] - 0s 3ms/step - loss: 0.1317 - accuracy: 0.9546 - val_loss: 0.1492 - val_accuracy: 0.9386\n",
            "Epoch 49/100\n",
            "88/88 [==============================] - 0s 3ms/step - loss: 0.1309 - accuracy: 0.9550 - val_loss: 0.1489 - val_accuracy: 0.9357\n",
            "Epoch 50/100\n",
            "88/88 [==============================] - 0s 3ms/step - loss: 0.1295 - accuracy: 0.9550 - val_loss: 0.1475 - val_accuracy: 0.9400\n",
            "Epoch 51/100\n",
            "88/88 [==============================] - 0s 2ms/step - loss: 0.1293 - accuracy: 0.9536 - val_loss: 0.1467 - val_accuracy: 0.9371\n",
            "Epoch 52/100\n",
            "88/88 [==============================] - 0s 3ms/step - loss: 0.1276 - accuracy: 0.9554 - val_loss: 0.1459 - val_accuracy: 0.9371\n",
            "Epoch 53/100\n",
            "88/88 [==============================] - 0s 3ms/step - loss: 0.1271 - accuracy: 0.9550 - val_loss: 0.1463 - val_accuracy: 0.9443\n",
            "Epoch 54/100\n",
            "88/88 [==============================] - 0s 3ms/step - loss: 0.1265 - accuracy: 0.9536 - val_loss: 0.1439 - val_accuracy: 0.9386\n",
            "Epoch 55/100\n",
            "88/88 [==============================] - 0s 3ms/step - loss: 0.1253 - accuracy: 0.9543 - val_loss: 0.1432 - val_accuracy: 0.9386\n",
            "Epoch 56/100\n",
            "88/88 [==============================] - 0s 3ms/step - loss: 0.1244 - accuracy: 0.9550 - val_loss: 0.1427 - val_accuracy: 0.9386\n",
            "Epoch 57/100\n",
            "88/88 [==============================] - 0s 3ms/step - loss: 0.1239 - accuracy: 0.9543 - val_loss: 0.1422 - val_accuracy: 0.9386\n",
            "Epoch 58/100\n",
            "88/88 [==============================] - 0s 3ms/step - loss: 0.1233 - accuracy: 0.9518 - val_loss: 0.1415 - val_accuracy: 0.9386\n",
            "Epoch 59/100\n",
            "88/88 [==============================] - 0s 2ms/step - loss: 0.1223 - accuracy: 0.9557 - val_loss: 0.1409 - val_accuracy: 0.9400\n",
            "Epoch 60/100\n",
            "88/88 [==============================] - 0s 3ms/step - loss: 0.1219 - accuracy: 0.9536 - val_loss: 0.1405 - val_accuracy: 0.9386\n",
            "Epoch 61/100\n",
            "88/88 [==============================] - 0s 2ms/step - loss: 0.1210 - accuracy: 0.9561 - val_loss: 0.1414 - val_accuracy: 0.9371\n",
            "Epoch 62/100\n",
            "88/88 [==============================] - 0s 3ms/step - loss: 0.1207 - accuracy: 0.9529 - val_loss: 0.1406 - val_accuracy: 0.9357\n",
            "Epoch 63/100\n",
            "88/88 [==============================] - 0s 3ms/step - loss: 0.1197 - accuracy: 0.9564 - val_loss: 0.1389 - val_accuracy: 0.9371\n",
            "Epoch 64/100\n",
            "88/88 [==============================] - 0s 3ms/step - loss: 0.1192 - accuracy: 0.9550 - val_loss: 0.1383 - val_accuracy: 0.9400\n",
            "Epoch 65/100\n",
            "88/88 [==============================] - 0s 2ms/step - loss: 0.1188 - accuracy: 0.9543 - val_loss: 0.1383 - val_accuracy: 0.9386\n",
            "Epoch 66/100\n",
            "88/88 [==============================] - 0s 3ms/step - loss: 0.1181 - accuracy: 0.9546 - val_loss: 0.1374 - val_accuracy: 0.9400\n",
            "Epoch 67/100\n",
            "88/88 [==============================] - 0s 3ms/step - loss: 0.1172 - accuracy: 0.9546 - val_loss: 0.1369 - val_accuracy: 0.9371\n",
            "Epoch 68/100\n",
            "88/88 [==============================] - 0s 3ms/step - loss: 0.1166 - accuracy: 0.9554 - val_loss: 0.1372 - val_accuracy: 0.9357\n",
            "Epoch 69/100\n",
            "88/88 [==============================] - 0s 3ms/step - loss: 0.1164 - accuracy: 0.9536 - val_loss: 0.1377 - val_accuracy: 0.9357\n",
            "Epoch 70/100\n",
            "88/88 [==============================] - 0s 3ms/step - loss: 0.1157 - accuracy: 0.9539 - val_loss: 0.1371 - val_accuracy: 0.9357\n",
            "Epoch 71/100\n",
            "88/88 [==============================] - 0s 3ms/step - loss: 0.1155 - accuracy: 0.9554 - val_loss: 0.1353 - val_accuracy: 0.9371\n",
            "Epoch 72/100\n",
            "88/88 [==============================] - 0s 3ms/step - loss: 0.1145 - accuracy: 0.9586 - val_loss: 0.1357 - val_accuracy: 0.9357\n",
            "Epoch 73/100\n",
            "88/88 [==============================] - 0s 3ms/step - loss: 0.1144 - accuracy: 0.9539 - val_loss: 0.1346 - val_accuracy: 0.9371\n",
            "Epoch 74/100\n",
            "88/88 [==============================] - 0s 3ms/step - loss: 0.1138 - accuracy: 0.9536 - val_loss: 0.1345 - val_accuracy: 0.9386\n",
            "Epoch 75/100\n",
            "88/88 [==============================] - 0s 2ms/step - loss: 0.1136 - accuracy: 0.9550 - val_loss: 0.1343 - val_accuracy: 0.9371\n",
            "Epoch 76/100\n",
            "88/88 [==============================] - 0s 3ms/step - loss: 0.1129 - accuracy: 0.9554 - val_loss: 0.1358 - val_accuracy: 0.9371\n",
            "Epoch 77/100\n",
            "88/88 [==============================] - 0s 3ms/step - loss: 0.1128 - accuracy: 0.9532 - val_loss: 0.1337 - val_accuracy: 0.9371\n",
            "Epoch 78/100\n",
            "88/88 [==============================] - 0s 4ms/step - loss: 0.1124 - accuracy: 0.9550 - val_loss: 0.1330 - val_accuracy: 0.9371\n",
            "Epoch 79/100\n",
            "88/88 [==============================] - 0s 5ms/step - loss: 0.1117 - accuracy: 0.9557 - val_loss: 0.1327 - val_accuracy: 0.9386\n",
            "Epoch 80/100\n",
            "88/88 [==============================] - 1s 6ms/step - loss: 0.1115 - accuracy: 0.9568 - val_loss: 0.1323 - val_accuracy: 0.9357\n",
            "Epoch 81/100\n",
            "88/88 [==============================] - 0s 5ms/step - loss: 0.1109 - accuracy: 0.9550 - val_loss: 0.1333 - val_accuracy: 0.9343\n",
            "Epoch 82/100\n",
            "88/88 [==============================] - 0s 4ms/step - loss: 0.1107 - accuracy: 0.9532 - val_loss: 0.1320 - val_accuracy: 0.9386\n",
            "Epoch 83/100\n",
            "88/88 [==============================] - 0s 4ms/step - loss: 0.1105 - accuracy: 0.9539 - val_loss: 0.1315 - val_accuracy: 0.9357\n",
            "Epoch 84/100\n",
            "88/88 [==============================] - 0s 4ms/step - loss: 0.1102 - accuracy: 0.9543 - val_loss: 0.1316 - val_accuracy: 0.9386\n",
            "Epoch 85/100\n",
            "88/88 [==============================] - 1s 6ms/step - loss: 0.1096 - accuracy: 0.9539 - val_loss: 0.1312 - val_accuracy: 0.9371\n",
            "Epoch 86/100\n",
            "88/88 [==============================] - 0s 5ms/step - loss: 0.1091 - accuracy: 0.9550 - val_loss: 0.1321 - val_accuracy: 0.9343\n",
            "Epoch 87/100\n",
            "88/88 [==============================] - 0s 4ms/step - loss: 0.1087 - accuracy: 0.9546 - val_loss: 0.1305 - val_accuracy: 0.9386\n",
            "Epoch 88/100\n",
            "88/88 [==============================] - 0s 4ms/step - loss: 0.1085 - accuracy: 0.9571 - val_loss: 0.1322 - val_accuracy: 0.9371\n",
            "Epoch 89/100\n",
            "88/88 [==============================] - 0s 4ms/step - loss: 0.1084 - accuracy: 0.9564 - val_loss: 0.1301 - val_accuracy: 0.9357\n",
            "Epoch 90/100\n",
            "88/88 [==============================] - 0s 3ms/step - loss: 0.1078 - accuracy: 0.9543 - val_loss: 0.1315 - val_accuracy: 0.9357\n",
            "Epoch 91/100\n",
            "88/88 [==============================] - 0s 3ms/step - loss: 0.1077 - accuracy: 0.9546 - val_loss: 0.1298 - val_accuracy: 0.9371\n",
            "Epoch 92/100\n",
            "88/88 [==============================] - 0s 3ms/step - loss: 0.1069 - accuracy: 0.9593 - val_loss: 0.1299 - val_accuracy: 0.9443\n",
            "Epoch 93/100\n",
            "88/88 [==============================] - 0s 2ms/step - loss: 0.1072 - accuracy: 0.9550 - val_loss: 0.1293 - val_accuracy: 0.9371\n",
            "Epoch 94/100\n",
            "88/88 [==============================] - 0s 3ms/step - loss: 0.1069 - accuracy: 0.9546 - val_loss: 0.1303 - val_accuracy: 0.9357\n",
            "Epoch 95/100\n",
            "88/88 [==============================] - 0s 3ms/step - loss: 0.1066 - accuracy: 0.9546 - val_loss: 0.1288 - val_accuracy: 0.9357\n",
            "Epoch 96/100\n",
            "88/88 [==============================] - 0s 3ms/step - loss: 0.1064 - accuracy: 0.9525 - val_loss: 0.1287 - val_accuracy: 0.9357\n",
            "Epoch 97/100\n",
            "88/88 [==============================] - 0s 3ms/step - loss: 0.1059 - accuracy: 0.9568 - val_loss: 0.1284 - val_accuracy: 0.9371\n",
            "Epoch 98/100\n",
            "88/88 [==============================] - 0s 3ms/step - loss: 0.1055 - accuracy: 0.9539 - val_loss: 0.1297 - val_accuracy: 0.9357\n",
            "Epoch 99/100\n",
            "88/88 [==============================] - 0s 3ms/step - loss: 0.1055 - accuracy: 0.9539 - val_loss: 0.1282 - val_accuracy: 0.9343\n",
            "Epoch 100/100\n",
            "88/88 [==============================] - 0s 3ms/step - loss: 0.1049 - accuracy: 0.9543 - val_loss: 0.1281 - val_accuracy: 0.9357\n"
          ]
        }
      ]
    },
    {
      "cell_type": "code",
      "source": [
        "print(model_history.history.keys())"
      ],
      "metadata": {
        "colab": {
          "base_uri": "https://localhost:8080/"
        },
        "id": "jTGN4OPm6uIp",
        "outputId": "ad1e18b4-be1a-4f44-d0b5-c0159f1d3a1e"
      },
      "execution_count": 89,
      "outputs": [
        {
          "output_type": "stream",
          "name": "stdout",
          "text": [
            "dict_keys(['loss', 'accuracy', 'val_loss', 'val_accuracy'])\n"
          ]
        }
      ]
    },
    {
      "cell_type": "code",
      "source": [
        "plt.plot(model_history.history['accuracy'])\n",
        "plt.plot(model_history.history['val_accuracy'])\n",
        "plt.title('accuracy Plot')\n",
        "plt.ylabel('accuracy')\n",
        "plt.xlabel('Epoch')\n",
        "plt.legend(['Train', 'Validation'])\n",
        "plt.show()"
      ],
      "metadata": {
        "colab": {
          "base_uri": "https://localhost:8080/",
          "height": 472
        },
        "id": "fyo-8fKr6uLZ",
        "outputId": "00d46b99-6b95-43d5-af8e-e5fcea81dd0f"
      },
      "execution_count": 90,
      "outputs": [
        {
          "output_type": "display_data",
          "data": {
            "text/plain": [
              "<Figure size 640x480 with 1 Axes>"
            ],
            "image/png": "[encoded data removed]"
          },
          "metadata": {}
        }
      ]
    },
    {
      "cell_type": "code",
      "source": [
        "plt.plot(model_history.history['loss'])\n",
        "plt.plot(model_history.history['val_loss'])\n",
        "plt.title('Loss Function Plot')\n",
        "plt.ylabel('Loss')\n",
        "plt.xlabel('Epoch')\n",
        "plt.legend(['Train', 'Validation'])\n",
        "plt.show()"
      ],
      "metadata": {
        "colab": {
          "base_uri": "https://localhost:8080/",
          "height": 472
        },
        "id": "6AgBL6U86uP6",
        "outputId": "9a838dfc-60a9-4c85-df5d-c199aeddb83f"
      },
      "execution_count": 91,
      "outputs": [
        {
          "output_type": "display_data",
          "data": {
            "text/plain": [
              "<Figure size 640x480 with 1 Axes>"
            ],
            "image/png": "[encoded data removed]"
          },
          "metadata": {}
        }
      ]
    },
    {
      "cell_type": "code",
      "source": [
        "test_predicted_probabilities = model.predict(X_test_arr)\n",
        "train_predicted_probabilities = model.predict(X_train_arr)\n",
        "\n",
        "test_pred_class_labels = [0 if val<0.5 else 1 for val in test_predicted_probabilities]\n",
        "train_pred_class_labels = [0 if val<0.5 else 1 for val in train_predicted_probabilities]\n",
        "\n",
        "eval_metric(y_train, train_pred_class_labels, y_test, test_pred_class_labels)"
      ],
      "metadata": {
        "colab": {
          "base_uri": "https://localhost:8080/"
        },
        "id": "8WE1bjib6uSs",
        "outputId": "242c02f2-b9b1-4f36-a514-d560763b9a19"
      },
      "execution_count": 92,
      "outputs": [
        {
          "output_type": "stream",
          "name": "stdout",
          "text": [
            "47/47 [==============================] - 0s 2ms/step\n",
            "110/110 [==============================] - 0s 2ms/step\n",
            "The train accuracy score is 0.9517142857142857\n",
            "The test accuracy score is 0.9506995336442372\n",
            " --------------------------------------------\n",
            "                Train Report\n",
            "-------------------------------------------- \n",
            "The confusion matrix  is\n",
            " [[1661   89]\n",
            " [  80 1670]]\n",
            "The classification report is\n",
            "               precision    recall  f1-score   support\n",
            "\n",
            "           0       0.95      0.95      0.95      1750\n",
            "           1       0.95      0.95      0.95      1750\n",
            "\n",
            "    accuracy                           0.95      3500\n",
            "   macro avg       0.95      0.95      0.95      3500\n",
            "weighted avg       0.95      0.95      0.95      3500\n",
            "\n",
            " --------------------------------------------\n",
            "                Test Report\n",
            "-------------------------------------------- \n",
            "The confusion matrix  is\n",
            " [[717  34]\n",
            " [ 40 710]]\n",
            "The classification report  is\n",
            "               precision    recall  f1-score   support\n",
            "\n",
            "           0       0.95      0.95      0.95       751\n",
            "           1       0.95      0.95      0.95       750\n",
            "\n",
            "    accuracy                           0.95      1501\n",
            "   macro avg       0.95      0.95      0.95      1501\n",
            "weighted avg       0.95      0.95      0.95      1501\n",
            "\n"
          ]
        }
      ]
    },
    {
      "cell_type": "markdown",
      "source": [
        "## MLP with 2 layers"
      ],
      "metadata": {
        "id": "hglLK0h36uUX"
      }
    },
    {
      "cell_type": "code",
      "source": [
        "mlp_model1 = Sequential()\n",
        "\n",
        "mlp_model1.add(Dense(15, activation='tanh', kernel_initializer='normal', input_shape=(7,)))\n",
        "mlp_model1.add(Dense(1, activation='sigmoid', kernel_initializer='normal'))"
      ],
      "metadata": {
        "id": "qRCyTBKy-0Og"
      },
      "execution_count": 93,
      "outputs": []
    },
    {
      "cell_type": "code",
      "source": [
        "mlp_model1.compile(loss='binary_crossentropy', optimizer='sgd', metrics=['accuracy'])"
      ],
      "metadata": {
        "id": "fZXVsNon-0Re"
      },
      "execution_count": 94,
      "outputs": []
    },
    {
      "cell_type": "code",
      "source": [
        "model1_history = mlp_model1.fit(X_train_arr, y_train, epochs=100, validation_split=0.2)"
      ],
      "metadata": {
        "colab": {
          "base_uri": "https://localhost:8080/"
        },
        "id": "09G-3cqS-0U5",
        "outputId": "9386072b-d780-4e3c-d612-7775c49e044c"
      },
      "execution_count": 95,
      "outputs": [
        {
          "output_type": "stream",
          "name": "stdout",
          "text": [
            "Epoch 1/100\n",
            "88/88 [==============================] - 1s 5ms/step - loss: 0.6876 - accuracy: 0.6279 - val_loss: 0.6834 - val_accuracy: 0.9271\n",
            "Epoch 2/100\n",
            "88/88 [==============================] - 0s 3ms/step - loss: 0.6782 - accuracy: 0.8196 - val_loss: 0.6719 - val_accuracy: 0.9400\n",
            "Epoch 3/100\n",
            "88/88 [==============================] - 0s 3ms/step - loss: 0.6631 - accuracy: 0.9171 - val_loss: 0.6512 - val_accuracy: 0.8271\n",
            "Epoch 4/100\n",
            "88/88 [==============================] - 0s 3ms/step - loss: 0.6385 - accuracy: 0.9293 - val_loss: 0.6210 - val_accuracy: 0.9471\n",
            "Epoch 5/100\n",
            "88/88 [==============================] - 0s 3ms/step - loss: 0.6002 - accuracy: 0.9461 - val_loss: 0.5745 - val_accuracy: 0.9471\n",
            "Epoch 6/100\n",
            "88/88 [==============================] - 0s 3ms/step - loss: 0.5446 - accuracy: 0.9539 - val_loss: 0.5103 - val_accuracy: 0.9400\n",
            "Epoch 7/100\n",
            "88/88 [==============================] - 0s 3ms/step - loss: 0.4755 - accuracy: 0.9507 - val_loss: 0.4418 - val_accuracy: 0.9543\n",
            "Epoch 8/100\n",
            "88/88 [==============================] - 0s 3ms/step - loss: 0.4032 - accuracy: 0.9529 - val_loss: 0.3673 - val_accuracy: 0.9386\n",
            "Epoch 9/100\n",
            "88/88 [==============================] - 0s 3ms/step - loss: 0.3357 - accuracy: 0.9604 - val_loss: 0.3099 - val_accuracy: 0.9457\n",
            "Epoch 10/100\n",
            "88/88 [==============================] - 0s 3ms/step - loss: 0.2822 - accuracy: 0.9529 - val_loss: 0.2885 - val_accuracy: 0.9443\n",
            "Epoch 11/100\n",
            "88/88 [==============================] - 0s 3ms/step - loss: 0.2411 - accuracy: 0.9564 - val_loss: 0.2286 - val_accuracy: 0.9400\n",
            "Epoch 12/100\n",
            "88/88 [==============================] - 0s 2ms/step - loss: 0.2112 - accuracy: 0.9543 - val_loss: 0.2112 - val_accuracy: 0.9529\n",
            "Epoch 13/100\n",
            "88/88 [==============================] - 0s 3ms/step - loss: 0.1862 - accuracy: 0.9536 - val_loss: 0.1869 - val_accuracy: 0.9429\n",
            "Epoch 14/100\n",
            "88/88 [==============================] - 0s 3ms/step - loss: 0.1691 - accuracy: 0.9539 - val_loss: 0.1723 - val_accuracy: 0.9357\n",
            "Epoch 15/100\n",
            "88/88 [==============================] - 0s 4ms/step - loss: 0.1563 - accuracy: 0.9507 - val_loss: 0.1619 - val_accuracy: 0.9343\n",
            "Epoch 16/100\n",
            "88/88 [==============================] - 0s 3ms/step - loss: 0.1437 - accuracy: 0.9611 - val_loss: 0.1561 - val_accuracy: 0.9400\n",
            "Epoch 17/100\n",
            "88/88 [==============================] - 0s 3ms/step - loss: 0.1385 - accuracy: 0.9489 - val_loss: 0.1481 - val_accuracy: 0.9400\n",
            "Epoch 18/100\n",
            "88/88 [==============================] - 0s 3ms/step - loss: 0.1307 - accuracy: 0.9543 - val_loss: 0.1434 - val_accuracy: 0.9371\n",
            "Epoch 19/100\n",
            "88/88 [==============================] - 0s 3ms/step - loss: 0.1252 - accuracy: 0.9504 - val_loss: 0.1392 - val_accuracy: 0.9400\n",
            "Epoch 20/100\n",
            "88/88 [==============================] - 0s 3ms/step - loss: 0.1213 - accuracy: 0.9543 - val_loss: 0.1375 - val_accuracy: 0.9343\n",
            "Epoch 21/100\n",
            "88/88 [==============================] - 0s 4ms/step - loss: 0.1173 - accuracy: 0.9546 - val_loss: 0.1338 - val_accuracy: 0.9371\n",
            "Epoch 22/100\n",
            "88/88 [==============================] - 0s 4ms/step - loss: 0.1135 - accuracy: 0.9511 - val_loss: 0.1316 - val_accuracy: 0.9414\n",
            "Epoch 23/100\n",
            "88/88 [==============================] - 0s 4ms/step - loss: 0.1096 - accuracy: 0.9564 - val_loss: 0.1476 - val_accuracy: 0.9443\n",
            "Epoch 24/100\n",
            "88/88 [==============================] - 0s 5ms/step - loss: 0.1085 - accuracy: 0.9557 - val_loss: 0.1423 - val_accuracy: 0.9543\n",
            "Epoch 25/100\n",
            "88/88 [==============================] - 0s 5ms/step - loss: 0.1070 - accuracy: 0.9579 - val_loss: 0.1273 - val_accuracy: 0.9414\n",
            "Epoch 26/100\n",
            "88/88 [==============================] - 0s 4ms/step - loss: 0.1060 - accuracy: 0.9514 - val_loss: 0.1270 - val_accuracy: 0.9400\n",
            "Epoch 27/100\n",
            "88/88 [==============================] - 0s 5ms/step - loss: 0.1038 - accuracy: 0.9550 - val_loss: 0.1272 - val_accuracy: 0.9357\n",
            "Epoch 28/100\n",
            "88/88 [==============================] - 0s 4ms/step - loss: 0.1003 - accuracy: 0.9564 - val_loss: 0.1636 - val_accuracy: 0.9443\n",
            "Epoch 29/100\n",
            "88/88 [==============================] - 0s 3ms/step - loss: 0.1026 - accuracy: 0.9532 - val_loss: 0.1253 - val_accuracy: 0.9371\n",
            "Epoch 30/100\n",
            "88/88 [==============================] - 0s 4ms/step - loss: 0.0988 - accuracy: 0.9557 - val_loss: 0.1264 - val_accuracy: 0.9371\n",
            "Epoch 31/100\n",
            "88/88 [==============================] - 0s 4ms/step - loss: 0.0970 - accuracy: 0.9614 - val_loss: 0.1233 - val_accuracy: 0.9357\n",
            "Epoch 32/100\n",
            "88/88 [==============================] - 0s 4ms/step - loss: 0.0969 - accuracy: 0.9561 - val_loss: 0.1308 - val_accuracy: 0.9443\n",
            "Epoch 33/100\n",
            "88/88 [==============================] - 0s 3ms/step - loss: 0.0963 - accuracy: 0.9557 - val_loss: 0.1248 - val_accuracy: 0.9371\n",
            "Epoch 34/100\n",
            "88/88 [==============================] - 0s 3ms/step - loss: 0.0954 - accuracy: 0.9543 - val_loss: 0.1221 - val_accuracy: 0.9371\n",
            "Epoch 35/100\n",
            "88/88 [==============================] - 0s 3ms/step - loss: 0.0962 - accuracy: 0.9557 - val_loss: 0.1375 - val_accuracy: 0.9529\n",
            "Epoch 36/100\n",
            "88/88 [==============================] - 0s 3ms/step - loss: 0.0952 - accuracy: 0.9529 - val_loss: 0.1321 - val_accuracy: 0.9443\n",
            "Epoch 37/100\n",
            "88/88 [==============================] - 0s 3ms/step - loss: 0.0968 - accuracy: 0.9575 - val_loss: 0.1285 - val_accuracy: 0.9429\n",
            "Epoch 38/100\n",
            "88/88 [==============================] - 0s 3ms/step - loss: 0.0935 - accuracy: 0.9589 - val_loss: 0.1285 - val_accuracy: 0.9429\n",
            "Epoch 39/100\n",
            "88/88 [==============================] - 0s 2ms/step - loss: 0.0927 - accuracy: 0.9579 - val_loss: 0.1279 - val_accuracy: 0.9429\n",
            "Epoch 40/100\n",
            "88/88 [==============================] - 0s 3ms/step - loss: 0.0915 - accuracy: 0.9596 - val_loss: 0.1235 - val_accuracy: 0.9457\n",
            "Epoch 41/100\n",
            "88/88 [==============================] - 0s 3ms/step - loss: 0.0923 - accuracy: 0.9579 - val_loss: 0.1357 - val_accuracy: 0.9514\n",
            "Epoch 42/100\n",
            "88/88 [==============================] - 0s 3ms/step - loss: 0.0919 - accuracy: 0.9564 - val_loss: 0.1368 - val_accuracy: 0.9443\n",
            "Epoch 43/100\n",
            "88/88 [==============================] - 0s 3ms/step - loss: 0.0907 - accuracy: 0.9575 - val_loss: 0.1211 - val_accuracy: 0.9386\n",
            "Epoch 44/100\n",
            "88/88 [==============================] - 0s 3ms/step - loss: 0.0914 - accuracy: 0.9550 - val_loss: 0.1212 - val_accuracy: 0.9386\n",
            "Epoch 45/100\n",
            "88/88 [==============================] - 0s 3ms/step - loss: 0.0917 - accuracy: 0.9564 - val_loss: 0.1285 - val_accuracy: 0.9429\n",
            "Epoch 46/100\n",
            "88/88 [==============================] - 0s 3ms/step - loss: 0.0886 - accuracy: 0.9614 - val_loss: 0.1255 - val_accuracy: 0.9400\n",
            "Epoch 47/100\n",
            "88/88 [==============================] - 0s 3ms/step - loss: 0.0895 - accuracy: 0.9582 - val_loss: 0.1240 - val_accuracy: 0.9400\n",
            "Epoch 48/100\n",
            "88/88 [==============================] - 0s 3ms/step - loss: 0.0886 - accuracy: 0.9564 - val_loss: 0.1217 - val_accuracy: 0.9357\n",
            "Epoch 49/100\n",
            "88/88 [==============================] - 0s 3ms/step - loss: 0.0904 - accuracy: 0.9546 - val_loss: 0.1270 - val_accuracy: 0.9400\n",
            "Epoch 50/100\n",
            "88/88 [==============================] - 0s 3ms/step - loss: 0.0897 - accuracy: 0.9596 - val_loss: 0.1230 - val_accuracy: 0.9357\n",
            "Epoch 51/100\n",
            "88/88 [==============================] - 0s 3ms/step - loss: 0.0894 - accuracy: 0.9593 - val_loss: 0.1277 - val_accuracy: 0.9400\n",
            "Epoch 52/100\n",
            "88/88 [==============================] - 0s 3ms/step - loss: 0.0892 - accuracy: 0.9550 - val_loss: 0.1280 - val_accuracy: 0.9400\n",
            "Epoch 53/100\n",
            "88/88 [==============================] - 0s 3ms/step - loss: 0.0898 - accuracy: 0.9561 - val_loss: 0.1304 - val_accuracy: 0.9443\n",
            "Epoch 54/100\n",
            "88/88 [==============================] - 0s 3ms/step - loss: 0.0907 - accuracy: 0.9568 - val_loss: 0.1228 - val_accuracy: 0.9357\n",
            "Epoch 55/100\n",
            "88/88 [==============================] - 0s 3ms/step - loss: 0.0876 - accuracy: 0.9561 - val_loss: 0.1267 - val_accuracy: 0.9471\n",
            "Epoch 56/100\n",
            "88/88 [==============================] - 0s 3ms/step - loss: 0.0893 - accuracy: 0.9593 - val_loss: 0.1268 - val_accuracy: 0.9400\n",
            "Epoch 57/100\n",
            "88/88 [==============================] - 0s 3ms/step - loss: 0.0884 - accuracy: 0.9571 - val_loss: 0.1398 - val_accuracy: 0.9443\n",
            "Epoch 58/100\n",
            "88/88 [==============================] - 0s 3ms/step - loss: 0.0885 - accuracy: 0.9546 - val_loss: 0.1243 - val_accuracy: 0.9357\n",
            "Epoch 59/100\n",
            "88/88 [==============================] - 0s 3ms/step - loss: 0.0892 - accuracy: 0.9586 - val_loss: 0.1224 - val_accuracy: 0.9400\n",
            "Epoch 60/100\n",
            "88/88 [==============================] - 0s 3ms/step - loss: 0.0889 - accuracy: 0.9564 - val_loss: 0.1255 - val_accuracy: 0.9414\n",
            "Epoch 61/100\n",
            "88/88 [==============================] - 0s 3ms/step - loss: 0.0880 - accuracy: 0.9579 - val_loss: 0.1270 - val_accuracy: 0.9471\n",
            "Epoch 62/100\n",
            "88/88 [==============================] - 0s 3ms/step - loss: 0.0894 - accuracy: 0.9554 - val_loss: 0.1391 - val_accuracy: 0.9443\n",
            "Epoch 63/100\n",
            "88/88 [==============================] - 0s 3ms/step - loss: 0.0900 - accuracy: 0.9561 - val_loss: 0.1281 - val_accuracy: 0.9414\n",
            "Epoch 64/100\n",
            "88/88 [==============================] - 0s 3ms/step - loss: 0.0868 - accuracy: 0.9586 - val_loss: 0.1228 - val_accuracy: 0.9386\n",
            "Epoch 65/100\n",
            "88/88 [==============================] - 0s 3ms/step - loss: 0.0881 - accuracy: 0.9593 - val_loss: 0.1228 - val_accuracy: 0.9386\n",
            "Epoch 66/100\n",
            "88/88 [==============================] - 0s 3ms/step - loss: 0.0863 - accuracy: 0.9589 - val_loss: 0.1630 - val_accuracy: 0.9443\n",
            "Epoch 67/100\n",
            "88/88 [==============================] - 0s 3ms/step - loss: 0.0887 - accuracy: 0.9575 - val_loss: 0.1246 - val_accuracy: 0.9429\n",
            "Epoch 68/100\n",
            "88/88 [==============================] - 0s 3ms/step - loss: 0.0878 - accuracy: 0.9579 - val_loss: 0.1285 - val_accuracy: 0.9414\n",
            "Epoch 69/100\n",
            "88/88 [==============================] - 0s 3ms/step - loss: 0.0867 - accuracy: 0.9550 - val_loss: 0.1267 - val_accuracy: 0.9471\n",
            "Epoch 70/100\n",
            "88/88 [==============================] - 0s 3ms/step - loss: 0.0865 - accuracy: 0.9604 - val_loss: 0.1236 - val_accuracy: 0.9343\n",
            "Epoch 71/100\n",
            "88/88 [==============================] - 0s 3ms/step - loss: 0.0858 - accuracy: 0.9607 - val_loss: 0.1246 - val_accuracy: 0.9371\n",
            "Epoch 72/100\n",
            "88/88 [==============================] - 0s 4ms/step - loss: 0.0859 - accuracy: 0.9557 - val_loss: 0.1416 - val_accuracy: 0.9443\n",
            "Epoch 73/100\n",
            "88/88 [==============================] - 0s 4ms/step - loss: 0.0879 - accuracy: 0.9579 - val_loss: 0.1409 - val_accuracy: 0.9443\n",
            "Epoch 74/100\n",
            "88/88 [==============================] - 0s 4ms/step - loss: 0.0867 - accuracy: 0.9621 - val_loss: 0.1318 - val_accuracy: 0.9443\n",
            "Epoch 75/100\n",
            "88/88 [==============================] - 0s 4ms/step - loss: 0.0866 - accuracy: 0.9607 - val_loss: 0.1266 - val_accuracy: 0.9371\n",
            "Epoch 76/100\n",
            "88/88 [==============================] - 0s 5ms/step - loss: 0.0871 - accuracy: 0.9557 - val_loss: 0.1236 - val_accuracy: 0.9371\n",
            "Epoch 77/100\n",
            "88/88 [==============================] - 0s 4ms/step - loss: 0.0860 - accuracy: 0.9604 - val_loss: 0.1345 - val_accuracy: 0.9429\n",
            "Epoch 78/100\n",
            "88/88 [==============================] - 0s 4ms/step - loss: 0.0865 - accuracy: 0.9579 - val_loss: 0.1422 - val_accuracy: 0.9443\n",
            "Epoch 79/100\n",
            "88/88 [==============================] - 0s 4ms/step - loss: 0.0862 - accuracy: 0.9589 - val_loss: 0.1240 - val_accuracy: 0.9357\n",
            "Epoch 80/100\n",
            "88/88 [==============================] - 0s 5ms/step - loss: 0.0867 - accuracy: 0.9564 - val_loss: 0.1368 - val_accuracy: 0.9514\n",
            "Epoch 81/100\n",
            "88/88 [==============================] - 0s 6ms/step - loss: 0.0856 - accuracy: 0.9604 - val_loss: 0.1343 - val_accuracy: 0.9443\n",
            "Epoch 82/100\n",
            "88/88 [==============================] - 0s 4ms/step - loss: 0.0860 - accuracy: 0.9586 - val_loss: 0.1404 - val_accuracy: 0.9443\n",
            "Epoch 83/100\n",
            "88/88 [==============================] - 0s 4ms/step - loss: 0.0864 - accuracy: 0.9604 - val_loss: 0.1266 - val_accuracy: 0.9386\n",
            "Epoch 84/100\n",
            "88/88 [==============================] - 0s 3ms/step - loss: 0.0853 - accuracy: 0.9586 - val_loss: 0.1253 - val_accuracy: 0.9357\n",
            "Epoch 85/100\n",
            "88/88 [==============================] - 0s 3ms/step - loss: 0.0847 - accuracy: 0.9589 - val_loss: 0.1253 - val_accuracy: 0.9386\n",
            "Epoch 86/100\n",
            "88/88 [==============================] - 0s 3ms/step - loss: 0.0865 - accuracy: 0.9614 - val_loss: 0.1263 - val_accuracy: 0.9429\n",
            "Epoch 87/100\n",
            "88/88 [==============================] - 0s 3ms/step - loss: 0.0858 - accuracy: 0.9582 - val_loss: 0.1248 - val_accuracy: 0.9343\n",
            "Epoch 88/100\n",
            "88/88 [==============================] - 0s 3ms/step - loss: 0.0865 - accuracy: 0.9593 - val_loss: 0.1289 - val_accuracy: 0.9457\n",
            "Epoch 89/100\n",
            "88/88 [==============================] - 0s 3ms/step - loss: 0.0860 - accuracy: 0.9561 - val_loss: 0.1274 - val_accuracy: 0.9371\n",
            "Epoch 90/100\n",
            "88/88 [==============================] - 0s 3ms/step - loss: 0.0857 - accuracy: 0.9604 - val_loss: 0.1360 - val_accuracy: 0.9514\n",
            "Epoch 91/100\n",
            "88/88 [==============================] - 0s 3ms/step - loss: 0.0852 - accuracy: 0.9593 - val_loss: 0.1300 - val_accuracy: 0.9443\n",
            "Epoch 92/100\n",
            "88/88 [==============================] - 0s 3ms/step - loss: 0.0878 - accuracy: 0.9575 - val_loss: 0.1324 - val_accuracy: 0.9400\n",
            "Epoch 93/100\n",
            "88/88 [==============================] - 0s 3ms/step - loss: 0.0843 - accuracy: 0.9618 - val_loss: 0.2100 - val_accuracy: 0.9443\n",
            "Epoch 94/100\n",
            "88/88 [==============================] - 0s 3ms/step - loss: 0.0864 - accuracy: 0.9589 - val_loss: 0.1248 - val_accuracy: 0.9386\n",
            "Epoch 95/100\n",
            "88/88 [==============================] - 0s 3ms/step - loss: 0.0859 - accuracy: 0.9561 - val_loss: 0.1478 - val_accuracy: 0.9443\n",
            "Epoch 96/100\n",
            "88/88 [==============================] - 0s 3ms/step - loss: 0.0830 - accuracy: 0.9629 - val_loss: 0.1367 - val_accuracy: 0.9514\n",
            "Epoch 97/100\n",
            "88/88 [==============================] - 0s 3ms/step - loss: 0.0861 - accuracy: 0.9614 - val_loss: 0.1292 - val_accuracy: 0.9471\n",
            "Epoch 98/100\n",
            "88/88 [==============================] - 0s 3ms/step - loss: 0.0850 - accuracy: 0.9607 - val_loss: 0.1509 - val_accuracy: 0.9443\n",
            "Epoch 99/100\n",
            "88/88 [==============================] - 0s 3ms/step - loss: 0.0872 - accuracy: 0.9582 - val_loss: 0.1250 - val_accuracy: 0.9357\n",
            "Epoch 100/100\n",
            "88/88 [==============================] - 0s 3ms/step - loss: 0.0870 - accuracy: 0.9600 - val_loss: 0.1264 - val_accuracy: 0.9371\n"
          ]
        }
      ]
    },
    {
      "cell_type": "code",
      "source": [
        "print(model1_history.history.keys())"
      ],
      "metadata": {
        "colab": {
          "base_uri": "https://localhost:8080/"
        },
        "id": "Yf6b6_cd-0Zg",
        "outputId": "bb1caf2d-58a4-4d73-8636-607e8994925f"
      },
      "execution_count": 96,
      "outputs": [
        {
          "output_type": "stream",
          "name": "stdout",
          "text": [
            "dict_keys(['loss', 'accuracy', 'val_loss', 'val_accuracy'])\n"
          ]
        }
      ]
    },
    {
      "cell_type": "code",
      "source": [
        "plt.plot(model1_history.history['accuracy'])\n",
        "plt.plot(model1_history.history['val_accuracy'])\n",
        "plt.title('accuracy Plot')\n",
        "plt.ylabel('accuracy')\n",
        "plt.xlabel('Epoch')\n",
        "plt.legend(['Train', 'Validation'])\n",
        "plt.show()"
      ],
      "metadata": {
        "colab": {
          "base_uri": "https://localhost:8080/",
          "height": 472
        },
        "id": "Md4Oq56L-0hL",
        "outputId": "ecab6f18-4c48-4b08-e7ac-d39b84d8156e"
      },
      "execution_count": 97,
      "outputs": [
        {
          "output_type": "display_data",
          "data": {
            "text/plain": [
              "<Figure size 640x480 with 1 Axes>"
            ],
            "image/png": "[encoded data removed]"
          },
          "metadata": {}
        }
      ]
    },
    {
      "cell_type": "code",
      "source": [
        "plt.plot(model1_history.history['loss'])\n",
        "plt.plot(model1_history.history['val_loss'])\n",
        "plt.title('Loss Function Plot')\n",
        "plt.ylabel('Loss')\n",
        "plt.xlabel('Epoch')\n",
        "plt.legend(['Train', 'Validation'])\n",
        "plt.show()"
      ],
      "metadata": {
        "colab": {
          "base_uri": "https://localhost:8080/",
          "height": 472
        },
        "id": "WalChm5R-0kp",
        "outputId": "9285e638-9b09-40c4-9bed-1f7887db2448"
      },
      "execution_count": 98,
      "outputs": [
        {
          "output_type": "display_data",
          "data": {
            "text/plain": [
              "<Figure size 640x480 with 1 Axes>"
            ],
            "image/png": "[encoded data removed]"
          },
          "metadata": {}
        }
      ]
    },
    {
      "cell_type": "code",
      "source": [
        "test_predicted_probabilities1 = mlp_model1.predict(X_test_arr)\n",
        "train_predicted_probabilities1 = mlp_model1.predict(X_train_arr)\n",
        "\n",
        "test_pred_class_labels1 = [0 if val<0.5 else 1 for val in test_predicted_probabilities1]\n",
        "train_pred_class_labels1 = [0 if val<0.5 else 1 for val in train_predicted_probabilities1]\n",
        "\n",
        "eval_metric(y_train, train_pred_class_labels, y_test, test_pred_class_labels)"
      ],
      "metadata": {
        "colab": {
          "base_uri": "https://localhost:8080/"
        },
        "id": "uMd_0nYM-0pt",
        "outputId": "fd7cbd35-e0a3-4b4e-973f-73cf0eec5757"
      },
      "execution_count": 99,
      "outputs": [
        {
          "output_type": "stream",
          "name": "stdout",
          "text": [
            "47/47 [==============================] - 0s 2ms/step\n",
            "110/110 [==============================] - 0s 2ms/step\n",
            "The train accuracy score is 0.9517142857142857\n",
            "The test accuracy score is 0.9506995336442372\n",
            " --------------------------------------------\n",
            "                Train Report\n",
            "-------------------------------------------- \n",
            "The confusion matrix  is\n",
            " [[1661   89]\n",
            " [  80 1670]]\n",
            "The classification report is\n",
            "               precision    recall  f1-score   support\n",
            "\n",
            "           0       0.95      0.95      0.95      1750\n",
            "           1       0.95      0.95      0.95      1750\n",
            "\n",
            "    accuracy                           0.95      3500\n",
            "   macro avg       0.95      0.95      0.95      3500\n",
            "weighted avg       0.95      0.95      0.95      3500\n",
            "\n",
            " --------------------------------------------\n",
            "                Test Report\n",
            "-------------------------------------------- \n",
            "The confusion matrix  is\n",
            " [[717  34]\n",
            " [ 40 710]]\n",
            "The classification report  is\n",
            "               precision    recall  f1-score   support\n",
            "\n",
            "           0       0.95      0.95      0.95       751\n",
            "           1       0.95      0.95      0.95       750\n",
            "\n",
            "    accuracy                           0.95      1501\n",
            "   macro avg       0.95      0.95      0.95      1501\n",
            "weighted avg       0.95      0.95      0.95      1501\n",
            "\n"
          ]
        }
      ]
    },
    {
      "cell_type": "markdown",
      "source": [
        "## MLP with 3 layers"
      ],
      "metadata": {
        "id": "L6t5fSmHHrat"
      }
    },
    {
      "cell_type": "code",
      "source": [
        "mlp_model3 = Sequential()\n",
        "\n",
        "mlp_model3.add(Dense(25, input_shape=(7,), activation='relu', kernel_initializer='normal'))\n",
        "mlp_model3.add(Dense(20, activation='relu', kernel_initializer='normal'))\n",
        "mlp_model3.add(Dense(1, activation='sigmoid', kernel_initializer='normal'))"
      ],
      "metadata": {
        "id": "5X0MNg35av4I"
      },
      "execution_count": 100,
      "outputs": []
    },
    {
      "cell_type": "code",
      "source": [
        "mlp_model3.compile(loss='binary_crossentropy', optimizer='sgd', metrics=['accuracy'])"
      ],
      "metadata": {
        "id": "cy6oJB9Mav6h"
      },
      "execution_count": 101,
      "outputs": []
    },
    {
      "cell_type": "code",
      "source": [
        "model3_history = mlp_model3.fit(X_train_arr, y_train, epochs=100, validation_split=0.2)"
      ],
      "metadata": {
        "colab": {
          "base_uri": "https://localhost:8080/"
        },
        "id": "afx3C4b3av9b",
        "outputId": "d8a26809-4775-4ccf-a78d-c1792dbbc5eb"
      },
      "execution_count": 102,
      "outputs": [
        {
          "output_type": "stream",
          "name": "stdout",
          "text": [
            "Epoch 1/100\n",
            "88/88 [==============================] - 1s 5ms/step - loss: 0.6926 - accuracy: 0.6075 - val_loss: 0.6925 - val_accuracy: 0.4800\n",
            "Epoch 2/100\n",
            "88/88 [==============================] - 0s 3ms/step - loss: 0.6922 - accuracy: 0.5675 - val_loss: 0.6921 - val_accuracy: 0.6443\n",
            "Epoch 3/100\n",
            "88/88 [==============================] - 0s 3ms/step - loss: 0.6918 - accuracy: 0.6643 - val_loss: 0.6916 - val_accuracy: 0.7900\n",
            "Epoch 4/100\n",
            "88/88 [==============================] - 0s 3ms/step - loss: 0.6913 - accuracy: 0.6682 - val_loss: 0.6912 - val_accuracy: 0.7143\n",
            "Epoch 5/100\n",
            "88/88 [==============================] - 0s 3ms/step - loss: 0.6907 - accuracy: 0.7471 - val_loss: 0.6905 - val_accuracy: 0.9229\n",
            "Epoch 6/100\n",
            "88/88 [==============================] - 0s 3ms/step - loss: 0.6901 - accuracy: 0.9261 - val_loss: 0.6896 - val_accuracy: 0.9214\n",
            "Epoch 7/100\n",
            "88/88 [==============================] - 0s 3ms/step - loss: 0.6891 - accuracy: 0.8107 - val_loss: 0.6885 - val_accuracy: 0.8386\n",
            "Epoch 8/100\n",
            "88/88 [==============================] - 0s 3ms/step - loss: 0.6880 - accuracy: 0.7714 - val_loss: 0.6872 - val_accuracy: 0.9114\n",
            "Epoch 9/100\n",
            "88/88 [==============================] - 0s 3ms/step - loss: 0.6864 - accuracy: 0.8029 - val_loss: 0.6853 - val_accuracy: 0.9000\n",
            "Epoch 10/100\n",
            "88/88 [==============================] - 0s 3ms/step - loss: 0.6843 - accuracy: 0.8764 - val_loss: 0.6827 - val_accuracy: 0.8600\n",
            "Epoch 11/100\n",
            "88/88 [==============================] - 0s 3ms/step - loss: 0.6813 - accuracy: 0.8493 - val_loss: 0.6790 - val_accuracy: 0.8443\n",
            "Epoch 12/100\n",
            "88/88 [==============================] - 0s 3ms/step - loss: 0.6770 - accuracy: 0.8179 - val_loss: 0.6744 - val_accuracy: 0.9400\n",
            "Epoch 13/100\n",
            "88/88 [==============================] - 0s 4ms/step - loss: 0.6707 - accuracy: 0.9314 - val_loss: 0.6658 - val_accuracy: 0.9043\n",
            "Epoch 14/100\n",
            "88/88 [==============================] - 0s 4ms/step - loss: 0.6606 - accuracy: 0.8529 - val_loss: 0.6552 - val_accuracy: 0.9500\n",
            "Epoch 15/100\n",
            "88/88 [==============================] - 0s 4ms/step - loss: 0.6447 - accuracy: 0.9550 - val_loss: 0.6322 - val_accuracy: 0.9429\n",
            "Epoch 16/100\n",
            "88/88 [==============================] - 0s 4ms/step - loss: 0.6173 - accuracy: 0.9546 - val_loss: 0.5964 - val_accuracy: 0.9314\n",
            "Epoch 17/100\n",
            "88/88 [==============================] - 0s 5ms/step - loss: 0.5704 - accuracy: 0.9568 - val_loss: 0.5467 - val_accuracy: 0.9543\n",
            "Epoch 18/100\n",
            "88/88 [==============================] - 0s 5ms/step - loss: 0.4965 - accuracy: 0.9554 - val_loss: 0.4450 - val_accuracy: 0.9371\n",
            "Epoch 19/100\n",
            "88/88 [==============================] - 0s 4ms/step - loss: 0.3916 - accuracy: 0.9582 - val_loss: 0.3742 - val_accuracy: 0.9500\n",
            "Epoch 20/100\n",
            "88/88 [==============================] - 0s 4ms/step - loss: 0.2892 - accuracy: 0.9561 - val_loss: 0.2503 - val_accuracy: 0.9414\n",
            "Epoch 21/100\n",
            "88/88 [==============================] - 0s 4ms/step - loss: 0.2161 - accuracy: 0.9564 - val_loss: 0.2621 - val_accuracy: 0.9371\n",
            "Epoch 22/100\n",
            "88/88 [==============================] - 0s 4ms/step - loss: 0.1744 - accuracy: 0.9589 - val_loss: 0.1621 - val_accuracy: 0.9343\n",
            "Epoch 23/100\n",
            "88/88 [==============================] - 0s 5ms/step - loss: 0.1413 - accuracy: 0.9564 - val_loss: 0.1574 - val_accuracy: 0.9529\n",
            "Epoch 24/100\n",
            "88/88 [==============================] - 0s 4ms/step - loss: 0.1320 - accuracy: 0.9571 - val_loss: 0.1447 - val_accuracy: 0.9514\n",
            "Epoch 25/100\n",
            "88/88 [==============================] - 0s 3ms/step - loss: 0.1195 - accuracy: 0.9589 - val_loss: 0.1384 - val_accuracy: 0.9443\n",
            "Epoch 26/100\n",
            "88/88 [==============================] - 0s 3ms/step - loss: 0.1146 - accuracy: 0.9554 - val_loss: 0.1257 - val_accuracy: 0.9400\n",
            "Epoch 27/100\n",
            "88/88 [==============================] - 0s 3ms/step - loss: 0.1079 - accuracy: 0.9571 - val_loss: 0.1292 - val_accuracy: 0.9500\n",
            "Epoch 28/100\n",
            "88/88 [==============================] - 0s 3ms/step - loss: 0.1026 - accuracy: 0.9586 - val_loss: 0.1562 - val_accuracy: 0.9543\n",
            "Epoch 29/100\n",
            "88/88 [==============================] - 0s 3ms/step - loss: 0.1008 - accuracy: 0.9589 - val_loss: 0.1209 - val_accuracy: 0.9357\n",
            "Epoch 30/100\n",
            "88/88 [==============================] - 0s 3ms/step - loss: 0.1039 - accuracy: 0.9543 - val_loss: 0.1229 - val_accuracy: 0.9357\n",
            "Epoch 31/100\n",
            "88/88 [==============================] - 0s 3ms/step - loss: 0.0990 - accuracy: 0.9568 - val_loss: 0.1499 - val_accuracy: 0.9443\n",
            "Epoch 32/100\n",
            "88/88 [==============================] - 0s 3ms/step - loss: 0.0960 - accuracy: 0.9600 - val_loss: 0.1254 - val_accuracy: 0.9500\n",
            "Epoch 33/100\n",
            "88/88 [==============================] - 0s 3ms/step - loss: 0.0948 - accuracy: 0.9600 - val_loss: 0.1271 - val_accuracy: 0.9514\n",
            "Epoch 34/100\n",
            "88/88 [==============================] - 0s 3ms/step - loss: 0.0975 - accuracy: 0.9550 - val_loss: 0.4055 - val_accuracy: 0.8029\n",
            "Epoch 35/100\n",
            "88/88 [==============================] - 0s 3ms/step - loss: 0.0993 - accuracy: 0.9561 - val_loss: 0.1321 - val_accuracy: 0.9514\n",
            "Epoch 36/100\n",
            "88/88 [==============================] - 0s 3ms/step - loss: 0.0944 - accuracy: 0.9564 - val_loss: 0.1623 - val_accuracy: 0.9443\n",
            "Epoch 37/100\n",
            "88/88 [==============================] - 0s 3ms/step - loss: 0.0938 - accuracy: 0.9611 - val_loss: 0.1256 - val_accuracy: 0.9400\n",
            "Epoch 38/100\n",
            "88/88 [==============================] - 0s 3ms/step - loss: 0.0988 - accuracy: 0.9575 - val_loss: 0.1210 - val_accuracy: 0.9357\n",
            "Epoch 39/100\n",
            "88/88 [==============================] - 0s 3ms/step - loss: 0.0959 - accuracy: 0.9589 - val_loss: 0.1215 - val_accuracy: 0.9357\n",
            "Epoch 40/100\n",
            "88/88 [==============================] - 0s 3ms/step - loss: 0.0982 - accuracy: 0.9554 - val_loss: 0.1590 - val_accuracy: 0.9443\n",
            "Epoch 41/100\n",
            "88/88 [==============================] - 0s 2ms/step - loss: 0.0937 - accuracy: 0.9607 - val_loss: 0.1457 - val_accuracy: 0.9543\n",
            "Epoch 42/100\n",
            "88/88 [==============================] - 0s 2ms/step - loss: 0.0922 - accuracy: 0.9586 - val_loss: 0.1530 - val_accuracy: 0.9443\n",
            "Epoch 43/100\n",
            "88/88 [==============================] - 0s 2ms/step - loss: 0.0918 - accuracy: 0.9561 - val_loss: 0.1227 - val_accuracy: 0.9357\n",
            "Epoch 44/100\n",
            "88/88 [==============================] - 0s 3ms/step - loss: 0.0929 - accuracy: 0.9579 - val_loss: 0.1275 - val_accuracy: 0.9414\n",
            "Epoch 45/100\n",
            "88/88 [==============================] - 0s 3ms/step - loss: 0.0929 - accuracy: 0.9586 - val_loss: 0.1226 - val_accuracy: 0.9386\n",
            "Epoch 46/100\n",
            "88/88 [==============================] - 0s 3ms/step - loss: 0.0940 - accuracy: 0.9557 - val_loss: 0.2154 - val_accuracy: 0.9471\n",
            "Epoch 47/100\n",
            "88/88 [==============================] - 0s 3ms/step - loss: 0.0938 - accuracy: 0.9586 - val_loss: 0.1234 - val_accuracy: 0.9329\n",
            "Epoch 48/100\n",
            "88/88 [==============================] - 0s 3ms/step - loss: 0.0967 - accuracy: 0.9568 - val_loss: 0.1397 - val_accuracy: 0.9443\n",
            "Epoch 49/100\n",
            "88/88 [==============================] - 0s 3ms/step - loss: 0.0911 - accuracy: 0.9571 - val_loss: 0.1536 - val_accuracy: 0.9543\n",
            "Epoch 50/100\n",
            "88/88 [==============================] - 0s 3ms/step - loss: 0.0901 - accuracy: 0.9582 - val_loss: 0.1362 - val_accuracy: 0.9514\n",
            "Epoch 51/100\n",
            "88/88 [==============================] - 0s 4ms/step - loss: 0.0917 - accuracy: 0.9568 - val_loss: 0.1284 - val_accuracy: 0.9471\n",
            "Epoch 52/100\n",
            "88/88 [==============================] - 0s 3ms/step - loss: 0.0881 - accuracy: 0.9607 - val_loss: 0.1282 - val_accuracy: 0.9429\n",
            "Epoch 53/100\n",
            "88/88 [==============================] - 0s 3ms/step - loss: 0.0922 - accuracy: 0.9568 - val_loss: 0.1526 - val_accuracy: 0.9443\n",
            "Epoch 54/100\n",
            "88/88 [==============================] - 0s 3ms/step - loss: 0.0963 - accuracy: 0.9579 - val_loss: 0.1329 - val_accuracy: 0.9414\n",
            "Epoch 55/100\n",
            "88/88 [==============================] - 0s 3ms/step - loss: 0.0900 - accuracy: 0.9600 - val_loss: 0.1400 - val_accuracy: 0.9443\n",
            "Epoch 56/100\n",
            "88/88 [==============================] - 0s 3ms/step - loss: 0.0871 - accuracy: 0.9618 - val_loss: 0.1371 - val_accuracy: 0.9514\n",
            "Epoch 57/100\n",
            "88/88 [==============================] - 0s 3ms/step - loss: 0.0908 - accuracy: 0.9575 - val_loss: 0.1249 - val_accuracy: 0.9329\n",
            "Epoch 58/100\n",
            "88/88 [==============================] - 0s 3ms/step - loss: 0.0930 - accuracy: 0.9582 - val_loss: 0.1427 - val_accuracy: 0.9443\n",
            "Epoch 59/100\n",
            "88/88 [==============================] - 0s 3ms/step - loss: 0.0940 - accuracy: 0.9561 - val_loss: 0.1386 - val_accuracy: 0.9514\n",
            "Epoch 60/100\n",
            "88/88 [==============================] - 0s 3ms/step - loss: 0.0933 - accuracy: 0.9571 - val_loss: 0.1381 - val_accuracy: 0.9443\n",
            "Epoch 61/100\n",
            "88/88 [==============================] - 0s 4ms/step - loss: 0.0873 - accuracy: 0.9600 - val_loss: 0.1470 - val_accuracy: 0.9443\n",
            "Epoch 62/100\n",
            "88/88 [==============================] - 0s 5ms/step - loss: 0.0912 - accuracy: 0.9582 - val_loss: 0.1879 - val_accuracy: 0.9443\n",
            "Epoch 63/100\n",
            "88/88 [==============================] - 0s 4ms/step - loss: 0.0860 - accuracy: 0.9643 - val_loss: 0.1363 - val_accuracy: 0.9443\n",
            "Epoch 64/100\n",
            "88/88 [==============================] - 0s 4ms/step - loss: 0.0925 - accuracy: 0.9554 - val_loss: 0.1251 - val_accuracy: 0.9371\n",
            "Epoch 65/100\n",
            "88/88 [==============================] - 0s 4ms/step - loss: 0.0930 - accuracy: 0.9571 - val_loss: 0.1316 - val_accuracy: 0.9414\n",
            "Epoch 66/100\n",
            "88/88 [==============================] - 0s 4ms/step - loss: 0.0897 - accuracy: 0.9582 - val_loss: 0.1326 - val_accuracy: 0.9400\n",
            "Epoch 67/100\n",
            "88/88 [==============================] - 0s 4ms/step - loss: 0.0907 - accuracy: 0.9582 - val_loss: 0.1425 - val_accuracy: 0.9443\n",
            "Epoch 68/100\n",
            "88/88 [==============================] - 0s 4ms/step - loss: 0.0938 - accuracy: 0.9589 - val_loss: 0.1355 - val_accuracy: 0.9514\n",
            "Epoch 69/100\n",
            "88/88 [==============================] - 0s 4ms/step - loss: 0.0856 - accuracy: 0.9586 - val_loss: 0.1255 - val_accuracy: 0.9343\n",
            "Epoch 70/100\n",
            "88/88 [==============================] - 0s 4ms/step - loss: 0.0907 - accuracy: 0.9582 - val_loss: 0.1265 - val_accuracy: 0.9429\n",
            "Epoch 71/100\n",
            "88/88 [==============================] - 0s 4ms/step - loss: 0.0884 - accuracy: 0.9564 - val_loss: 0.1528 - val_accuracy: 0.9443\n",
            "Epoch 72/100\n",
            "88/88 [==============================] - 0s 4ms/step - loss: 0.0854 - accuracy: 0.9596 - val_loss: 0.1335 - val_accuracy: 0.9500\n",
            "Epoch 73/100\n",
            "88/88 [==============================] - 0s 4ms/step - loss: 0.0957 - accuracy: 0.9579 - val_loss: 0.1285 - val_accuracy: 0.9414\n",
            "Epoch 74/100\n",
            "88/88 [==============================] - 0s 4ms/step - loss: 0.0908 - accuracy: 0.9589 - val_loss: 0.1408 - val_accuracy: 0.9443\n",
            "Epoch 75/100\n",
            "88/88 [==============================] - 0s 3ms/step - loss: 0.0861 - accuracy: 0.9600 - val_loss: 0.1250 - val_accuracy: 0.9357\n",
            "Epoch 76/100\n",
            "88/88 [==============================] - 0s 3ms/step - loss: 0.0928 - accuracy: 0.9561 - val_loss: 0.1378 - val_accuracy: 0.9457\n",
            "Epoch 77/100\n",
            "88/88 [==============================] - 0s 3ms/step - loss: 0.0869 - accuracy: 0.9621 - val_loss: 0.1251 - val_accuracy: 0.9357\n",
            "Epoch 78/100\n",
            "88/88 [==============================] - 0s 3ms/step - loss: 0.0859 - accuracy: 0.9621 - val_loss: 0.1575 - val_accuracy: 0.9443\n",
            "Epoch 79/100\n",
            "88/88 [==============================] - 0s 3ms/step - loss: 0.0887 - accuracy: 0.9575 - val_loss: 0.1894 - val_accuracy: 0.9443\n",
            "Epoch 80/100\n",
            "88/88 [==============================] - 0s 3ms/step - loss: 0.0916 - accuracy: 0.9579 - val_loss: 0.1255 - val_accuracy: 0.9343\n",
            "Epoch 81/100\n",
            "88/88 [==============================] - 0s 2ms/step - loss: 0.0897 - accuracy: 0.9579 - val_loss: 0.1263 - val_accuracy: 0.9400\n",
            "Epoch 82/100\n",
            "88/88 [==============================] - 0s 2ms/step - loss: 0.0880 - accuracy: 0.9561 - val_loss: 0.2537 - val_accuracy: 0.9414\n",
            "Epoch 83/100\n",
            "88/88 [==============================] - 0s 3ms/step - loss: 0.0925 - accuracy: 0.9582 - val_loss: 0.1332 - val_accuracy: 0.9500\n",
            "Epoch 84/100\n",
            "88/88 [==============================] - 0s 3ms/step - loss: 0.0860 - accuracy: 0.9579 - val_loss: 0.2315 - val_accuracy: 0.9429\n",
            "Epoch 85/100\n",
            "88/88 [==============================] - 0s 3ms/step - loss: 0.0923 - accuracy: 0.9596 - val_loss: 0.1421 - val_accuracy: 0.9443\n",
            "Epoch 86/100\n",
            "88/88 [==============================] - 0s 3ms/step - loss: 0.0915 - accuracy: 0.9518 - val_loss: 0.1295 - val_accuracy: 0.9471\n",
            "Epoch 87/100\n",
            "88/88 [==============================] - 0s 3ms/step - loss: 0.0895 - accuracy: 0.9579 - val_loss: 0.1968 - val_accuracy: 0.9529\n",
            "Epoch 88/100\n",
            "88/88 [==============================] - 0s 3ms/step - loss: 0.0890 - accuracy: 0.9557 - val_loss: 0.1535 - val_accuracy: 0.9443\n",
            "Epoch 89/100\n",
            "88/88 [==============================] - 0s 3ms/step - loss: 0.0904 - accuracy: 0.9586 - val_loss: 0.1299 - val_accuracy: 0.9414\n",
            "Epoch 90/100\n",
            "88/88 [==============================] - 0s 3ms/step - loss: 0.0881 - accuracy: 0.9575 - val_loss: 0.1468 - val_accuracy: 0.9514\n",
            "Epoch 91/100\n",
            "88/88 [==============================] - 0s 3ms/step - loss: 0.0890 - accuracy: 0.9611 - val_loss: 0.1253 - val_accuracy: 0.9343\n",
            "Epoch 92/100\n",
            "88/88 [==============================] - 0s 3ms/step - loss: 0.0853 - accuracy: 0.9579 - val_loss: 0.1284 - val_accuracy: 0.9471\n",
            "Epoch 93/100\n",
            "88/88 [==============================] - 0s 2ms/step - loss: 0.0880 - accuracy: 0.9604 - val_loss: 0.1269 - val_accuracy: 0.9371\n",
            "Epoch 94/100\n",
            "88/88 [==============================] - 0s 3ms/step - loss: 0.0864 - accuracy: 0.9579 - val_loss: 0.1259 - val_accuracy: 0.9371\n",
            "Epoch 95/100\n",
            "88/88 [==============================] - 0s 3ms/step - loss: 0.0858 - accuracy: 0.9600 - val_loss: 0.1464 - val_accuracy: 0.9514\n",
            "Epoch 96/100\n",
            "88/88 [==============================] - 0s 3ms/step - loss: 0.0899 - accuracy: 0.9600 - val_loss: 0.1304 - val_accuracy: 0.9471\n",
            "Epoch 97/100\n",
            "88/88 [==============================] - 0s 3ms/step - loss: 0.0837 - accuracy: 0.9639 - val_loss: 0.1305 - val_accuracy: 0.9471\n",
            "Epoch 98/100\n",
            "88/88 [==============================] - 0s 2ms/step - loss: 0.0850 - accuracy: 0.9589 - val_loss: 0.1607 - val_accuracy: 0.9443\n",
            "Epoch 99/100\n",
            "88/88 [==============================] - 0s 3ms/step - loss: 0.0869 - accuracy: 0.9618 - val_loss: 0.1411 - val_accuracy: 0.9443\n",
            "Epoch 100/100\n",
            "88/88 [==============================] - 0s 3ms/step - loss: 0.0854 - accuracy: 0.9625 - val_loss: 0.1399 - val_accuracy: 0.9443\n"
          ]
        }
      ]
    },
    {
      "cell_type": "code",
      "source": [
        "print(model3_history.history.keys())"
      ],
      "metadata": {
        "colab": {
          "base_uri": "https://localhost:8080/"
        },
        "id": "Qi-0vO_jawBC",
        "outputId": "38464012-efa7-49d4-8f31-c8de989b8358"
      },
      "execution_count": 103,
      "outputs": [
        {
          "output_type": "stream",
          "name": "stdout",
          "text": [
            "dict_keys(['loss', 'accuracy', 'val_loss', 'val_accuracy'])\n"
          ]
        }
      ]
    },
    {
      "cell_type": "code",
      "source": [
        "plt.plot(model3_history.history['accuracy'])\n",
        "plt.plot(model3_history.history['val_accuracy'])\n",
        "plt.title('accuracy Plot')\n",
        "plt.ylabel('accuracy')\n",
        "plt.xlabel('Epoch')\n",
        "plt.legend(['Train', 'Validation'])\n",
        "plt.show()"
      ],
      "metadata": {
        "colab": {
          "base_uri": "https://localhost:8080/",
          "height": 472
        },
        "id": "eeFxj3gZculi",
        "outputId": "461c4392-52c6-4dce-bdb0-a0ed641b9543"
      },
      "execution_count": 104,
      "outputs": [
        {
          "output_type": "display_data",
          "data": {
            "text/plain": [
              "<Figure size 640x480 with 1 Axes>"
            ],
            "image/png": "[encoded data removed]"
          },
          "metadata": {}
        }
      ]
    },
    {
      "cell_type": "code",
      "source": [
        "plt.plot(model1_history.history['loss'])\n",
        "plt.plot(model1_history.history['val_loss'])\n",
        "plt.title('Loss Function Plot')\n",
        "plt.ylabel('Loss')\n",
        "plt.xlabel('Epoch')\n",
        "plt.legend(['Train', 'Validation'])\n",
        "plt.show()"
      ],
      "metadata": {
        "colab": {
          "base_uri": "https://localhost:8080/",
          "height": 472
        },
        "id": "UMVbZDPCc6LI",
        "outputId": "3168bb86-d61c-46c1-8f67-c7df7477c3f3"
      },
      "execution_count": 105,
      "outputs": [
        {
          "output_type": "display_data",
          "data": {
            "text/plain": [
              "<Figure size 640x480 with 1 Axes>"
            ],
            "image/png": "[encoded data removed]"
          },
          "metadata": {}
        }
      ]
    },
    {
      "cell_type": "code",
      "source": [
        "test_predicted_probabilities3 = mlp_model3.predict(X_test_arr)\n",
        "train_predicted_probabilities3 = mlp_model3.predict(X_train_arr)\n",
        "\n",
        "test_pred_class_labels3 = [0 if val<0.5 else 1 for val in test_predicted_probabilities3]\n",
        "train_pred_class_labels3 = [0 if val<0.5 else 1 for val in train_predicted_probabilities3]\n",
        "\n",
        "eval_metric(y_train, train_pred_class_labels, y_test, test_pred_class_labels)"
      ],
      "metadata": {
        "colab": {
          "base_uri": "https://localhost:8080/"
        },
        "id": "DqEoX9SPc6Nm",
        "outputId": "41eabeb8-4c46-4bca-f905-3160e8b93d19"
      },
      "execution_count": 106,
      "outputs": [
        {
          "output_type": "stream",
          "name": "stdout",
          "text": [
            "47/47 [==============================] - 0s 5ms/step\n",
            "110/110 [==============================] - 1s 6ms/step\n",
            "The train accuracy score is 0.9517142857142857\n",
            "The test accuracy score is 0.9506995336442372\n",
            " --------------------------------------------\n",
            "                Train Report\n",
            "-------------------------------------------- \n",
            "The confusion matrix  is\n",
            " [[1661   89]\n",
            " [  80 1670]]\n",
            "The classification report is\n",
            "               precision    recall  f1-score   support\n",
            "\n",
            "           0       0.95      0.95      0.95      1750\n",
            "           1       0.95      0.95      0.95      1750\n",
            "\n",
            "    accuracy                           0.95      3500\n",
            "   macro avg       0.95      0.95      0.95      3500\n",
            "weighted avg       0.95      0.95      0.95      3500\n",
            "\n",
            " --------------------------------------------\n",
            "                Test Report\n",
            "-------------------------------------------- \n",
            "The confusion matrix  is\n",
            " [[717  34]\n",
            " [ 40 710]]\n",
            "The classification report  is\n",
            "               precision    recall  f1-score   support\n",
            "\n",
            "           0       0.95      0.95      0.95       751\n",
            "           1       0.95      0.95      0.95       750\n",
            "\n",
            "    accuracy                           0.95      1501\n",
            "   macro avg       0.95      0.95      0.95      1501\n",
            "weighted avg       0.95      0.95      0.95      1501\n",
            "\n"
          ]
        }
      ]
    },
    {
      "cell_type": "code",
      "source": [],
      "metadata": {
        "id": "Yq6AufQxc6RF"
      },
      "execution_count": 74,
      "outputs": []
    }
  ]
}